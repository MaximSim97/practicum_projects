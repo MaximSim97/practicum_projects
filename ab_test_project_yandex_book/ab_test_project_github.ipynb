{
 "cells": [
  {
   "cell_type": "markdown",
   "id": "e06910dd",
   "metadata": {
    "id": "e06910dd"
   },
   "source": [
    "# Яндекс.Книги. Анализ активности.\n",
    "\n",
    "- Автор: Симуткин М.А.\n",
    "- Дата: 14.07.25"
   ]
  },
  {
   "cell_type": "markdown",
   "id": "4149134c",
   "metadata": {
    "id": "4149134c"
   },
   "source": [
    "## Цели и задачи проекта\n",
    "\n",
    "- Провести A/B-тестирование пользователей сервиса Яндекс.Книги.\n",
    "- Провести оценку корректности проведения A/B-теста.\n",
    "- Анализ результата."
   ]
  },
  {
   "cell_type": "markdown",
   "id": "728986ea",
   "metadata": {
    "id": "728986ea"
   },
   "source": [
    "## Описание данных\n",
    "\n",
    "\n",
    "**таблица пользователей из Москвы и Санкт-Петербурга.**  \n",
    "- `city` — город пользователя;\n",
    "- `puid` — идентификатор пользователя;\n",
    "- `hours` — общее количество часов активности (вычисляется по полю hours).  \n",
    "\n",
    "\n",
    "**таблица участников тестов.**  \n",
    "Структура файла:\n",
    "- `user_id` — идентификатор пользователя;\n",
    "- `group` — группа пользователя;\n",
    "- `ab_test` — название теста;\n",
    "- `device` — устройство, с которого происходила регистрация.  \n",
    "\n",
    "\n",
    "**архив с одним csv-файлом, в котором собраны события 2020 года.**  \n",
    "Структура файла:\n",
    "- `user_id` — идентификатор пользователя;\n",
    "- `event_dt` — дата и время события;\n",
    "- `event_name` — тип события;\n",
    "- `details` — дополнительные данные о событии."
   ]
  },
  {
   "cell_type": "markdown",
   "id": "4fecaf95",
   "metadata": {
    "id": "4fecaf95"
   },
   "source": [
    "## Содержимое проекта\n",
    "\n",
    "- **Часть 1. Проверка гипотезы в Python и составление аналитической записки:**\n",
    "    - Цели и задачи проекта\n",
    "    - Описание данных\n",
    "    - Загрузка данных и знакомство с ними\n",
    "    - Проверка гипотезы в Python\n",
    "    - Аналитическая записка\n",
    "- **Часть 2. Анализ результатов A/B-тестирования:**\n",
    "    - Цели исследования\n",
    "    - Загрузка данных и проверка целостности\n",
    "    - Оценка корректности проведения теста\n",
    "    - Оценка результатов проведенного теста"
   ]
  },
  {
   "cell_type": "markdown",
   "id": "6f7d21d6",
   "metadata": {
    "id": "6f7d21d6"
   },
   "source": [
    "## 1. Загрузка данных и знакомство с ними"
   ]
  },
  {
   "cell_type": "code",
   "execution_count": 1,
   "id": "05faf34b",
   "metadata": {
    "id": "05faf34b"
   },
   "outputs": [],
   "source": [
    "#импорт библиотек для дальнейшей работы\n",
    "import pandas as pd\n",
    "import matplotlib.pyplot as plt\n",
    "import seaborn as sns\n",
    "import numpy as np"
   ]
  },
  {
   "cell_type": "code",
   "execution_count": 2,
   "id": "0daf8ee9",
   "metadata": {},
   "outputs": [],
   "source": [
    "#импорт методов из библиотек\n",
    "from scipy import stats\n",
    "from scipy.stats import mannwhitneyu\n",
    "from statsmodels.stats.power import zt_ind_solve_power\n",
    "from statsmodels.stats.proportion import proportion_effectsize\n",
    "from statsmodels.stats.proportion import proportions_ztest\n",
    "from statsmodels.stats.power import NormalIndPower"
   ]
  },
  {
   "cell_type": "code",
   "execution_count": 3,
   "id": "ce87c1db",
   "metadata": {
    "id": "ce87c1db",
    "scrolled": false
   },
   "outputs": [],
   "source": [
    "#загрузка данных\n",
    "df_yandex_book_test = pd.read_csv('https://code.s3.yandex.net/datasets/yandex_knigi_data.csv')"
   ]
  },
  {
   "cell_type": "code",
   "execution_count": 4,
   "id": "2d95a7fb",
   "metadata": {},
   "outputs": [
    {
     "data": {
      "text/html": [
       "<div>\n",
       "<style scoped>\n",
       "    .dataframe tbody tr th:only-of-type {\n",
       "        vertical-align: middle;\n",
       "    }\n",
       "\n",
       "    .dataframe tbody tr th {\n",
       "        vertical-align: top;\n",
       "    }\n",
       "\n",
       "    .dataframe thead th {\n",
       "        text-align: right;\n",
       "    }\n",
       "</style>\n",
       "<table border=\"1\" class=\"dataframe\">\n",
       "  <thead>\n",
       "    <tr style=\"text-align: right;\">\n",
       "      <th></th>\n",
       "      <th>city</th>\n",
       "      <th>puid</th>\n",
       "      <th>hours</th>\n",
       "    </tr>\n",
       "  </thead>\n",
       "  <tbody>\n",
       "    <tr>\n",
       "      <th>0</th>\n",
       "      <td>Москва</td>\n",
       "      <td>9668</td>\n",
       "      <td>26.167776</td>\n",
       "    </tr>\n",
       "    <tr>\n",
       "      <th>1</th>\n",
       "      <td>Москва</td>\n",
       "      <td>16598</td>\n",
       "      <td>82.111217</td>\n",
       "    </tr>\n",
       "    <tr>\n",
       "      <th>2</th>\n",
       "      <td>Москва</td>\n",
       "      <td>80401</td>\n",
       "      <td>4.656906</td>\n",
       "    </tr>\n",
       "    <tr>\n",
       "      <th>3</th>\n",
       "      <td>Москва</td>\n",
       "      <td>140205</td>\n",
       "      <td>1.840556</td>\n",
       "    </tr>\n",
       "    <tr>\n",
       "      <th>4</th>\n",
       "      <td>Москва</td>\n",
       "      <td>248755</td>\n",
       "      <td>151.326434</td>\n",
       "    </tr>\n",
       "  </tbody>\n",
       "</table>\n",
       "</div>"
      ],
      "text/plain": [
       "     city    puid       hours\n",
       "0  Москва    9668   26.167776\n",
       "1  Москва   16598   82.111217\n",
       "2  Москва   80401    4.656906\n",
       "3  Москва  140205    1.840556\n",
       "4  Москва  248755  151.326434"
      ]
     },
     "execution_count": 4,
     "metadata": {},
     "output_type": "execute_result"
    }
   ],
   "source": [
    "#удаление лишнего индексного столбца\n",
    "df_yandex_book_test.drop(columns=['Unnamed: 0'], inplace=True)\n",
    "\n",
    "df_yandex_book_test.head(5)"
   ]
  },
  {
   "cell_type": "code",
   "execution_count": 5,
   "id": "2694b0d2",
   "metadata": {},
   "outputs": [
    {
     "name": "stdout",
     "output_type": "stream",
     "text": [
      "<class 'pandas.core.frame.DataFrame'>\n",
      "RangeIndex: 8784 entries, 0 to 8783\n",
      "Data columns (total 3 columns):\n",
      " #   Column  Non-Null Count  Dtype  \n",
      "---  ------  --------------  -----  \n",
      " 0   city    8784 non-null   object \n",
      " 1   puid    8784 non-null   int64  \n",
      " 2   hours   8784 non-null   float64\n",
      "dtypes: float64(1), int64(1), object(1)\n",
      "memory usage: 206.0+ KB\n"
     ]
    }
   ],
   "source": [
    "df_yandex_book_test.info()"
   ]
  },
  {
   "cell_type": "code",
   "execution_count": 6,
   "id": "a4fb9a5c",
   "metadata": {},
   "outputs": [
    {
     "name": "stdout",
     "output_type": "stream",
     "text": [
      "Количество строк до удаления дубликатов: 8784\n",
      "Количество строк после удаления дубликатов: 8540\n"
     ]
    }
   ],
   "source": [
    "#удаление дубликатов\n",
    "print(\"Количество строк до удаления дубликатов:\", len(df_yandex_book_test))\n",
    "df_yandex_book_test = df_yandex_book_test.drop_duplicates(subset=['puid'])\n",
    "print(\"Количество строк после удаления дубликатов:\", len(df_yandex_book_test))"
   ]
  },
  {
   "cell_type": "code",
   "execution_count": 7,
   "id": "a803d689",
   "metadata": {},
   "outputs": [
    {
     "data": {
      "text/plain": [
       "count    8540.000000\n",
       "mean       10.984603\n",
       "std        37.677623\n",
       "min         0.000018\n",
       "25%         0.059927\n",
       "50%         0.909128\n",
       "75%         5.970493\n",
       "max       978.764775\n",
       "Name: hours, dtype: float64"
      ]
     },
     "metadata": {},
     "output_type": "display_data"
    }
   ],
   "source": [
    "#описательная статистика\n",
    "display(df_yandex_book_test['hours'].describe())"
   ]
  },
  {
   "cell_type": "code",
   "execution_count": 8,
   "id": "bdb2665c",
   "metadata": {},
   "outputs": [
    {
     "data": {
      "text/plain": [
       "Москва             6234\n",
       "Санкт-Петербург    2306\n",
       "Name: city, dtype: int64"
      ]
     },
     "metadata": {},
     "output_type": "display_data"
    }
   ],
   "source": [
    "#количество пользователей по городам\n",
    "display(df_yandex_book_test['city'].value_counts())"
   ]
  },
  {
   "cell_type": "code",
   "execution_count": 9,
   "id": "c534d4ee",
   "metadata": {},
   "outputs": [
    {
     "data": {
      "image/png": "[encoded data removed]",
      "text/plain": [
       "<Figure size 1080x576 with 1 Axes>"
      ]
     },
     "metadata": {
      "needs_background": "light"
     },
     "output_type": "display_data"
    }
   ],
   "source": [
    "#график распределения активности\n",
    "plt.figure(figsize=(15, 8))\n",
    "\n",
    "sns.histplot(data=df_yandex_book_test, \n",
    "             x='hours', \n",
    "             hue='city', \n",
    "             bins=40, \n",
    "             log_scale=True)\n",
    "\n",
    "plt.title('Распределение активности по городам')\n",
    "plt.xlabel('Часы активности')\n",
    "plt.ylabel('Количество пользователей')\n",
    "\n",
    "plt.tight_layout()\n",
    "plt.show()"
   ]
  },
  {
   "cell_type": "markdown",
   "id": "95973bfe",
   "metadata": {},
   "source": [
    "**Вывод:**\n",
    "- Удаленно 244 дубликата в данных\n",
    "- Большое стандартное отклонение по часовой активности - правосторонняя асимметрия.\n",
    "- Количество пользователей по городам различается в более, чем 2 раза."
   ]
  },
  {
   "cell_type": "markdown",
   "id": "956e82e2",
   "metadata": {
    "id": "956e82e2"
   },
   "source": [
    "## 2. Проверка гипотезы в Python\n",
    "\n",
    "- Нулевая гипотеза H₀: Средняя активность пользователей в часах в двух группах (Москва и Санкт-Петербург) не различается.\n",
    "\n",
    "- Альтернативная гипотеза H₁: Средняя активность пользователей в Санкт-Петербурге больше, и это различие статистически значимо."
   ]
  },
  {
   "cell_type": "code",
   "execution_count": 10,
   "id": "67956690",
   "metadata": {
    "id": "67956690"
   },
   "outputs": [],
   "source": [
    "#фильтрация групп\n",
    "user_spb = df_yandex_book_test[df_yandex_book_test['city'] == 'Санкт-Петербург']['hours']\n",
    "user_msk = df_yandex_book_test[df_yandex_book_test['city'] == 'Москва']['hours']"
   ]
  },
  {
   "cell_type": "code",
   "execution_count": 11,
   "id": "e0f4ae5d",
   "metadata": {
    "scrolled": true
   },
   "outputs": [
    {
     "name": "stdout",
     "output_type": "stream",
     "text": [
      "p-value = 0.6190\n",
      "Нулевая гипотеза. Различий в средней активности нет.\n"
     ]
    }
   ],
   "source": [
    "#односторонний тест Манна-Уитни\n",
    "u_stat, p_val = mannwhitneyu(user_spb, user_msk, alternative='greater')  # 'greater' — односторонняя гипотеза\n",
    "\n",
    "alpha = 0.05\n",
    "\n",
    "print(f'p-value = {p_val:.4f}')\n",
    "\n",
    "if p_val > alpha:\n",
    "    print(\"Нулевая гипотеза. Различий в средней активности нет.\")\n",
    "else:\n",
    "    print(\"Альтернативная гипотеза. Средняя активность в Санкт-Петербурге статистически значимо выше.\")"
   ]
  },
  {
   "cell_type": "markdown",
   "id": "6953e84c",
   "metadata": {
    "id": "6953e84c"
   },
   "source": [
    "## 3. Аналитическая записка\n",
    "\n",
    "- Выбранный тип теста и уровень статистической значимости.\n",
    "    - Для проверки гипотезы был использован непараметрический тест Манна-Уитни(U-test)\n",
    "    - Нет предположения о нормальном распределении данных(распределение правосторонне)\n",
    "    - Данный тип теста устойчив к выбросам, присутствующих в данных\n",
    "    - Уровень значимости = 0.05\n",
    "\n",
    "- Результат теста, или p-value.\n",
    "    - p-value = 0.6190\n",
    "\n",
    "- Вывод на основе полученного p-value, то есть интерпретацию результатов.\n",
    "    - Нулевая гипотеза. Различий в средней активности пользователей между Москвой и Санкт-Петербургом нет.\n",
    "\n",
    "- Возможные причины:\n",
    "    - Пользователи в обоих случаях - жители крупных мегаполисов с высоким уровнем доступности интернета, цифровой инфраструктурой, развитой культурой.\n",
    "\n"
   ]
  },
  {
   "cell_type": "markdown",
   "id": "hc1d6jVISegz",
   "metadata": {
    "id": "hc1d6jVISegz"
   },
   "source": [
    "----"
   ]
  },
  {
   "cell_type": "markdown",
   "id": "NqOUIYhbrIfC",
   "metadata": {
    "id": "NqOUIYhbrIfC"
   },
   "source": [
    "# Часть 2. Анализ результатов A/B-тестирования"
   ]
  },
  {
   "cell_type": "markdown",
   "id": "UNXAAyF5r9Rk",
   "metadata": {
    "id": "UNXAAyF5r9Rk"
   },
   "source": [
    "## Цели исследования.\n",
    "\n",
    "- Провести A/B-тестирование старого и нового интерфейса интернет-магазина BitMotion Kit.\n",
    "- Провести оценку результатов A/B-теста.\n",
    "- Анализ результата."
   ]
  },
  {
   "cell_type": "markdown",
   "id": "_CZryx2OsH-s",
   "metadata": {
    "id": "_CZryx2OsH-s"
   },
   "source": [
    "## 2. Загрузка данных"
   ]
  },
  {
   "cell_type": "code",
   "execution_count": 12,
   "id": "DjFcJbeGsTIg",
   "metadata": {
    "id": "DjFcJbeGsTIg"
   },
   "outputs": [],
   "source": [
    "participants = pd.read_csv('https://code.s3.yandex.net/datasets/ab_test_participants.csv')\n",
    "events = pd.read_csv('https://code.s3.yandex.net/datasets/ab_test_events.zip',\n",
    "                     parse_dates=['event_dt'], low_memory=False)"
   ]
  },
  {
   "cell_type": "code",
   "execution_count": 32,
   "id": "41b6b557",
   "metadata": {},
   "outputs": [
    {
     "name": "stdout",
     "output_type": "stream",
     "text": [
      "<class 'pandas.core.frame.DataFrame'>\n",
      "RangeIndex: 14525 entries, 0 to 14524\n",
      "Data columns (total 4 columns):\n",
      " #   Column   Non-Null Count  Dtype \n",
      "---  ------   --------------  ----- \n",
      " 0   user_id  14525 non-null  object\n",
      " 1   group    14525 non-null  object\n",
      " 2   ab_test  14525 non-null  object\n",
      " 3   device   14525 non-null  object\n",
      "dtypes: object(4)\n",
      "memory usage: 454.0+ KB\n"
     ]
    }
   ],
   "source": [
    "participants.info()"
   ]
  },
  {
   "cell_type": "code",
   "execution_count": 14,
   "id": "51f078d5",
   "metadata": {},
   "outputs": [
    {
     "data": {
      "text/html": [
       "<div>\n",
       "<style scoped>\n",
       "    .dataframe tbody tr th:only-of-type {\n",
       "        vertical-align: middle;\n",
       "    }\n",
       "\n",
       "    .dataframe tbody tr th {\n",
       "        vertical-align: top;\n",
       "    }\n",
       "\n",
       "    .dataframe thead th {\n",
       "        text-align: right;\n",
       "    }\n",
       "</style>\n",
       "<table border=\"1\" class=\"dataframe\">\n",
       "  <thead>\n",
       "    <tr style=\"text-align: right;\">\n",
       "      <th></th>\n",
       "      <th>user_id</th>\n",
       "      <th>group</th>\n",
       "      <th>ab_test</th>\n",
       "      <th>device</th>\n",
       "    </tr>\n",
       "  </thead>\n",
       "  <tbody>\n",
       "    <tr>\n",
       "      <th>0</th>\n",
       "      <td>0002CE61FF2C4011</td>\n",
       "      <td>B</td>\n",
       "      <td>interface_eu_test</td>\n",
       "      <td>Mac</td>\n",
       "    </tr>\n",
       "    <tr>\n",
       "      <th>1</th>\n",
       "      <td>001064FEAAB631A1</td>\n",
       "      <td>B</td>\n",
       "      <td>recommender_system_test</td>\n",
       "      <td>Android</td>\n",
       "    </tr>\n",
       "    <tr>\n",
       "      <th>2</th>\n",
       "      <td>001064FEAAB631A1</td>\n",
       "      <td>A</td>\n",
       "      <td>interface_eu_test</td>\n",
       "      <td>Android</td>\n",
       "    </tr>\n",
       "    <tr>\n",
       "      <th>3</th>\n",
       "      <td>0010A1C096941592</td>\n",
       "      <td>A</td>\n",
       "      <td>recommender_system_test</td>\n",
       "      <td>Android</td>\n",
       "    </tr>\n",
       "    <tr>\n",
       "      <th>4</th>\n",
       "      <td>001E72F50D1C48FA</td>\n",
       "      <td>A</td>\n",
       "      <td>interface_eu_test</td>\n",
       "      <td>Mac</td>\n",
       "    </tr>\n",
       "  </tbody>\n",
       "</table>\n",
       "</div>"
      ],
      "text/plain": [
       "            user_id group                  ab_test   device\n",
       "0  0002CE61FF2C4011     B        interface_eu_test      Mac\n",
       "1  001064FEAAB631A1     B  recommender_system_test  Android\n",
       "2  001064FEAAB631A1     A        interface_eu_test  Android\n",
       "3  0010A1C096941592     A  recommender_system_test  Android\n",
       "4  001E72F50D1C48FA     A        interface_eu_test      Mac"
      ]
     },
     "metadata": {},
     "output_type": "display_data"
    }
   ],
   "source": [
    "display(participants.head())"
   ]
  },
  {
   "cell_type": "code",
   "execution_count": 31,
   "id": "605608cc",
   "metadata": {},
   "outputs": [
    {
     "name": "stdout",
     "output_type": "stream",
     "text": [
      "<class 'pandas.core.frame.DataFrame'>\n",
      "RangeIndex: 787286 entries, 0 to 787285\n",
      "Data columns (total 4 columns):\n",
      " #   Column      Non-Null Count   Dtype         \n",
      "---  ------      --------------   -----         \n",
      " 0   user_id     787286 non-null  object        \n",
      " 1   event_dt    787286 non-null  datetime64[ns]\n",
      " 2   event_name  787286 non-null  object        \n",
      " 3   details     249022 non-null  object        \n",
      "dtypes: datetime64[ns](1), object(3)\n",
      "memory usage: 24.0+ MB\n"
     ]
    }
   ],
   "source": [
    "events.info()"
   ]
  },
  {
   "cell_type": "code",
   "execution_count": 16,
   "id": "f081fbc2",
   "metadata": {
    "scrolled": true
   },
   "outputs": [
    {
     "data": {
      "text/html": [
       "<div>\n",
       "<style scoped>\n",
       "    .dataframe tbody tr th:only-of-type {\n",
       "        vertical-align: middle;\n",
       "    }\n",
       "\n",
       "    .dataframe tbody tr th {\n",
       "        vertical-align: top;\n",
       "    }\n",
       "\n",
       "    .dataframe thead th {\n",
       "        text-align: right;\n",
       "    }\n",
       "</style>\n",
       "<table border=\"1\" class=\"dataframe\">\n",
       "  <thead>\n",
       "    <tr style=\"text-align: right;\">\n",
       "      <th></th>\n",
       "      <th>user_id</th>\n",
       "      <th>event_dt</th>\n",
       "      <th>event_name</th>\n",
       "      <th>details</th>\n",
       "    </tr>\n",
       "  </thead>\n",
       "  <tbody>\n",
       "    <tr>\n",
       "      <th>0</th>\n",
       "      <td>GLOBAL</td>\n",
       "      <td>2020-12-01 00:00:00</td>\n",
       "      <td>End of Black Friday Ads Campaign</td>\n",
       "      <td>ZONE_CODE15</td>\n",
       "    </tr>\n",
       "    <tr>\n",
       "      <th>1</th>\n",
       "      <td>CCBE9E7E99F94A08</td>\n",
       "      <td>2020-12-01 00:00:11</td>\n",
       "      <td>registration</td>\n",
       "      <td>0.0</td>\n",
       "    </tr>\n",
       "    <tr>\n",
       "      <th>2</th>\n",
       "      <td>GLOBAL</td>\n",
       "      <td>2020-12-01 00:00:25</td>\n",
       "      <td>product_page</td>\n",
       "      <td>NaN</td>\n",
       "    </tr>\n",
       "    <tr>\n",
       "      <th>3</th>\n",
       "      <td>CCBE9E7E99F94A08</td>\n",
       "      <td>2020-12-01 00:00:33</td>\n",
       "      <td>login</td>\n",
       "      <td>NaN</td>\n",
       "    </tr>\n",
       "    <tr>\n",
       "      <th>4</th>\n",
       "      <td>CCBE9E7E99F94A08</td>\n",
       "      <td>2020-12-01 00:00:52</td>\n",
       "      <td>product_page</td>\n",
       "      <td>NaN</td>\n",
       "    </tr>\n",
       "  </tbody>\n",
       "</table>\n",
       "</div>"
      ],
      "text/plain": [
       "            user_id            event_dt                        event_name  \\\n",
       "0            GLOBAL 2020-12-01 00:00:00  End of Black Friday Ads Campaign   \n",
       "1  CCBE9E7E99F94A08 2020-12-01 00:00:11                      registration   \n",
       "2            GLOBAL 2020-12-01 00:00:25                      product_page   \n",
       "3  CCBE9E7E99F94A08 2020-12-01 00:00:33                             login   \n",
       "4  CCBE9E7E99F94A08 2020-12-01 00:00:52                      product_page   \n",
       "\n",
       "       details  \n",
       "0  ZONE_CODE15  \n",
       "1          0.0  \n",
       "2          NaN  \n",
       "3          NaN  \n",
       "4          NaN  "
      ]
     },
     "metadata": {},
     "output_type": "display_data"
    }
   ],
   "source": [
    "display(events.head())"
   ]
  },
  {
   "cell_type": "code",
   "execution_count": 34,
   "id": "0d7d1e16",
   "metadata": {},
   "outputs": [
    {
     "data": {
      "text/plain": [
       "array(['End of Black Friday Ads Campaign', 'registration', 'product_page',\n",
       "       'login', 'product_cart', 'purchase',\n",
       "       'Start of Christmas&New Year Promo',\n",
       "       'Start of CIS New Year Gift Lottery'], dtype=object)"
      ]
     },
     "metadata": {},
     "output_type": "display_data"
    }
   ],
   "source": [
    "#все уникальные значения в столбце event_name\n",
    "unique_events = events['event_name'].unique()\n",
    "\n",
    "display(unique_events)"
   ]
  },
  {
   "cell_type": "markdown",
   "id": "a70a8ad2",
   "metadata": {},
   "source": [
    "**Вывод:**\n",
    "- `participants` - данные полные и соответсвуют описанию.\n",
    "- `events` - пропуски в малозначимом столбце `details`, данные соответсуют описанию."
   ]
  },
  {
   "cell_type": "markdown",
   "id": "CnzA-efasUrk",
   "metadata": {
    "id": "CnzA-efasUrk"
   },
   "source": [
    "## 3. По таблице `ab_test_participants` оцениваем корректность проведения теста:\n",
    "\n",
    "- соответствие требованиям технического задания,\n",
    "- равномерность распределения пользователей по группам теста,\n",
    "- отсутствие пересечений с конкурирующим тестом (нет пользователей, участвующих одновременно в двух тестовых группах)."
   ]
  },
  {
   "cell_type": "code",
   "execution_count": 18,
   "id": "87e634c0",
   "metadata": {},
   "outputs": [
    {
     "name": "stdout",
     "output_type": "stream",
     "text": [
      "Найдено 446 пользователей, участвующих в нескольких группах.\n",
      "Удалено 446 пользователей с пересечениями.\n"
     ]
    }
   ],
   "source": [
    "#смотрим пересечение групп\n",
    "user_group_counts = participants.groupby('user_id')['group'].nunique()\n",
    "overlapping_users = user_group_counts[user_group_counts > 1]\n",
    "\n",
    "if not overlapping_users.empty:\n",
    "    print(f\"Найдено {len(overlapping_users)} пользователей, участвующих в нескольких группах.\")\n",
    "    \n",
    "    #удаляем таких пользователей из таблицы\n",
    "    filtered_participants = participants[\n",
    "        ~participants['user_id'].isin(overlapping_users.index)]\n",
    "    print(f\"Удалено {len(overlapping_users)} пользователей с пересечениями.\")\n",
    "else:\n",
    "    print(\"Пересечений между группами нет. Таблица корректна.\")\n",
    "    filtered_participants = participants.copy()"
   ]
  },
  {
   "cell_type": "code",
   "execution_count": 19,
   "id": "f76f9284",
   "metadata": {},
   "outputs": [],
   "source": [
    "#фильтрация необходимого теста\n",
    "filtered_participants = filtered_participants[filtered_participants['ab_test'] == 'interface_eu_test']"
   ]
  },
  {
   "cell_type": "code",
   "execution_count": 20,
   "id": "e28eea05",
   "metadata": {},
   "outputs": [
    {
     "name": "stdout",
     "output_type": "stream",
     "text": [
      "Количество пользователей до очистки: 14525\n",
      "Количество пользователей после очистки: 10404\n"
     ]
    }
   ],
   "source": [
    "print(\"Количество пользователей до очистки:\", len(participants))\n",
    "print(\"Количество пользователей после очистки:\", len(filtered_participants))"
   ]
  },
  {
   "cell_type": "markdown",
   "id": "GjulgSrlsqUU",
   "metadata": {
    "id": "GjulgSrlsqUU"
   },
   "source": [
    "3\\.2 Проанализируйте данные о пользовательской активности по таблице `ab_test_events`:  \n",
    "\n",
    "Оставьте только события, связанные с участвующими в изучаемом тесте пользователями;"
   ]
  },
  {
   "cell_type": "code",
   "execution_count": 21,
   "id": "QMt0Ybo_swDK",
   "metadata": {
    "id": "QMt0Ybo_swDK",
    "scrolled": false
   },
   "outputs": [
    {
     "name": "stdout",
     "output_type": "stream",
     "text": [
      "Количество событий до фильтрации: 787286\n",
      "Количество событий после фильтрации: 76599\n"
     ]
    }
   ],
   "source": [
    "#фильтруем пользователей по нужному событию\n",
    "filtered_events = events[events['user_id'].isin(filtered_participants['user_id'])]\n",
    "\n",
    "print(\"Количество событий до фильтрации:\", len(events))\n",
    "print(\"Количество событий после фильтрации:\", len(filtered_events))"
   ]
  },
  {
   "cell_type": "code",
   "execution_count": 22,
   "id": "06b8b1e5",
   "metadata": {},
   "outputs": [
    {
     "name": "stdout",
     "output_type": "stream",
     "text": [
      "Распределение пользователей по группам:\n",
      "group\n",
      "A    5277\n",
      "B    5127\n",
      "Name: user_id, dtype: int64\n"
     ]
    }
   ],
   "source": [
    "group_distribution = filtered_participants.groupby('group')['user_id'].count()\n",
    "print(\"Распределение пользователей по группам:\")\n",
    "print(group_distribution)"
   ]
  },
  {
   "cell_type": "markdown",
   "id": "166d6704",
   "metadata": {},
   "source": [
    "**Вывод:**\n",
    "- В данных имелись дубликаты и пересечения пользователей по группам тестирования\n",
    "- Создано два датафрейма с фильтрацией `filtered_participants` и `filtered_events`"
   ]
  },
  {
   "cell_type": "code",
   "execution_count": 23,
   "id": "sES4-dKts0Yb",
   "metadata": {
    "id": "sES4-dKts0Yb",
    "scrolled": true
   },
   "outputs": [
    {
     "name": "stdout",
     "output_type": "stream",
     "text": [
      "Количество событий до фильтрации по лайфтайму: 76599\n",
      "Количество событий после фильтрации: 68243\n"
     ]
    }
   ],
   "source": [
    "#найдём дату регистрации для каждого пользователя\n",
    "registrations = (\n",
    "    filtered_events[filtered_events['event_name'] == 'registration']\n",
    "    .groupby('user_id')['event_dt']\n",
    "    .min()\n",
    "    .reset_index()\n",
    "    .rename(columns={'event_dt': 'registration_dt'})\n",
    ")\n",
    "\n",
    "#присоединим дату регистрации к таблице событий\n",
    "filtered_events_with_reg = filtered_events.merge(registrations, on='user_id', how='left')\n",
    "\n",
    "#рассчитаем разницу между событием и регистрацией\n",
    "filtered_events_with_reg['days_since_registration'] = (\n",
    "    filtered_events_with_reg['event_dt'] - filtered_events_with_reg['registration_dt']\n",
    ").dt.days\n",
    "\n",
    "#оставим только события, произошедшие в первые 7 дней после регистрации\n",
    "lifetime_events = filtered_events_with_reg[\n",
    "    filtered_events_with_reg['days_since_registration'].between(0, 7)\n",
    "]\n",
    "\n",
    "#вывод\n",
    "print(\"Количество событий до фильтрации по лайфтайму:\", len(filtered_events_with_reg))\n",
    "print(\"Количество событий после фильтрации:\", len(lifetime_events))"
   ]
  },
  {
   "cell_type": "code",
   "execution_count": 24,
   "id": "f345bf0c",
   "metadata": {},
   "outputs": [
    {
     "name": "stdout",
     "output_type": "stream",
     "text": [
      "Минимальный размер выборки на группу: 3759\n",
      "Общий размер выборки (A + B): 7519\n"
     ]
    }
   ],
   "source": [
    "## параметры теста\n",
    "alpha = 0.05 \n",
    "power = 0.8 #вероятность что нужные мне изменнения найдутся\n",
    "beta = 1-power #вероятность пропустить нужные мне изменения\n",
    "p1 = 0.3 #конверсия группы теста `A`\n",
    "mde = 0.03 #процент изменений, который мы хотит увидеть\n",
    "p2 = p1 + mde #конверсия для целевой группы `B`\n",
    "\n",
    "power_analysis = NormalIndPower()\n",
    "effect_size = (p2 - p1) / np.sqrt((p1*(1-p1) + p2*(1-p2))/2)\n",
    "\n",
    "#расчёт минимального размера выборки на одну группу\n",
    "sample_size = power_analysis.solve_power(\n",
    "    effect_size = effect_size,\n",
    "    power = power,\n",
    "    alpha = alpha,\n",
    "    ratio = 1\n",
    ")\n",
    "\n",
    "#общий объем выборки\n",
    "total_sample_size = sample_size * 2\n",
    "\n",
    "print(f\"Минимальный размер выборки на группу: {int(sample_size)}\")\n",
    "print(f\"Общий размер выборки (A + B): {int(total_sample_size)}\")"
   ]
  },
  {
   "cell_type": "code",
   "execution_count": 25,
   "id": "f317ecb5",
   "metadata": {
    "scrolled": true
   },
   "outputs": [
    {
     "name": "stdout",
     "output_type": "stream",
     "text": [
      "group\n",
      "A    5277\n",
      "B    5127\n",
      "Name: user_id, dtype: int64\n"
     ]
    }
   ],
   "source": [
    "group_distribution = filtered_participants.groupby('group')['user_id'].count()\n",
    "print(group_distribution)"
   ]
  },
  {
   "cell_type": "markdown",
   "id": "09b12a6b",
   "metadata": {},
   "source": [
    "**Вывод:** \n",
    "- Количества пользователей для проведения A/B-теста достаточно \n",
    "- Группы не имеют сильного количественного различия"
   ]
  },
  {
   "cell_type": "code",
   "execution_count": 26,
   "id": "7ph853Xks4sy",
   "metadata": {
    "id": "7ph853Xks4sy"
   },
   "outputs": [
    {
     "name": "stdout",
     "output_type": "stream",
     "text": [
      "Общее количество посетителей:\n",
      "group\n",
      "A    5277\n",
      "B    5127\n",
      "Name: user_id, dtype: int64\n",
      "\n",
      "Количество посетителей, совершивших покупку:\n",
      "group\n",
      "A    1515\n",
      "B    1584\n",
      "Name: user_id, dtype: int64\n",
      "\n",
      "Доля посетителей совершившие покупку (%):\n",
      "group\n",
      "A    28.71\n",
      "B    30.90\n",
      "Name: user_id, dtype: float64\n"
     ]
    }
   ],
   "source": [
    "#общее количество посетителей в каждой группе\n",
    "total_users_per_group = filtered_participants.groupby('group')['user_id'].count()\n",
    "print(\"Общее количество посетителей:\")\n",
    "print(total_users_per_group)\n",
    "\n",
    "#количество уникальных пользователей совершивших покупку\n",
    "purchasing_users = (\n",
    "    lifetime_events[lifetime_events['event_name'] == 'purchase']\n",
    "    .groupby('user_id')\n",
    "    .first()\n",
    "    .reset_index()\n",
    ")\n",
    "\n",
    "#присоединяем информацию о группе из filtered_participants\n",
    "purchasing_users_with_group = purchasing_users.merge(\n",
    "    filtered_participants[['user_id', 'group']],\n",
    "    on='user_id',\n",
    "    how='left'\n",
    ")\n",
    "\n",
    "#количество покупателей по группам\n",
    "purchasing_users_per_group = purchasing_users_with_group.groupby('group')['user_id'].count()\n",
    "print(\"\\nКоличество посетителей, совершивших покупку:\")\n",
    "print(purchasing_users_per_group)\n",
    "\n",
    "#конверсия в покупку\n",
    "conversion_rate = purchasing_users_per_group / total_users_per_group * 100\n",
    "print(\"\\nДоля посетителей совершившие покупку (%):\")\n",
    "print(conversion_rate.round(2))"
   ]
  },
  {
   "cell_type": "markdown",
   "id": "5deebb29",
   "metadata": {
    "id": "hHTHPkJYs8mE"
   },
   "source": [
    "**Предварительный вывод по результатам A/B-теста:**\n",
    "- `Целостность данных:`  \n",
    "В данных были обнаружены пересечения пользователей между группами (446 пользователей участвовали одновременно в нескольких тестах).  \n",
    "Эти пользователи были удалены для чистоты анализа.  \n",
    "После фильтрации осталось 10 404 пользователей в тесте interface_eu_test (5 277 в группе A и 5 127 в группе B).\n",
    "\n",
    "- `Распределение пользователей:`  \n",
    "Группы A и B распределены практически равномерно (разница в ~150 пользователей), что приемлемо для A/B-теста.\n",
    "\n",
    "- `Длительность анализа:`  \n",
    "События анализировались в течение первых 7 дней после регистрации пользователя.  \n",
    "Это позволило исключить долгосрочные эффекты и сосредоточиться на immediate impact изменений.\n",
    "\n",
    "- `Достаточность выборки:`  \n",
    "Для заданных параметров (конверсия 30%, мощность 80%, достоверность 95%) минимальный размер выборки на группу должен быть 3759 пользователя.   \n",
    "В нашем случае размер групп (~ 5 тыс.) достаточен для обнаружения эффекта в 3% (MDE).\n",
    "\n",
    "- `Конверсия в покупку:`  \n",
    "Группа A (контрольная): 28.71% пользователей совершили покупку.  \n",
    "Группа B (тестовая): 30.90% пользователей совершили покупку.  \n",
    "Разница между группами составляет 2.19 процентных пункта в пользу тестовой группы.\n",
    "\n",
    "- `Статистическая значимость:`  \n",
    "Без проведения статистического теста (например, z-теста) нельзя утверждать, что разница значима.  \n",
    "Однако визуально наблюдается положительный тренд в тестовой группе."
   ]
  },
  {
   "cell_type": "markdown",
   "id": "IKZ1Oo3Ws919",
   "metadata": {
    "id": "IKZ1Oo3Ws919"
   },
   "source": [
    "## 4. Проведите оценку результатов A/B-тестирования:"
   ]
  },
  {
   "cell_type": "markdown",
   "id": "cf5c8a04",
   "metadata": {
    "id": "l_KOziBQtL3t"
   },
   "source": [
    "Гипотеза A/B-тестирования:  \n",
    "- **H0:** Конверсия покупки в группах A и B одинакова.\n",
    "- **H1:** Конверсия покупки в группе B выше, чем в группе А."
   ]
  },
  {
   "cell_type": "code",
   "execution_count": 27,
   "id": "158efdae",
   "metadata": {},
   "outputs": [],
   "source": [
    "#получаем количество пользователей в каждой группе\n",
    "total_users = filtered_participants.groupby('group')['user_id'].count()\n",
    "#получаем количество пользователей, совершивших покупку в каждой группе\n",
    "purchased_users = purchasing_users_with_group.groupby('group')['user_id'].count()"
   ]
  },
  {
   "cell_type": "code",
   "execution_count": 28,
   "id": "cb16556d",
   "metadata": {},
   "outputs": [
    {
     "name": "stdout",
     "output_type": "stream",
     "text": [
      "Конверсия в группе B: 0.3090 (30.90%)\n",
      "Конверсия в группе A: 0.2871 (28.71%)\n",
      "Разница конверсий: 0.0219 (2.19 п.п.)\n"
     ]
    }
   ],
   "source": [
    "#создаем переменные для расчета конверсий\n",
    "n_B = total_users['B']\n",
    "x_B = purchased_users['B']\n",
    "\n",
    "n_A = total_users['A']\n",
    "x_A = purchased_users['A']\n",
    "\n",
    "#расчёт конверсий\n",
    "p_B = x_B / n_B\n",
    "p_A = x_A / n_A\n",
    "diff = p_B - p_A\n",
    "\n",
    "#вывод результатов\n",
    "print(f\"Конверсия в группе B: {p_B:.4f} ({p_B*100:.2f}%)\")\n",
    "print(f\"Конверсия в группе A: {p_A:.4f} ({p_A*100:.2f}%)\")\n",
    "print(f\"Разница конверсий: {diff:.4f} ({diff*100:.2f} п.п.)\")"
   ]
  },
  {
   "cell_type": "code",
   "execution_count": 29,
   "id": "e7283c19",
   "metadata": {},
   "outputs": [
    {
     "name": "stdout",
     "output_type": "stream",
     "text": [
      "\n",
      "Результаты Z-теста:\n",
      "Z-статистика: 2.4373\n",
      "p-value: 0.0148\n",
      "\n",
      "95% доверительный интервал разницы конверсий: [0.0043, 0.0394]\n",
      "Или в процентных пунктах: [0.43%, 3.94%]\n",
      "\n",
      "H1: Конверсия покупки в группе B выше, чем в группе А. (p < 0.05)\n"
     ]
    }
   ],
   "source": [
    "#Z-тест для пропорций\n",
    "count = np.array([x_B, x_A])  # Успехи в группах (B, A)\n",
    "nobs = np.array([n_B, n_A])   # Общее количество в группах (B, A)\n",
    "z_score, p_value = proportions_ztest(count, nobs, alternative='two-sided')\n",
    "\n",
    "print(\"\\nРезультаты Z-теста:\")\n",
    "print(f\"Z-статистика: {z_score:.4f}\")\n",
    "print(f\"p-value: {p_value:.4f}\")\n",
    "\n",
    "#доверительный интервал\n",
    "se = np.sqrt(p_A * (1 - p_A) / n_A + p_B * (1 - p_B) / n_B)\n",
    "ci_low = diff - 1.96 * se\n",
    "ci_high = diff + 1.96 * se\n",
    "\n",
    "print(f\"\\n95% доверительный интервал разницы конверсий: [{ci_low:.4f}, {ci_high:.4f}]\")\n",
    "print(f\"Или в процентных пунктах: [{ci_low*100:.2f}%, {ci_high*100:.2f}%]\")\n",
    "\n",
    "#проверка значимости\n",
    "alpha = 0.05\n",
    "\n",
    "if p_value < alpha:\n",
    "    print(\"\\nH1: Конверсия покупки в группе B выше, чем в группе А. (p < 0.05)\")\n",
    "else:\n",
    "    print(\"\\nH0: Конверсия покупки в группах A и B одинакова. (p ≥ 0.05)\")"
   ]
  },
  {
   "cell_type": "markdown",
   "id": "npoPPSKytKvR",
   "metadata": {
    "id": "npoPPSKytKvR"
   },
   "source": [
    "**Выводы по результатам A/B-тестирования:**\n",
    "\n",
    "- `Статистическая значимость:`  \n",
    "p-value = 0.0148 (< 0.05), что позволяет отвергнуть нулевую гипотезу (H0) о равенстве конверсий.  \n",
    "Z-статистика = 2.44 (превышает критическое значение для α = 0.05), подтверждая значимость различий.  \n",
    "95% доверительный интервал разницы конверсий: [0.43%, 3.94%] не включает ноль, что также указывает на значимость.  \n",
    "\n",
    "- `Эффект изменений:`  \n",
    "Конверсия в группе B (30.90%) оказалась выше, чем в группе A (28.71%).  \n",
    "Абсолютный прирост конверсии: +2.19 процентных пункта.  \n",
    "Относительный прирост: (30.90% / 28.71%) - 1 ≈ 7.6%.  \n",
    "\n",
    "- `Достаточность выборки:`  \n",
    "Объём выборки достаточен для обнаружения эффекта в 3% (MDE)\n",
    "\n",
    "- `Практическая значимость:`  \n",
    "Улучшение конверсии на 7.6% — существенный результат для бизнеса, особенно если масштабировать его на всех пользователей.  \n",
    "Однако необходимо учесть:\n",
    "Короткий горизонт анализа (7 дней): долгосрочный эффект может отличаться.\n",
    "\n",
    "- `Рекомендации:`  \n",
    "Внедрить изменения для всех пользователей, так как новый интерфейс показал улучшение конверсии.  \n",
    "Так как наблюдаемый эффект (2.19п.п.) меньше MDE,но все равно оказался статистически значимым, стоит рассмотреть возможность дальнейшей оптимизации интерфейса , чтобы усилить эффект и достичь целевых значений MDE."
   ]
  }
 ],
 "metadata": {
  "ExecuteTimeLog": [
   {
    "duration": 467,
    "start_time": "2025-07-16T05:59:55.362Z"
   },
   {
    "duration": 104,
    "start_time": "2025-07-16T06:00:56.839Z"
   },
   {
    "duration": 45,
    "start_time": "2025-07-16T06:00:59.639Z"
   },
   {
    "duration": 3,
    "start_time": "2025-07-16T06:01:01.722Z"
   },
   {
    "duration": 43,
    "start_time": "2025-07-16T06:01:02.078Z"
   },
   {
    "duration": 53,
    "start_time": "2025-07-16T06:01:15.694Z"
   },
   {
    "duration": 116,
    "start_time": "2025-07-16T06:12:52.957Z"
   },
   {
    "duration": 47,
    "start_time": "2025-07-16T06:12:56.852Z"
   },
   {
    "duration": 49,
    "start_time": "2025-07-16T06:13:01.052Z"
   },
   {
    "duration": 1071,
    "start_time": "2025-07-16T06:16:59.838Z"
   },
   {
    "duration": 62,
    "start_time": "2025-07-16T06:17:00.911Z"
   },
   {
    "duration": 53,
    "start_time": "2025-07-16T21:58:23.243Z"
   },
   {
    "duration": 7,
    "start_time": "2025-07-16T21:58:29.910Z"
   },
   {
    "duration": 7,
    "start_time": "2025-07-16T21:58:40.951Z"
   },
   {
    "duration": 6,
    "start_time": "2025-07-16T21:58:42.853Z"
   },
   {
    "duration": 7,
    "start_time": "2025-07-16T21:58:43.241Z"
   },
   {
    "duration": 6,
    "start_time": "2025-07-16T21:58:43.898Z"
   },
   {
    "duration": 1368,
    "start_time": "2025-07-16T21:58:44.660Z"
   },
   {
    "duration": 93,
    "start_time": "2025-07-16T21:58:46.030Z"
   },
   {
    "duration": 109,
    "start_time": "2025-07-16T21:58:46.125Z"
   },
   {
    "duration": 8,
    "start_time": "2025-07-16T21:59:00.377Z"
   },
   {
    "duration": 8,
    "start_time": "2025-07-16T21:59:12.510Z"
   },
   {
    "duration": 6,
    "start_time": "2025-07-16T21:59:20.283Z"
   },
   {
    "duration": 105,
    "start_time": "2025-07-16T21:59:44.032Z"
   },
   {
    "duration": 79,
    "start_time": "2025-07-16T21:59:54.129Z"
   },
   {
    "duration": 6,
    "start_time": "2025-07-16T21:59:57.009Z"
   },
   {
    "duration": 10,
    "start_time": "2025-07-16T22:00:22.306Z"
   },
   {
    "duration": 13,
    "start_time": "2025-07-16T22:00:34.127Z"
   },
   {
    "duration": 378,
    "start_time": "2025-07-16T22:00:42.881Z"
   },
   {
    "duration": 11,
    "start_time": "2025-07-16T22:01:53.305Z"
   },
   {
    "duration": 58,
    "start_time": "2025-07-16T22:01:53.849Z"
   },
   {
    "duration": 6,
    "start_time": "2025-07-16T22:01:54.805Z"
   },
   {
    "duration": 629,
    "start_time": "2025-07-16T22:02:07.531Z"
   },
   {
    "duration": 576,
    "start_time": "2025-07-16T22:02:12.251Z"
   },
   {
    "duration": 472,
    "start_time": "2025-07-16T22:02:43.518Z"
   },
   {
    "duration": 696,
    "start_time": "2025-07-16T22:02:53.418Z"
   },
   {
    "duration": 580,
    "start_time": "2025-07-16T22:03:28.139Z"
   },
   {
    "duration": 595,
    "start_time": "2025-07-16T22:03:35.815Z"
   },
   {
    "duration": 687,
    "start_time": "2025-07-16T22:04:15.091Z"
   },
   {
    "duration": 499,
    "start_time": "2025-07-16T22:04:19.662Z"
   },
   {
    "duration": 608,
    "start_time": "2025-07-16T22:04:26.668Z"
   },
   {
    "duration": 540,
    "start_time": "2025-07-16T22:04:34.714Z"
   },
   {
    "duration": 503,
    "start_time": "2025-07-16T22:04:49.332Z"
   },
   {
    "duration": 15,
    "start_time": "2025-07-16T22:06:05.542Z"
   },
   {
    "duration": 632,
    "start_time": "2025-07-16T22:06:11.054Z"
   },
   {
    "duration": 368,
    "start_time": "2025-07-16T22:06:25.396Z"
   },
   {
    "duration": 11,
    "start_time": "2025-07-16T22:06:31.550Z"
   },
   {
    "duration": 751,
    "start_time": "2025-07-16T22:06:37.761Z"
   },
   {
    "duration": 750,
    "start_time": "2025-07-16T22:07:00.388Z"
   },
   {
    "duration": 805,
    "start_time": "2025-07-16T22:08:25.990Z"
   },
   {
    "duration": 754,
    "start_time": "2025-07-16T22:08:34.704Z"
   },
   {
    "duration": 15,
    "start_time": "2025-07-16T22:08:39.219Z"
   },
   {
    "duration": 856,
    "start_time": "2025-07-16T22:08:43.202Z"
   },
   {
    "duration": 758,
    "start_time": "2025-07-16T22:09:23.407Z"
   },
   {
    "duration": 723,
    "start_time": "2025-07-16T22:09:28.513Z"
   },
   {
    "duration": 60,
    "start_time": "2025-07-16T22:13:57.017Z"
   },
   {
    "duration": 9,
    "start_time": "2025-07-16T22:14:41.025Z"
   },
   {
    "duration": 3,
    "start_time": "2025-07-16T22:14:49.572Z"
   },
   {
    "duration": 10,
    "start_time": "2025-07-16T22:14:50.735Z"
   },
   {
    "duration": 9,
    "start_time": "2025-07-16T22:14:54.622Z"
   },
   {
    "duration": 16,
    "start_time": "2025-07-16T22:15:02.432Z"
   },
   {
    "duration": 16,
    "start_time": "2025-07-16T22:15:06.299Z"
   },
   {
    "duration": 10,
    "start_time": "2025-07-16T22:15:50.131Z"
   },
   {
    "duration": 9,
    "start_time": "2025-07-16T22:15:53.513Z"
   },
   {
    "duration": 7,
    "start_time": "2025-07-16T22:27:22.203Z"
   },
   {
    "duration": 6,
    "start_time": "2025-07-16T22:27:41.406Z"
   },
   {
    "duration": 1183,
    "start_time": "2025-07-16T22:27:47.880Z"
   },
   {
    "duration": 95,
    "start_time": "2025-07-16T22:27:49.065Z"
   },
   {
    "duration": 8,
    "start_time": "2025-07-16T22:27:49.163Z"
   },
   {
    "duration": 88,
    "start_time": "2025-07-16T22:27:49.173Z"
   },
   {
    "duration": 38,
    "start_time": "2025-07-16T22:27:49.263Z"
   },
   {
    "duration": 1641,
    "start_time": "2025-07-16T22:27:49.302Z"
   },
   {
    "duration": 5,
    "start_time": "2025-07-16T22:28:17.982Z"
   },
   {
    "duration": 8,
    "start_time": "2025-07-16T22:28:28.467Z"
   },
   {
    "duration": 8,
    "start_time": "2025-07-16T22:28:37.523Z"
   },
   {
    "duration": 7,
    "start_time": "2025-07-16T22:28:49.464Z"
   },
   {
    "duration": 4,
    "start_time": "2025-07-16T22:29:28.051Z"
   },
   {
    "duration": 1131,
    "start_time": "2025-07-16T22:30:13.259Z"
   },
   {
    "duration": 88,
    "start_time": "2025-07-16T22:30:14.392Z"
   },
   {
    "duration": 7,
    "start_time": "2025-07-16T22:30:15.459Z"
   },
   {
    "duration": 10,
    "start_time": "2025-07-16T22:30:17.061Z"
   },
   {
    "duration": 6,
    "start_time": "2025-07-16T22:30:17.829Z"
   },
   {
    "duration": 3,
    "start_time": "2025-07-16T22:33:52.993Z"
   },
   {
    "duration": 41,
    "start_time": "2025-07-16T22:33:53.321Z"
   },
   {
    "duration": 7,
    "start_time": "2025-07-16T22:33:53.757Z"
   },
   {
    "duration": 8,
    "start_time": "2025-07-16T22:33:54.054Z"
   },
   {
    "duration": 6,
    "start_time": "2025-07-16T22:33:54.357Z"
   },
   {
    "duration": 2,
    "start_time": "2025-07-16T22:34:07.322Z"
   },
   {
    "duration": 49,
    "start_time": "2025-07-16T22:34:07.550Z"
   },
   {
    "duration": 6,
    "start_time": "2025-07-16T22:34:07.712Z"
   },
   {
    "duration": 7,
    "start_time": "2025-07-16T22:34:07.890Z"
   },
   {
    "duration": 6,
    "start_time": "2025-07-16T22:34:08.261Z"
   },
   {
    "duration": 101,
    "start_time": "2025-07-16T22:35:55.522Z"
   },
   {
    "duration": 6,
    "start_time": "2025-07-16T22:36:04.467Z"
   },
   {
    "duration": 8,
    "start_time": "2025-07-16T22:36:36.333Z"
   },
   {
    "duration": 9,
    "start_time": "2025-07-16T22:36:53.561Z"
   },
   {
    "duration": 9,
    "start_time": "2025-07-16T22:36:55.311Z"
   },
   {
    "duration": 6,
    "start_time": "2025-07-16T22:36:56.100Z"
   },
   {
    "duration": 11,
    "start_time": "2025-07-16T22:36:56.584Z"
   },
   {
    "duration": 11,
    "start_time": "2025-07-16T22:37:04.356Z"
   },
   {
    "duration": 11,
    "start_time": "2025-07-16T22:37:17.369Z"
   },
   {
    "duration": 10,
    "start_time": "2025-07-16T22:37:39.361Z"
   },
   {
    "duration": 3,
    "start_time": "2025-07-16T22:37:55.229Z"
   },
   {
    "duration": 4,
    "start_time": "2025-07-16T22:38:49.469Z"
   },
   {
    "duration": 3,
    "start_time": "2025-07-16T22:38:52.937Z"
   },
   {
    "duration": 3,
    "start_time": "2025-07-16T22:39:04.641Z"
   },
   {
    "duration": 10,
    "start_time": "2025-07-16T22:39:14.869Z"
   },
   {
    "duration": 4,
    "start_time": "2025-07-16T22:39:16.290Z"
   },
   {
    "duration": 13,
    "start_time": "2025-07-16T22:40:26.271Z"
   },
   {
    "duration": 299,
    "start_time": "2025-07-16T22:40:34.172Z"
   },
   {
    "duration": 140,
    "start_time": "2025-07-16T22:41:30.066Z"
   },
   {
    "duration": 3,
    "start_time": "2025-07-16T22:41:40.861Z"
   },
   {
    "duration": 10,
    "start_time": "2025-07-16T22:41:43.585Z"
   },
   {
    "duration": 10,
    "start_time": "2025-07-16T22:44:47.228Z"
   },
   {
    "duration": 5,
    "start_time": "2025-07-16T22:44:52.592Z"
   },
   {
    "duration": 5,
    "start_time": "2025-07-16T22:45:50.086Z"
   },
   {
    "duration": 5,
    "start_time": "2025-07-16T22:46:10.553Z"
   },
   {
    "duration": 126,
    "start_time": "2025-07-16T22:46:49.316Z"
   },
   {
    "duration": 111,
    "start_time": "2025-07-16T22:46:58.352Z"
   },
   {
    "duration": 5,
    "start_time": "2025-07-16T22:47:24.974Z"
   },
   {
    "duration": 5,
    "start_time": "2025-07-16T22:48:03.419Z"
   },
   {
    "duration": 520,
    "start_time": "2025-07-16T23:00:23.562Z"
   },
   {
    "duration": 443,
    "start_time": "2025-07-16T23:00:24.177Z"
   },
   {
    "duration": 332,
    "start_time": "2025-07-16T23:00:33.977Z"
   },
   {
    "duration": 521,
    "start_time": "2025-07-16T23:00:56.617Z"
   },
   {
    "duration": 530,
    "start_time": "2025-07-16T23:01:05.154Z"
   },
   {
    "duration": 587,
    "start_time": "2025-07-16T23:01:09.591Z"
   },
   {
    "duration": 582,
    "start_time": "2025-07-16T23:01:22.283Z"
   },
   {
    "duration": 625,
    "start_time": "2025-07-16T23:01:41.132Z"
   },
   {
    "duration": 711,
    "start_time": "2025-07-16T23:02:21.826Z"
   },
   {
    "duration": 566,
    "start_time": "2025-07-16T23:02:30.073Z"
   },
   {
    "duration": 590,
    "start_time": "2025-07-16T23:02:36.300Z"
   },
   {
    "duration": 6,
    "start_time": "2025-07-16T23:07:02.323Z"
   },
   {
    "duration": 5,
    "start_time": "2025-07-16T23:11:35.294Z"
   },
   {
    "duration": 1236,
    "start_time": "2025-07-16T23:11:48.044Z"
   },
   {
    "duration": 169,
    "start_time": "2025-07-16T23:11:49.282Z"
   },
   {
    "duration": 6,
    "start_time": "2025-07-16T23:11:49.453Z"
   },
   {
    "duration": 13,
    "start_time": "2025-07-16T23:11:49.461Z"
   },
   {
    "duration": 10,
    "start_time": "2025-07-16T23:11:49.476Z"
   },
   {
    "duration": 677,
    "start_time": "2025-07-16T23:11:49.487Z"
   },
   {
    "duration": 15,
    "start_time": "2025-07-16T23:11:50.166Z"
   },
   {
    "duration": 26,
    "start_time": "2025-07-16T23:11:50.182Z"
   },
   {
    "duration": 1539,
    "start_time": "2025-07-16T23:11:50.210Z"
   },
   {
    "duration": 44,
    "start_time": "2025-07-16T23:29:57.230Z"
   },
   {
    "duration": 11,
    "start_time": "2025-07-16T23:30:12.301Z"
   },
   {
    "duration": 47,
    "start_time": "2025-07-16T23:30:13.238Z"
   },
   {
    "duration": 1678,
    "start_time": "2025-07-16T23:34:01.012Z"
   },
   {
    "duration": 5,
    "start_time": "2025-07-16T23:35:16.145Z"
   },
   {
    "duration": 5,
    "start_time": "2025-07-16T23:35:19.185Z"
   },
   {
    "duration": 6,
    "start_time": "2025-07-16T23:35:22.587Z"
   },
   {
    "duration": 118,
    "start_time": "2025-07-16T23:50:31.532Z"
   },
   {
    "duration": 127,
    "start_time": "2025-07-16T23:50:36.969Z"
   },
   {
    "duration": 13,
    "start_time": "2025-07-16T23:51:30.612Z"
   },
   {
    "duration": 5,
    "start_time": "2025-07-16T23:51:32.123Z"
   },
   {
    "duration": 6,
    "start_time": "2025-07-16T23:51:42.263Z"
   },
   {
    "duration": 9,
    "start_time": "2025-07-16T23:51:55.046Z"
   },
   {
    "duration": 8,
    "start_time": "2025-07-16T23:51:56.271Z"
   },
   {
    "duration": 118,
    "start_time": "2025-07-16T23:52:02.896Z"
   },
   {
    "duration": 13,
    "start_time": "2025-07-16T23:52:06.579Z"
   },
   {
    "duration": 8,
    "start_time": "2025-07-16T23:52:07.119Z"
   },
   {
    "duration": 107,
    "start_time": "2025-07-16T23:52:07.856Z"
   },
   {
    "duration": 8,
    "start_time": "2025-07-16T23:52:08.083Z"
   },
   {
    "duration": 12,
    "start_time": "2025-07-16T23:52:20.306Z"
   },
   {
    "duration": 13,
    "start_time": "2025-07-16T23:52:22.996Z"
   },
   {
    "duration": 107,
    "start_time": "2025-07-16T23:52:26.155Z"
   },
   {
    "duration": 0,
    "start_time": "2025-07-16T23:56:45.836Z"
   },
   {
    "duration": 1594,
    "start_time": "2025-07-16T23:56:49.659Z"
   },
   {
    "duration": 12,
    "start_time": "2025-07-16T23:56:52.003Z"
   },
   {
    "duration": 1469,
    "start_time": "2025-07-16T23:56:52.998Z"
   },
   {
    "duration": 5,
    "start_time": "2025-07-16T23:57:08.991Z"
   },
   {
    "duration": 17,
    "start_time": "2025-07-16T23:58:30.802Z"
   },
   {
    "duration": 10,
    "start_time": "2025-07-16T23:58:34.721Z"
   },
   {
    "duration": 14,
    "start_time": "2025-07-17T00:01:01.735Z"
   },
   {
    "duration": 15,
    "start_time": "2025-07-17T00:01:11.124Z"
   },
   {
    "duration": 13,
    "start_time": "2025-07-17T00:02:02.286Z"
   },
   {
    "duration": 16,
    "start_time": "2025-07-17T00:02:26.734Z"
   },
   {
    "duration": 14,
    "start_time": "2025-07-17T00:02:32.099Z"
   },
   {
    "duration": 10,
    "start_time": "2025-07-17T00:03:30.637Z"
   },
   {
    "duration": 12,
    "start_time": "2025-07-17T00:03:41.659Z"
   },
   {
    "duration": 402,
    "start_time": "2025-07-17T00:03:50.637Z"
   },
   {
    "duration": 1171,
    "start_time": "2025-07-17T00:04:18.321Z"
   },
   {
    "duration": 57,
    "start_time": "2025-07-17T00:04:19.494Z"
   },
   {
    "duration": 12,
    "start_time": "2025-07-17T00:04:19.552Z"
   },
   {
    "duration": 15,
    "start_time": "2025-07-17T00:04:19.566Z"
   },
   {
    "duration": 12,
    "start_time": "2025-07-17T00:04:19.583Z"
   },
   {
    "duration": 7,
    "start_time": "2025-07-17T00:04:19.597Z"
   },
   {
    "duration": 718,
    "start_time": "2025-07-17T00:04:19.606Z"
   },
   {
    "duration": 6,
    "start_time": "2025-07-17T00:04:20.326Z"
   },
   {
    "duration": 51,
    "start_time": "2025-07-17T00:04:20.334Z"
   },
   {
    "duration": 1573,
    "start_time": "2025-07-17T00:04:20.387Z"
   },
   {
    "duration": 16,
    "start_time": "2025-07-17T00:04:21.962Z"
   },
   {
    "duration": 14,
    "start_time": "2025-07-17T00:04:21.979Z"
   },
   {
    "duration": 137,
    "start_time": "2025-07-17T00:04:21.996Z"
   },
   {
    "duration": 8,
    "start_time": "2025-07-17T00:04:22.136Z"
   },
   {
    "duration": 32,
    "start_time": "2025-07-17T00:04:22.145Z"
   },
   {
    "duration": 0,
    "start_time": "2025-07-17T00:05:33.113Z"
   },
   {
    "duration": 1555,
    "start_time": "2025-07-17T00:05:49.719Z"
   },
   {
    "duration": 1571,
    "start_time": "2025-07-17T00:06:43.315Z"
   },
   {
    "duration": 1490,
    "start_time": "2025-07-17T00:06:57.405Z"
   },
   {
    "duration": 1639,
    "start_time": "2025-07-17T00:07:32.972Z"
   },
   {
    "duration": 1529,
    "start_time": "2025-07-17T00:07:41.328Z"
   },
   {
    "duration": 20,
    "start_time": "2025-07-17T00:07:42.859Z"
   },
   {
    "duration": 31,
    "start_time": "2025-07-17T00:07:42.881Z"
   },
   {
    "duration": 117,
    "start_time": "2025-07-17T00:07:42.914Z"
   },
   {
    "duration": 9,
    "start_time": "2025-07-17T00:07:43.033Z"
   },
   {
    "duration": 17,
    "start_time": "2025-07-17T00:07:45.251Z"
   },
   {
    "duration": 1489,
    "start_time": "2025-07-17T00:07:47.701Z"
   },
   {
    "duration": 13,
    "start_time": "2025-07-17T00:08:36.975Z"
   },
   {
    "duration": 1571,
    "start_time": "2025-07-17T00:09:04.199Z"
   },
   {
    "duration": 12,
    "start_time": "2025-07-17T00:09:05.772Z"
   },
   {
    "duration": 8,
    "start_time": "2025-07-17T00:09:05.799Z"
   },
   {
    "duration": 110,
    "start_time": "2025-07-17T00:09:07.091Z"
   },
   {
    "duration": 9,
    "start_time": "2025-07-17T00:09:07.433Z"
   },
   {
    "duration": 15,
    "start_time": "2025-07-17T00:09:08.475Z"
   },
   {
    "duration": 9,
    "start_time": "2025-07-17T00:09:09.024Z"
   },
   {
    "duration": 1531,
    "start_time": "2025-07-17T00:09:09.638Z"
   },
   {
    "duration": 13,
    "start_time": "2025-07-17T00:09:46.519Z"
   },
   {
    "duration": 1181,
    "start_time": "2025-07-17T00:09:52.701Z"
   },
   {
    "duration": 57,
    "start_time": "2025-07-17T00:09:53.884Z"
   },
   {
    "duration": 51,
    "start_time": "2025-07-17T00:09:53.944Z"
   },
   {
    "duration": 17,
    "start_time": "2025-07-17T00:09:53.997Z"
   },
   {
    "duration": 34,
    "start_time": "2025-07-17T00:09:54.017Z"
   },
   {
    "duration": 18,
    "start_time": "2025-07-17T00:09:54.053Z"
   },
   {
    "duration": 669,
    "start_time": "2025-07-17T00:09:54.073Z"
   },
   {
    "duration": 7,
    "start_time": "2025-07-17T00:09:54.744Z"
   },
   {
    "duration": 41,
    "start_time": "2025-07-17T00:09:54.753Z"
   },
   {
    "duration": 1519,
    "start_time": "2025-07-17T00:09:54.796Z"
   },
   {
    "duration": 7,
    "start_time": "2025-07-17T00:09:56.317Z"
   },
   {
    "duration": 85,
    "start_time": "2025-07-17T00:09:56.326Z"
   },
   {
    "duration": 9,
    "start_time": "2025-07-17T00:09:56.412Z"
   },
   {
    "duration": 119,
    "start_time": "2025-07-17T00:09:56.423Z"
   },
   {
    "duration": 8,
    "start_time": "2025-07-17T00:09:56.544Z"
   },
   {
    "duration": 40,
    "start_time": "2025-07-17T00:09:56.554Z"
   },
   {
    "duration": 116,
    "start_time": "2025-07-17T00:09:56.596Z"
   },
   {
    "duration": 0,
    "start_time": "2025-07-17T00:09:56.714Z"
   },
   {
    "duration": 10,
    "start_time": "2025-07-17T00:10:09.383Z"
   },
   {
    "duration": 1217,
    "start_time": "2025-07-17T00:10:45.161Z"
   },
   {
    "duration": 54,
    "start_time": "2025-07-17T00:10:46.380Z"
   },
   {
    "duration": 13,
    "start_time": "2025-07-17T00:10:46.435Z"
   },
   {
    "duration": 12,
    "start_time": "2025-07-17T00:10:46.450Z"
   },
   {
    "duration": 50,
    "start_time": "2025-07-17T00:10:46.464Z"
   },
   {
    "duration": 23,
    "start_time": "2025-07-17T00:10:46.515Z"
   },
   {
    "duration": 715,
    "start_time": "2025-07-17T00:10:46.540Z"
   },
   {
    "duration": 6,
    "start_time": "2025-07-17T00:10:47.257Z"
   },
   {
    "duration": 6,
    "start_time": "2025-07-17T00:10:49.789Z"
   },
   {
    "duration": 1448,
    "start_time": "2025-07-17T00:10:52.848Z"
   },
   {
    "duration": 6,
    "start_time": "2025-07-17T00:10:54.298Z"
   },
   {
    "duration": 12,
    "start_time": "2025-07-17T00:10:58.628Z"
   },
   {
    "duration": 8,
    "start_time": "2025-07-17T00:10:58.829Z"
   },
   {
    "duration": 113,
    "start_time": "2025-07-17T00:10:59.043Z"
   },
   {
    "duration": 9,
    "start_time": "2025-07-17T00:10:59.246Z"
   },
   {
    "duration": 15,
    "start_time": "2025-07-17T00:11:00.219Z"
   },
   {
    "duration": 106,
    "start_time": "2025-07-17T00:11:01.075Z"
   },
   {
    "duration": 1589,
    "start_time": "2025-07-17T00:11:20.061Z"
   },
   {
    "duration": 1532,
    "start_time": "2025-07-17T00:11:22.769Z"
   },
   {
    "duration": 1207,
    "start_time": "2025-07-17T00:11:36.469Z"
   },
   {
    "duration": 61,
    "start_time": "2025-07-17T00:11:37.678Z"
   },
   {
    "duration": 13,
    "start_time": "2025-07-17T00:11:37.741Z"
   },
   {
    "duration": 22,
    "start_time": "2025-07-17T00:11:37.756Z"
   },
   {
    "duration": 32,
    "start_time": "2025-07-17T00:11:37.780Z"
   },
   {
    "duration": 6,
    "start_time": "2025-07-17T00:11:37.815Z"
   },
   {
    "duration": 703,
    "start_time": "2025-07-17T00:11:37.822Z"
   },
   {
    "duration": 7,
    "start_time": "2025-07-17T00:11:38.526Z"
   },
   {
    "duration": 42,
    "start_time": "2025-07-17T00:11:38.534Z"
   },
   {
    "duration": 1623,
    "start_time": "2025-07-17T00:11:38.577Z"
   },
   {
    "duration": 12,
    "start_time": "2025-07-17T00:11:40.201Z"
   },
   {
    "duration": 19,
    "start_time": "2025-07-17T00:11:40.214Z"
   },
   {
    "duration": 139,
    "start_time": "2025-07-17T00:11:40.235Z"
   },
   {
    "duration": 8,
    "start_time": "2025-07-17T00:11:40.377Z"
   },
   {
    "duration": 35,
    "start_time": "2025-07-17T00:11:40.386Z"
   },
   {
    "duration": 1636,
    "start_time": "2025-07-17T00:11:40.422Z"
   },
   {
    "duration": 1497,
    "start_time": "2025-07-17T00:12:05.661Z"
   },
   {
    "duration": 1517,
    "start_time": "2025-07-17T00:12:09.825Z"
   },
   {
    "duration": 1242,
    "start_time": "2025-07-17T00:12:17.548Z"
   },
   {
    "duration": 103,
    "start_time": "2025-07-17T00:12:18.792Z"
   },
   {
    "duration": 24,
    "start_time": "2025-07-17T00:12:18.897Z"
   },
   {
    "duration": 11,
    "start_time": "2025-07-17T00:12:18.923Z"
   },
   {
    "duration": 22,
    "start_time": "2025-07-17T00:12:18.936Z"
   },
   {
    "duration": 24,
    "start_time": "2025-07-17T00:12:18.960Z"
   },
   {
    "duration": 737,
    "start_time": "2025-07-17T00:12:18.986Z"
   },
   {
    "duration": 7,
    "start_time": "2025-07-17T00:12:19.725Z"
   },
   {
    "duration": 29,
    "start_time": "2025-07-17T00:12:19.733Z"
   },
   {
    "duration": 1355,
    "start_time": "2025-07-17T00:12:19.764Z"
   },
   {
    "duration": 13,
    "start_time": "2025-07-17T00:12:21.121Z"
   },
   {
    "duration": 35,
    "start_time": "2025-07-17T00:12:21.136Z"
   },
   {
    "duration": 130,
    "start_time": "2025-07-17T00:12:21.173Z"
   },
   {
    "duration": 11,
    "start_time": "2025-07-17T00:12:21.306Z"
   },
   {
    "duration": 35,
    "start_time": "2025-07-17T00:12:21.318Z"
   },
   {
    "duration": 1891,
    "start_time": "2025-07-17T00:12:21.355Z"
   },
   {
    "duration": 0,
    "start_time": "2025-07-17T00:13:17.569Z"
   },
   {
    "duration": 1126,
    "start_time": "2025-07-17T00:13:17.614Z"
   },
   {
    "duration": 61,
    "start_time": "2025-07-17T00:13:18.742Z"
   },
   {
    "duration": 10,
    "start_time": "2025-07-17T00:13:18.805Z"
   },
   {
    "duration": 43,
    "start_time": "2025-07-17T00:13:18.817Z"
   },
   {
    "duration": 23,
    "start_time": "2025-07-17T00:13:18.862Z"
   },
   {
    "duration": 15,
    "start_time": "2025-07-17T00:13:18.886Z"
   },
   {
    "duration": 700,
    "start_time": "2025-07-17T00:13:18.903Z"
   },
   {
    "duration": 6,
    "start_time": "2025-07-17T00:13:19.605Z"
   },
   {
    "duration": 9,
    "start_time": "2025-07-17T00:13:19.612Z"
   },
   {
    "duration": 1475,
    "start_time": "2025-07-17T00:13:19.623Z"
   },
   {
    "duration": 12,
    "start_time": "2025-07-17T00:13:21.100Z"
   },
   {
    "duration": 31,
    "start_time": "2025-07-17T00:13:21.114Z"
   },
   {
    "duration": 156,
    "start_time": "2025-07-17T00:13:21.147Z"
   },
   {
    "duration": 8,
    "start_time": "2025-07-17T00:13:21.306Z"
   },
   {
    "duration": 1541,
    "start_time": "2025-07-17T00:13:21.334Z"
   },
   {
    "duration": 1741,
    "start_time": "2025-07-17T00:13:27.591Z"
   },
   {
    "duration": 7,
    "start_time": "2025-07-17T00:14:12.883Z"
   },
   {
    "duration": 9,
    "start_time": "2025-07-17T00:15:27.174Z"
   },
   {
    "duration": 9,
    "start_time": "2025-07-17T00:15:32.153Z"
   },
   {
    "duration": 1552,
    "start_time": "2025-07-17T00:15:35.611Z"
   },
   {
    "duration": 1725,
    "start_time": "2025-07-17T00:15:42.771Z"
   },
   {
    "duration": 8,
    "start_time": "2025-07-17T00:15:55.085Z"
   },
   {
    "duration": 107,
    "start_time": "2025-07-17T00:15:56.348Z"
   },
   {
    "duration": 5,
    "start_time": "2025-07-17T00:16:00.565Z"
   },
   {
    "duration": 5,
    "start_time": "2025-07-17T00:16:04.571Z"
   },
   {
    "duration": 13,
    "start_time": "2025-07-17T00:16:09.825Z"
   },
   {
    "duration": 1519,
    "start_time": "2025-07-17T00:16:12.434Z"
   },
   {
    "duration": 1153,
    "start_time": "2025-07-17T00:16:31.731Z"
   },
   {
    "duration": 53,
    "start_time": "2025-07-17T00:16:32.886Z"
   },
   {
    "duration": 37,
    "start_time": "2025-07-17T00:16:32.940Z"
   },
   {
    "duration": 6,
    "start_time": "2025-07-17T00:16:32.978Z"
   },
   {
    "duration": 8,
    "start_time": "2025-07-17T00:16:32.986Z"
   },
   {
    "duration": 19,
    "start_time": "2025-07-17T00:16:32.995Z"
   },
   {
    "duration": 709,
    "start_time": "2025-07-17T00:16:33.016Z"
   },
   {
    "duration": 7,
    "start_time": "2025-07-17T00:16:33.727Z"
   },
   {
    "duration": 27,
    "start_time": "2025-07-17T00:16:33.735Z"
   },
   {
    "duration": 1427,
    "start_time": "2025-07-17T00:16:33.763Z"
   },
   {
    "duration": 12,
    "start_time": "2025-07-17T00:16:35.192Z"
   },
   {
    "duration": 26,
    "start_time": "2025-07-17T00:16:35.205Z"
   },
   {
    "duration": 131,
    "start_time": "2025-07-17T00:16:35.232Z"
   },
   {
    "duration": 11,
    "start_time": "2025-07-17T00:16:35.365Z"
   },
   {
    "duration": 101,
    "start_time": "2025-07-17T00:16:35.378Z"
   },
   {
    "duration": 7,
    "start_time": "2025-07-17T00:16:50.925Z"
   },
   {
    "duration": 13,
    "start_time": "2025-07-17T00:16:55.753Z"
   },
   {
    "duration": 9,
    "start_time": "2025-07-17T00:16:56.368Z"
   },
   {
    "duration": 110,
    "start_time": "2025-07-17T00:16:57.218Z"
   },
   {
    "duration": 9,
    "start_time": "2025-07-17T00:16:57.711Z"
   },
   {
    "duration": 8,
    "start_time": "2025-07-17T00:17:00.002Z"
   },
   {
    "duration": 10,
    "start_time": "2025-07-17T00:17:30.087Z"
   },
   {
    "duration": 15,
    "start_time": "2025-07-17T00:17:45.162Z"
   },
   {
    "duration": 8,
    "start_time": "2025-07-17T00:17:52.133Z"
   },
   {
    "duration": 11,
    "start_time": "2025-07-17T00:17:53.296Z"
   },
   {
    "duration": 9,
    "start_time": "2025-07-17T00:17:54.837Z"
   },
   {
    "duration": 106,
    "start_time": "2025-07-17T00:17:55.591Z"
   },
   {
    "duration": 9,
    "start_time": "2025-07-17T00:17:55.962Z"
   },
   {
    "duration": 7,
    "start_time": "2025-07-17T00:18:01.927Z"
   },
   {
    "duration": 12,
    "start_time": "2025-07-17T00:18:38.427Z"
   },
   {
    "duration": 15,
    "start_time": "2025-07-17T00:18:45.319Z"
   },
   {
    "duration": 14,
    "start_time": "2025-07-17T00:18:54.060Z"
   },
   {
    "duration": 95,
    "start_time": "2025-07-17T00:20:19.679Z"
   },
   {
    "duration": 97,
    "start_time": "2025-07-17T00:20:35.473Z"
   },
   {
    "duration": 4,
    "start_time": "2025-07-17T00:20:57.013Z"
   },
   {
    "duration": 15,
    "start_time": "2025-07-17T00:21:01.413Z"
   },
   {
    "duration": 4,
    "start_time": "2025-07-17T00:21:03.681Z"
   },
   {
    "duration": 5,
    "start_time": "2025-07-17T00:21:13.259Z"
   },
   {
    "duration": 17,
    "start_time": "2025-07-17T00:21:14.453Z"
   },
   {
    "duration": 18,
    "start_time": "2025-07-17T00:21:32.860Z"
   },
   {
    "duration": 17,
    "start_time": "2025-07-17T00:21:36.881Z"
   },
   {
    "duration": 16,
    "start_time": "2025-07-17T00:21:48.457Z"
   },
   {
    "duration": 16,
    "start_time": "2025-07-17T00:22:06.396Z"
   },
   {
    "duration": 17,
    "start_time": "2025-07-17T00:22:18.864Z"
   },
   {
    "duration": 4,
    "start_time": "2025-07-17T00:22:27.388Z"
   },
   {
    "duration": 6,
    "start_time": "2025-07-17T00:22:36.412Z"
   },
   {
    "duration": 6,
    "start_time": "2025-07-17T00:22:37.780Z"
   },
   {
    "duration": 4,
    "start_time": "2025-07-17T00:22:55.158Z"
   },
   {
    "duration": 57,
    "start_time": "2025-07-17T00:24:02.281Z"
   },
   {
    "duration": 16,
    "start_time": "2025-07-17T00:25:54.399Z"
   },
   {
    "duration": 4,
    "start_time": "2025-07-17T00:25:55.165Z"
   },
   {
    "duration": 56,
    "start_time": "2025-07-17T00:25:56.481Z"
   },
   {
    "duration": 86,
    "start_time": "2025-07-17T00:25:57.783Z"
   },
   {
    "duration": 56,
    "start_time": "2025-07-17T00:29:04.054Z"
   },
   {
    "duration": 81,
    "start_time": "2025-07-17T00:29:56.764Z"
   },
   {
    "duration": 13,
    "start_time": "2025-07-17T00:30:07.099Z"
   },
   {
    "duration": 12,
    "start_time": "2025-07-17T00:30:24.066Z"
   },
   {
    "duration": 1113,
    "start_time": "2025-07-17T00:31:17.129Z"
   },
   {
    "duration": 52,
    "start_time": "2025-07-17T00:31:18.244Z"
   },
   {
    "duration": 10,
    "start_time": "2025-07-17T00:31:18.298Z"
   },
   {
    "duration": 7,
    "start_time": "2025-07-17T00:31:18.309Z"
   },
   {
    "duration": 14,
    "start_time": "2025-07-17T00:31:18.318Z"
   },
   {
    "duration": 6,
    "start_time": "2025-07-17T00:31:18.334Z"
   },
   {
    "duration": 677,
    "start_time": "2025-07-17T00:31:18.342Z"
   },
   {
    "duration": 5,
    "start_time": "2025-07-17T00:31:19.021Z"
   },
   {
    "duration": 122,
    "start_time": "2025-07-17T00:31:19.028Z"
   },
   {
    "duration": 1500,
    "start_time": "2025-07-17T00:31:19.152Z"
   },
   {
    "duration": 12,
    "start_time": "2025-07-17T00:31:20.654Z"
   },
   {
    "duration": 161,
    "start_time": "2025-07-17T00:31:20.676Z"
   },
   {
    "duration": 140,
    "start_time": "2025-07-17T00:31:20.838Z"
   },
   {
    "duration": 8,
    "start_time": "2025-07-17T00:31:20.981Z"
   },
   {
    "duration": 32,
    "start_time": "2025-07-17T00:31:20.990Z"
   },
   {
    "duration": 24,
    "start_time": "2025-07-17T00:31:21.024Z"
   },
   {
    "duration": 115,
    "start_time": "2025-07-17T00:31:21.050Z"
   },
   {
    "duration": 0,
    "start_time": "2025-07-17T00:31:21.166Z"
   },
   {
    "duration": 4,
    "start_time": "2025-07-17T00:32:40.192Z"
   },
   {
    "duration": 9,
    "start_time": "2025-07-17T00:33:18.020Z"
   },
   {
    "duration": 61,
    "start_time": "2025-07-17T00:33:29.928Z"
   },
   {
    "duration": 93,
    "start_time": "2025-07-17T00:35:19.870Z"
   },
   {
    "duration": 82,
    "start_time": "2025-07-17T00:35:21.938Z"
   },
   {
    "duration": 81,
    "start_time": "2025-07-17T00:35:25.961Z"
   },
   {
    "duration": 105,
    "start_time": "2025-07-17T00:36:15.125Z"
   },
   {
    "duration": 132,
    "start_time": "2025-07-17T00:36:20.488Z"
   },
   {
    "duration": 31,
    "start_time": "2025-07-17T00:36:33.815Z"
   },
   {
    "duration": 73,
    "start_time": "2025-07-17T00:36:54.645Z"
   },
   {
    "duration": 73,
    "start_time": "2025-07-17T00:37:05.353Z"
   },
   {
    "duration": 74,
    "start_time": "2025-07-17T00:37:08.409Z"
   },
   {
    "duration": 71,
    "start_time": "2025-07-17T00:37:12.377Z"
   },
   {
    "duration": 70,
    "start_time": "2025-07-17T00:37:22.332Z"
   },
   {
    "duration": 74,
    "start_time": "2025-07-17T00:37:35.574Z"
   },
   {
    "duration": 12,
    "start_time": "2025-07-17T00:38:55.571Z"
   },
   {
    "duration": 14,
    "start_time": "2025-07-17T00:39:29.550Z"
   },
   {
    "duration": 15,
    "start_time": "2025-07-17T00:39:54.646Z"
   },
   {
    "duration": 14,
    "start_time": "2025-07-17T00:40:44.090Z"
   },
   {
    "duration": 6,
    "start_time": "2025-07-17T00:40:47.761Z"
   },
   {
    "duration": 11,
    "start_time": "2025-07-17T00:42:46.229Z"
   },
   {
    "duration": 14,
    "start_time": "2025-07-17T00:43:00.200Z"
   },
   {
    "duration": 15,
    "start_time": "2025-07-17T00:44:54.923Z"
   },
   {
    "duration": 13,
    "start_time": "2025-07-17T00:44:59.615Z"
   },
   {
    "duration": 14,
    "start_time": "2025-07-17T00:45:10.382Z"
   },
   {
    "duration": 17,
    "start_time": "2025-07-17T00:45:14.552Z"
   },
   {
    "duration": 15,
    "start_time": "2025-07-17T00:45:17.972Z"
   },
   {
    "duration": 15,
    "start_time": "2025-07-17T00:45:23.069Z"
   },
   {
    "duration": 14,
    "start_time": "2025-07-17T00:45:27.935Z"
   },
   {
    "duration": 14,
    "start_time": "2025-07-17T00:45:32.085Z"
   },
   {
    "duration": 13,
    "start_time": "2025-07-17T00:45:37.108Z"
   },
   {
    "duration": 13,
    "start_time": "2025-07-17T00:45:47.155Z"
   },
   {
    "duration": 14,
    "start_time": "2025-07-17T00:45:50.825Z"
   },
   {
    "duration": 16,
    "start_time": "2025-07-17T00:45:55.420Z"
   },
   {
    "duration": 14,
    "start_time": "2025-07-17T00:45:58.234Z"
   },
   {
    "duration": 15,
    "start_time": "2025-07-17T00:46:05.362Z"
   },
   {
    "duration": 23,
    "start_time": "2025-07-17T00:47:26.761Z"
   },
   {
    "duration": 20,
    "start_time": "2025-07-17T00:47:32.199Z"
   },
   {
    "duration": 5,
    "start_time": "2025-07-17T00:53:13.272Z"
   },
   {
    "duration": 4,
    "start_time": "2025-07-17T00:53:22.531Z"
   },
   {
    "duration": 4,
    "start_time": "2025-07-17T00:53:22.905Z"
   },
   {
    "duration": 67,
    "start_time": "2025-07-17T00:53:28.078Z"
   },
   {
    "duration": 74,
    "start_time": "2025-07-17T00:53:43.135Z"
   },
   {
    "duration": 55,
    "start_time": "2025-07-17T00:53:44.751Z"
   },
   {
    "duration": 56,
    "start_time": "2025-07-17T00:53:47.151Z"
   },
   {
    "duration": 15,
    "start_time": "2025-07-17T00:53:50.403Z"
   },
   {
    "duration": 6,
    "start_time": "2025-07-17T00:53:52.659Z"
   },
   {
    "duration": 6,
    "start_time": "2025-07-17T00:54:08.457Z"
   },
   {
    "duration": 118,
    "start_time": "2025-07-17T00:54:21.408Z"
   },
   {
    "duration": 6,
    "start_time": "2025-07-17T00:54:23.145Z"
   },
   {
    "duration": 7,
    "start_time": "2025-07-17T00:54:24.677Z"
   },
   {
    "duration": 7,
    "start_time": "2025-07-17T00:54:41.579Z"
   },
   {
    "duration": 82,
    "start_time": "2025-07-17T00:56:48.887Z"
   },
   {
    "duration": 47,
    "start_time": "2025-07-17T01:03:42.781Z"
   },
   {
    "duration": 49,
    "start_time": "2025-07-17T01:03:56.194Z"
   },
   {
    "duration": 48,
    "start_time": "2025-07-17T01:04:07.131Z"
   },
   {
    "duration": 18,
    "start_time": "2025-07-17T01:08:36.553Z"
   },
   {
    "duration": 14,
    "start_time": "2025-07-17T01:08:41.496Z"
   },
   {
    "duration": 54,
    "start_time": "2025-07-17T07:09:15.348Z"
   },
   {
    "duration": 7,
    "start_time": "2025-07-17T07:09:18.295Z"
   },
   {
    "duration": 1436,
    "start_time": "2025-07-17T07:09:24.291Z"
   },
   {
    "duration": 84,
    "start_time": "2025-07-17T07:09:25.730Z"
   },
   {
    "duration": 15,
    "start_time": "2025-07-17T07:09:25.821Z"
   },
   {
    "duration": 13,
    "start_time": "2025-07-17T07:09:25.838Z"
   },
   {
    "duration": 8,
    "start_time": "2025-07-17T07:09:25.853Z"
   },
   {
    "duration": 6,
    "start_time": "2025-07-17T07:09:25.863Z"
   },
   {
    "duration": 836,
    "start_time": "2025-07-17T07:09:25.871Z"
   },
   {
    "duration": 6,
    "start_time": "2025-07-17T07:09:26.709Z"
   },
   {
    "duration": 6,
    "start_time": "2025-07-17T07:09:26.717Z"
   },
   {
    "duration": 1771,
    "start_time": "2025-07-17T07:09:26.725Z"
   },
   {
    "duration": 13,
    "start_time": "2025-07-17T07:09:28.498Z"
   },
   {
    "duration": 15,
    "start_time": "2025-07-17T07:09:28.513Z"
   },
   {
    "duration": 140,
    "start_time": "2025-07-17T07:09:28.532Z"
   },
   {
    "duration": 9,
    "start_time": "2025-07-17T07:09:28.674Z"
   },
   {
    "duration": 61,
    "start_time": "2025-07-17T07:09:28.685Z"
   },
   {
    "duration": 29,
    "start_time": "2025-07-17T07:09:28.747Z"
   },
   {
    "duration": 45,
    "start_time": "2025-07-17T07:09:28.778Z"
   },
   {
    "duration": 4,
    "start_time": "2025-07-17T07:09:28.825Z"
   },
   {
    "duration": 91,
    "start_time": "2025-07-17T07:09:28.831Z"
   },
   {
    "duration": 20,
    "start_time": "2025-07-17T07:09:28.924Z"
   },
   {
    "duration": 115,
    "start_time": "2025-07-17T07:09:28.946Z"
   },
   {
    "duration": 21,
    "start_time": "2025-07-17T07:09:29.063Z"
   },
   {
    "duration": 39,
    "start_time": "2025-07-17T07:09:29.086Z"
   },
   {
    "duration": 15,
    "start_time": "2025-07-17T07:09:39.859Z"
   },
   {
    "duration": 15,
    "start_time": "2025-07-17T07:09:45.563Z"
   },
   {
    "duration": 15,
    "start_time": "2025-07-17T07:09:51.931Z"
   },
   {
    "duration": 15,
    "start_time": "2025-07-17T07:10:02.234Z"
   },
   {
    "duration": 15,
    "start_time": "2025-07-17T07:10:11.571Z"
   },
   {
    "duration": 20,
    "start_time": "2025-07-17T07:10:17.835Z"
   },
   {
    "duration": 15,
    "start_time": "2025-07-17T07:10:23.467Z"
   },
   {
    "duration": 25,
    "start_time": "2025-07-17T07:10:26.995Z"
   },
   {
    "duration": 15,
    "start_time": "2025-07-17T07:10:32.971Z"
   },
   {
    "duration": 33,
    "start_time": "2025-07-17T07:14:09.397Z"
   },
   {
    "duration": 19,
    "start_time": "2025-07-17T07:18:17.961Z"
   },
   {
    "duration": 35,
    "start_time": "2025-07-17T07:23:43.129Z"
   },
   {
    "duration": 34,
    "start_time": "2025-07-17T09:46:18.021Z"
   },
   {
    "duration": 33,
    "start_time": "2025-07-17T09:46:29.101Z"
   },
   {
    "duration": 121,
    "start_time": "2025-07-17T09:51:47.848Z"
   },
   {
    "duration": 3,
    "start_time": "2025-07-17T10:00:49.862Z"
   },
   {
    "duration": 5,
    "start_time": "2025-07-17T10:01:02.541Z"
   },
   {
    "duration": 111,
    "start_time": "2025-07-17T10:01:43.142Z"
   },
   {
    "duration": 1271,
    "start_time": "2025-07-17T10:02:03.440Z"
   },
   {
    "duration": 63,
    "start_time": "2025-07-17T10:02:04.714Z"
   },
   {
    "duration": 13,
    "start_time": "2025-07-17T10:02:04.779Z"
   },
   {
    "duration": 85,
    "start_time": "2025-07-17T10:02:04.794Z"
   },
   {
    "duration": 29,
    "start_time": "2025-07-17T10:02:04.882Z"
   },
   {
    "duration": 43,
    "start_time": "2025-07-17T10:02:04.913Z"
   },
   {
    "duration": 838,
    "start_time": "2025-07-17T10:02:04.958Z"
   },
   {
    "duration": 10,
    "start_time": "2025-07-17T10:02:05.799Z"
   },
   {
    "duration": 42,
    "start_time": "2025-07-17T10:02:05.811Z"
   },
   {
    "duration": 1704,
    "start_time": "2025-07-17T10:02:05.856Z"
   },
   {
    "duration": 14,
    "start_time": "2025-07-17T10:02:07.562Z"
   },
   {
    "duration": 26,
    "start_time": "2025-07-17T10:02:07.578Z"
   },
   {
    "duration": 138,
    "start_time": "2025-07-17T10:02:07.606Z"
   },
   {
    "duration": 16,
    "start_time": "2025-07-17T10:02:07.747Z"
   },
   {
    "duration": 81,
    "start_time": "2025-07-17T10:02:07.765Z"
   },
   {
    "duration": 18,
    "start_time": "2025-07-17T10:02:07.848Z"
   },
   {
    "duration": 5,
    "start_time": "2025-07-17T10:02:07.868Z"
   },
   {
    "duration": 18,
    "start_time": "2025-07-17T10:02:07.875Z"
   },
   {
    "duration": 94,
    "start_time": "2025-07-17T10:02:07.895Z"
   },
   {
    "duration": 7,
    "start_time": "2025-07-17T10:02:07.991Z"
   },
   {
    "duration": 87,
    "start_time": "2025-07-17T10:02:07.999Z"
   },
   {
    "duration": 20,
    "start_time": "2025-07-17T10:02:08.088Z"
   },
   {
    "duration": 73,
    "start_time": "2025-07-17T10:02:08.110Z"
   },
   {
    "duration": 35,
    "start_time": "2025-07-17T10:02:08.185Z"
   },
   {
    "duration": 5,
    "start_time": "2025-07-17T10:02:08.222Z"
   },
   {
    "duration": 132,
    "start_time": "2025-07-17T10:02:08.229Z"
   },
   {
    "duration": 12,
    "start_time": "2025-07-17T10:02:38.094Z"
   },
   {
    "duration": 11,
    "start_time": "2025-07-17T10:02:39.806Z"
   },
   {
    "duration": 16,
    "start_time": "2025-07-17T10:03:29.023Z"
   },
   {
    "duration": 15,
    "start_time": "2025-07-17T10:04:07.496Z"
   },
   {
    "duration": 14,
    "start_time": "2025-07-17T10:04:10.064Z"
   },
   {
    "duration": 8,
    "start_time": "2025-07-17T10:04:32.088Z"
   },
   {
    "duration": 10,
    "start_time": "2025-07-17T10:05:02.176Z"
   },
   {
    "duration": 7,
    "start_time": "2025-07-17T10:05:44.737Z"
   },
   {
    "duration": 7,
    "start_time": "2025-07-17T10:06:56.793Z"
   },
   {
    "duration": 4,
    "start_time": "2025-07-17T10:07:27.433Z"
   },
   {
    "duration": 1317,
    "start_time": "2025-07-17T10:07:44.418Z"
   },
   {
    "duration": 694,
    "start_time": "2025-07-17T10:07:45.738Z"
   },
   {
    "duration": 13,
    "start_time": "2025-07-17T10:07:46.434Z"
   },
   {
    "duration": 7,
    "start_time": "2025-07-17T10:07:46.449Z"
   },
   {
    "duration": 9,
    "start_time": "2025-07-17T10:07:46.458Z"
   },
   {
    "duration": 8,
    "start_time": "2025-07-17T10:07:46.468Z"
   },
   {
    "duration": 782,
    "start_time": "2025-07-17T10:07:46.478Z"
   },
   {
    "duration": 7,
    "start_time": "2025-07-17T10:07:47.262Z"
   },
   {
    "duration": 6,
    "start_time": "2025-07-17T10:07:47.270Z"
   },
   {
    "duration": 1624,
    "start_time": "2025-07-17T10:07:47.278Z"
   },
   {
    "duration": 14,
    "start_time": "2025-07-17T10:07:48.904Z"
   },
   {
    "duration": 12,
    "start_time": "2025-07-17T10:07:48.919Z"
   },
   {
    "duration": 170,
    "start_time": "2025-07-17T10:07:48.933Z"
   },
   {
    "duration": 11,
    "start_time": "2025-07-17T10:07:49.105Z"
   },
   {
    "duration": 93,
    "start_time": "2025-07-17T10:07:49.117Z"
   },
   {
    "duration": 73,
    "start_time": "2025-07-17T10:07:49.212Z"
   },
   {
    "duration": 22,
    "start_time": "2025-07-17T10:07:49.287Z"
   },
   {
    "duration": 6,
    "start_time": "2025-07-17T10:07:49.311Z"
   },
   {
    "duration": 87,
    "start_time": "2025-07-17T10:07:49.318Z"
   },
   {
    "duration": 24,
    "start_time": "2025-07-17T10:07:49.406Z"
   },
   {
    "duration": 68,
    "start_time": "2025-07-17T10:07:49.433Z"
   },
   {
    "duration": 17,
    "start_time": "2025-07-17T10:07:49.503Z"
   },
   {
    "duration": 7,
    "start_time": "2025-07-17T10:07:49.522Z"
   },
   {
    "duration": 58,
    "start_time": "2025-07-17T10:07:49.531Z"
   },
   {
    "duration": 5,
    "start_time": "2025-07-17T10:07:49.591Z"
   },
   {
    "duration": 129,
    "start_time": "2025-07-17T10:07:49.598Z"
   },
   {
    "duration": 1447,
    "start_time": "2025-07-17T10:08:16.492Z"
   },
   {
    "duration": 67,
    "start_time": "2025-07-17T10:08:17.941Z"
   },
   {
    "duration": 19,
    "start_time": "2025-07-17T10:08:18.010Z"
   },
   {
    "duration": 10,
    "start_time": "2025-07-17T10:08:18.032Z"
   },
   {
    "duration": 24,
    "start_time": "2025-07-17T10:08:18.044Z"
   },
   {
    "duration": 117,
    "start_time": "2025-07-17T10:08:18.070Z"
   },
   {
    "duration": 771,
    "start_time": "2025-07-17T10:08:18.189Z"
   },
   {
    "duration": 10,
    "start_time": "2025-07-17T10:08:18.963Z"
   },
   {
    "duration": 7,
    "start_time": "2025-07-17T10:08:18.975Z"
   },
   {
    "duration": 1770,
    "start_time": "2025-07-17T10:08:18.985Z"
   },
   {
    "duration": 16,
    "start_time": "2025-07-17T10:08:20.757Z"
   },
   {
    "duration": 10,
    "start_time": "2025-07-17T10:08:20.775Z"
   },
   {
    "duration": 235,
    "start_time": "2025-07-17T10:08:20.786Z"
   },
   {
    "duration": 10,
    "start_time": "2025-07-17T10:08:21.023Z"
   },
   {
    "duration": 68,
    "start_time": "2025-07-17T10:08:21.034Z"
   },
   {
    "duration": 152,
    "start_time": "2025-07-17T10:08:21.104Z"
   },
   {
    "duration": 22,
    "start_time": "2025-07-17T10:08:21.258Z"
   },
   {
    "duration": 12,
    "start_time": "2025-07-17T10:08:21.282Z"
   },
   {
    "duration": 97,
    "start_time": "2025-07-17T10:08:21.296Z"
   },
   {
    "duration": 9,
    "start_time": "2025-07-17T10:08:21.395Z"
   },
   {
    "duration": 95,
    "start_time": "2025-07-17T10:08:21.406Z"
   },
   {
    "duration": 17,
    "start_time": "2025-07-17T10:08:21.503Z"
   },
   {
    "duration": 6,
    "start_time": "2025-07-17T10:08:21.522Z"
   },
   {
    "duration": 59,
    "start_time": "2025-07-17T10:08:21.530Z"
   },
   {
    "duration": 4,
    "start_time": "2025-07-17T10:08:21.591Z"
   },
   {
    "duration": 11,
    "start_time": "2025-07-17T10:08:21.597Z"
   },
   {
    "duration": 1192,
    "start_time": "2025-07-17T21:39:16.695Z"
   },
   {
    "duration": 61,
    "start_time": "2025-07-17T21:39:17.888Z"
   },
   {
    "duration": 12,
    "start_time": "2025-07-17T21:39:17.951Z"
   },
   {
    "duration": 9,
    "start_time": "2025-07-17T21:39:17.965Z"
   },
   {
    "duration": 9,
    "start_time": "2025-07-17T21:39:17.977Z"
   },
   {
    "duration": 7,
    "start_time": "2025-07-17T21:39:17.988Z"
   },
   {
    "duration": 729,
    "start_time": "2025-07-17T21:39:17.997Z"
   },
   {
    "duration": 8,
    "start_time": "2025-07-17T21:39:18.728Z"
   },
   {
    "duration": 25,
    "start_time": "2025-07-17T21:39:18.738Z"
   },
   {
    "duration": 1562,
    "start_time": "2025-07-17T21:39:18.764Z"
   },
   {
    "duration": 12,
    "start_time": "2025-07-17T21:39:20.328Z"
   },
   {
    "duration": 38,
    "start_time": "2025-07-17T21:39:20.341Z"
   },
   {
    "duration": 124,
    "start_time": "2025-07-17T21:39:20.381Z"
   },
   {
    "duration": 8,
    "start_time": "2025-07-17T21:39:20.508Z"
   },
   {
    "duration": 62,
    "start_time": "2025-07-17T21:39:20.517Z"
   },
   {
    "duration": 18,
    "start_time": "2025-07-17T21:39:20.581Z"
   },
   {
    "duration": 87,
    "start_time": "2025-07-17T21:39:20.601Z"
   },
   {
    "duration": 46,
    "start_time": "2025-07-17T21:39:20.689Z"
   },
   {
    "duration": 85,
    "start_time": "2025-07-17T21:39:20.736Z"
   },
   {
    "duration": 6,
    "start_time": "2025-07-17T21:39:20.823Z"
   },
   {
    "duration": 124,
    "start_time": "2025-07-17T21:39:20.830Z"
   },
   {
    "duration": 17,
    "start_time": "2025-07-17T21:39:20.956Z"
   },
   {
    "duration": 14,
    "start_time": "2025-07-17T21:39:20.975Z"
   },
   {
    "duration": 32,
    "start_time": "2025-07-17T21:39:20.990Z"
   },
   {
    "duration": 5,
    "start_time": "2025-07-17T21:39:21.024Z"
   },
   {
    "duration": 38,
    "start_time": "2025-07-17T21:39:21.034Z"
   },
   {
    "duration": 66,
    "start_time": "2025-07-18T00:30:20.943Z"
   },
   {
    "duration": 1408,
    "start_time": "2025-07-18T00:30:37.227Z"
   },
   {
    "duration": 138,
    "start_time": "2025-07-18T00:30:38.637Z"
   },
   {
    "duration": 17,
    "start_time": "2025-07-18T00:30:38.777Z"
   },
   {
    "duration": 7,
    "start_time": "2025-07-18T00:30:38.796Z"
   },
   {
    "duration": 9,
    "start_time": "2025-07-18T00:30:38.848Z"
   },
   {
    "duration": 7,
    "start_time": "2025-07-18T00:30:38.998Z"
   },
   {
    "duration": 796,
    "start_time": "2025-07-18T00:30:39.191Z"
   },
   {
    "duration": 6,
    "start_time": "2025-07-18T00:30:40.116Z"
   },
   {
    "duration": 6,
    "start_time": "2025-07-18T00:30:40.308Z"
   },
   {
    "duration": 1780,
    "start_time": "2025-07-18T00:30:51.856Z"
   },
   {
    "duration": 13,
    "start_time": "2025-07-18T00:30:53.638Z"
   },
   {
    "duration": 29,
    "start_time": "2025-07-18T00:30:53.652Z"
   },
   {
    "duration": 121,
    "start_time": "2025-07-18T00:30:53.683Z"
   },
   {
    "duration": 10,
    "start_time": "2025-07-18T00:30:53.806Z"
   },
   {
    "duration": 72,
    "start_time": "2025-07-18T00:30:53.817Z"
   },
   {
    "duration": 31,
    "start_time": "2025-07-18T00:30:55.058Z"
   },
   {
    "duration": 5,
    "start_time": "2025-07-18T00:30:55.231Z"
   },
   {
    "duration": 4,
    "start_time": "2025-07-18T00:30:56.057Z"
   },
   {
    "duration": 82,
    "start_time": "2025-07-18T00:30:56.427Z"
   },
   {
    "duration": 6,
    "start_time": "2025-07-18T00:30:56.587Z"
   },
   {
    "duration": 64,
    "start_time": "2025-07-18T00:30:59.405Z"
   },
   {
    "duration": 16,
    "start_time": "2025-07-18T00:31:02.699Z"
   },
   {
    "duration": 54,
    "start_time": "2025-07-18T17:32:50.853Z"
   },
   {
    "duration": 1434,
    "start_time": "2025-07-18T17:36:21.412Z"
   },
   {
    "duration": 13,
    "start_time": "2025-07-18T17:36:22.848Z"
   },
   {
    "duration": 67,
    "start_time": "2025-07-18T17:36:22.862Z"
   },
   {
    "duration": 12,
    "start_time": "2025-07-18T17:36:22.930Z"
   },
   {
    "duration": 13,
    "start_time": "2025-07-18T17:36:22.944Z"
   },
   {
    "duration": 17,
    "start_time": "2025-07-18T17:36:22.959Z"
   },
   {
    "duration": 10,
    "start_time": "2025-07-18T17:36:22.978Z"
   },
   {
    "duration": 769,
    "start_time": "2025-07-18T17:36:22.989Z"
   },
   {
    "duration": 6,
    "start_time": "2025-07-18T17:36:23.761Z"
   },
   {
    "duration": 26,
    "start_time": "2025-07-18T17:36:23.769Z"
   },
   {
    "duration": 1578,
    "start_time": "2025-07-18T17:36:23.796Z"
   },
   {
    "duration": 13,
    "start_time": "2025-07-18T17:36:25.376Z"
   },
   {
    "duration": 8,
    "start_time": "2025-07-18T17:36:25.390Z"
   },
   {
    "duration": 139,
    "start_time": "2025-07-18T17:36:25.400Z"
   },
   {
    "duration": 9,
    "start_time": "2025-07-18T17:36:25.541Z"
   },
   {
    "duration": 54,
    "start_time": "2025-07-18T17:36:25.552Z"
   },
   {
    "duration": 39,
    "start_time": "2025-07-18T17:36:25.609Z"
   },
   {
    "duration": 6,
    "start_time": "2025-07-18T17:36:25.650Z"
   },
   {
    "duration": 13,
    "start_time": "2025-07-18T17:36:25.658Z"
   },
   {
    "duration": 101,
    "start_time": "2025-07-18T17:36:25.674Z"
   },
   {
    "duration": 9,
    "start_time": "2025-07-18T17:36:25.777Z"
   },
   {
    "duration": 87,
    "start_time": "2025-07-18T17:36:25.788Z"
   },
   {
    "duration": 14,
    "start_time": "2025-07-18T17:36:25.877Z"
   },
   {
    "duration": 113,
    "start_time": "2025-07-18T17:36:25.893Z"
   },
   {
    "duration": 59,
    "start_time": "2025-07-18T17:36:26.008Z"
   },
   {
    "duration": 5,
    "start_time": "2025-07-18T17:36:26.069Z"
   },
   {
    "duration": 16,
    "start_time": "2025-07-18T17:36:26.075Z"
   },
   {
    "duration": 16,
    "start_time": "2025-07-18T17:41:43.346Z"
   },
   {
    "duration": 13,
    "start_time": "2025-07-18T17:41:49.950Z"
   },
   {
    "duration": 15,
    "start_time": "2025-07-18T17:42:04.178Z"
   },
   {
    "duration": 15,
    "start_time": "2025-07-18T17:42:07.754Z"
   },
   {
    "duration": 16,
    "start_time": "2025-07-18T17:42:10.910Z"
   },
   {
    "duration": 16,
    "start_time": "2025-07-18T17:42:55.036Z"
   },
   {
    "duration": 12,
    "start_time": "2025-07-18T17:43:03.012Z"
   },
   {
    "duration": 15,
    "start_time": "2025-07-18T17:43:19.599Z"
   },
   {
    "duration": 16,
    "start_time": "2025-07-18T17:45:06.393Z"
   },
   {
    "duration": 17,
    "start_time": "2025-07-18T17:45:11.555Z"
   },
   {
    "duration": 16,
    "start_time": "2025-07-18T17:45:25.832Z"
   },
   {
    "duration": 106,
    "start_time": "2025-07-18T21:01:32.793Z"
   },
   {
    "duration": 112,
    "start_time": "2025-07-18T21:01:36.599Z"
   },
   {
    "duration": 9,
    "start_time": "2025-07-18T21:01:42.942Z"
   },
   {
    "duration": 12,
    "start_time": "2025-07-18T21:01:44.449Z"
   },
   {
    "duration": 7,
    "start_time": "2025-07-18T21:01:45.528Z"
   },
   {
    "duration": 49,
    "start_time": "2025-07-18T21:02:11.443Z"
   },
   {
    "duration": 100,
    "start_time": "2025-07-18T21:14:13.181Z"
   },
   {
    "duration": 3,
    "start_time": "2025-07-18T21:17:42.976Z"
   },
   {
    "duration": 11,
    "start_time": "2025-07-18T21:18:02.248Z"
   },
   {
    "duration": 10,
    "start_time": "2025-07-18T21:22:24.788Z"
   },
   {
    "duration": 14,
    "start_time": "2025-07-18T21:23:35.229Z"
   },
   {
    "duration": 16,
    "start_time": "2025-07-18T21:23:50.901Z"
   },
   {
    "duration": 8,
    "start_time": "2025-07-18T21:27:50.536Z"
   },
   {
    "duration": 11,
    "start_time": "2025-07-18T21:28:35.595Z"
   },
   {
    "duration": 10,
    "start_time": "2025-07-18T21:29:32.472Z"
   },
   {
    "duration": 11,
    "start_time": "2025-07-18T21:29:33.620Z"
   },
   {
    "duration": 6,
    "start_time": "2025-07-18T21:29:33.954Z"
   },
   {
    "duration": 8,
    "start_time": "2025-07-18T21:29:34.204Z"
   },
   {
    "duration": 127,
    "start_time": "2025-07-18T21:34:22.528Z"
   },
   {
    "duration": 35,
    "start_time": "2025-07-18T21:37:38.746Z"
   },
   {
    "duration": 98,
    "start_time": "2025-07-18T21:44:15.759Z"
   },
   {
    "duration": 1599,
    "start_time": "2025-07-18T21:45:32.415Z"
   },
   {
    "duration": 1490,
    "start_time": "2025-07-18T21:45:34.905Z"
   },
   {
    "duration": 1522,
    "start_time": "2025-07-18T21:45:57.059Z"
   },
   {
    "duration": 1525,
    "start_time": "2025-07-18T21:46:41.982Z"
   },
   {
    "duration": 1498,
    "start_time": "2025-07-18T21:46:49.980Z"
   },
   {
    "duration": 1586,
    "start_time": "2025-07-18T21:47:51.300Z"
   },
   {
    "duration": 1480,
    "start_time": "2025-07-18T21:49:58.773Z"
   },
   {
    "duration": 11,
    "start_time": "2025-07-18T21:51:39.552Z"
   },
   {
    "duration": 7,
    "start_time": "2025-07-18T21:52:40.228Z"
   },
   {
    "duration": 5,
    "start_time": "2025-07-18T21:52:44.624Z"
   },
   {
    "duration": 22,
    "start_time": "2025-07-18T21:53:04.150Z"
   },
   {
    "duration": 16,
    "start_time": "2025-07-18T21:55:25.724Z"
   },
   {
    "duration": 410,
    "start_time": "2025-07-18T21:56:15.680Z"
   },
   {
    "duration": 21,
    "start_time": "2025-07-18T21:57:14.061Z"
   },
   {
    "duration": 16,
    "start_time": "2025-07-18T21:58:35.291Z"
   },
   {
    "duration": 17,
    "start_time": "2025-07-18T21:59:51.294Z"
   },
   {
    "duration": 17,
    "start_time": "2025-07-18T21:59:52.680Z"
   },
   {
    "duration": 88,
    "start_time": "2025-07-18T22:00:49.586Z"
   },
   {
    "duration": 135,
    "start_time": "2025-07-18T22:01:02.031Z"
   },
   {
    "duration": 10,
    "start_time": "2025-07-18T22:24:59.453Z"
   },
   {
    "duration": 9,
    "start_time": "2025-07-18T22:26:04.481Z"
   },
   {
    "duration": 7,
    "start_time": "2025-07-18T22:27:36.904Z"
   },
   {
    "duration": 6,
    "start_time": "2025-07-18T22:27:51.687Z"
   },
   {
    "duration": 1248,
    "start_time": "2025-07-19T09:06:03.451Z"
   },
   {
    "duration": 15,
    "start_time": "2025-07-19T09:06:04.702Z"
   },
   {
    "duration": 71,
    "start_time": "2025-07-19T09:06:04.720Z"
   },
   {
    "duration": 14,
    "start_time": "2025-07-19T09:06:04.792Z"
   },
   {
    "duration": 22,
    "start_time": "2025-07-19T09:06:04.808Z"
   },
   {
    "duration": 43,
    "start_time": "2025-07-19T09:06:04.831Z"
   },
   {
    "duration": 105,
    "start_time": "2025-07-19T09:06:04.876Z"
   },
   {
    "duration": 94,
    "start_time": "2025-07-19T09:06:04.983Z"
   },
   {
    "duration": 811,
    "start_time": "2025-07-19T09:06:05.081Z"
   },
   {
    "duration": 8,
    "start_time": "2025-07-19T09:06:05.894Z"
   },
   {
    "duration": 31,
    "start_time": "2025-07-19T09:06:05.903Z"
   },
   {
    "duration": 1503,
    "start_time": "2025-07-19T09:06:05.936Z"
   },
   {
    "duration": 13,
    "start_time": "2025-07-19T09:06:07.441Z"
   },
   {
    "duration": 22,
    "start_time": "2025-07-19T09:06:07.457Z"
   },
   {
    "duration": 129,
    "start_time": "2025-07-19T09:06:07.481Z"
   },
   {
    "duration": 9,
    "start_time": "2025-07-19T09:06:07.612Z"
   },
   {
    "duration": 68,
    "start_time": "2025-07-19T09:06:07.623Z"
   },
   {
    "duration": 19,
    "start_time": "2025-07-19T09:06:07.693Z"
   },
   {
    "duration": 91,
    "start_time": "2025-07-19T09:06:07.714Z"
   },
   {
    "duration": 6,
    "start_time": "2025-07-19T09:06:07.807Z"
   },
   {
    "duration": 77,
    "start_time": "2025-07-19T09:06:07.815Z"
   },
   {
    "duration": 8,
    "start_time": "2025-07-19T09:06:07.893Z"
   },
   {
    "duration": 64,
    "start_time": "2025-07-19T09:06:07.902Z"
   },
   {
    "duration": 33,
    "start_time": "2025-07-19T09:06:07.967Z"
   },
   {
    "duration": 14,
    "start_time": "2025-07-19T09:06:08.003Z"
   },
   {
    "duration": 38,
    "start_time": "2025-07-19T09:06:08.019Z"
   },
   {
    "duration": 6,
    "start_time": "2025-07-19T09:06:08.058Z"
   },
   {
    "duration": 25,
    "start_time": "2025-07-19T09:06:08.066Z"
   },
   {
    "duration": 25,
    "start_time": "2025-07-19T09:06:08.093Z"
   },
   {
    "duration": 1436,
    "start_time": "2025-08-27T17:45:23.497Z"
   },
   {
    "duration": 11,
    "start_time": "2025-08-27T17:45:24.936Z"
   },
   {
    "duration": 68,
    "start_time": "2025-08-27T17:45:24.949Z"
   },
   {
    "duration": 14,
    "start_time": "2025-08-27T17:45:25.019Z"
   },
   {
    "duration": 20,
    "start_time": "2025-08-27T17:45:25.035Z"
   },
   {
    "duration": 16,
    "start_time": "2025-08-27T17:45:25.056Z"
   },
   {
    "duration": 21,
    "start_time": "2025-08-27T17:45:25.074Z"
   },
   {
    "duration": 7,
    "start_time": "2025-08-27T17:45:25.102Z"
   },
   {
    "duration": 1295,
    "start_time": "2025-08-27T17:45:25.111Z"
   },
   {
    "duration": 6,
    "start_time": "2025-08-27T17:45:26.408Z"
   },
   {
    "duration": 13,
    "start_time": "2025-08-27T17:45:26.416Z"
   },
   {
    "duration": 1526,
    "start_time": "2025-08-27T17:45:26.431Z"
   },
   {
    "duration": 13,
    "start_time": "2025-08-27T17:45:27.959Z"
   },
   {
    "duration": 9,
    "start_time": "2025-08-27T17:45:27.989Z"
   },
   {
    "duration": 126,
    "start_time": "2025-08-27T17:45:27.999Z"
   },
   {
    "duration": 8,
    "start_time": "2025-08-27T17:45:28.127Z"
   },
   {
    "duration": 59,
    "start_time": "2025-08-27T17:45:28.137Z"
   },
   {
    "duration": 19,
    "start_time": "2025-08-27T17:45:28.198Z"
   },
   {
    "duration": 6,
    "start_time": "2025-08-27T17:45:28.219Z"
   },
   {
    "duration": 5,
    "start_time": "2025-08-27T17:45:28.227Z"
   },
   {
    "duration": 109,
    "start_time": "2025-08-27T17:45:28.233Z"
   },
   {
    "duration": 8,
    "start_time": "2025-08-27T17:45:28.344Z"
   },
   {
    "duration": 85,
    "start_time": "2025-08-27T17:45:28.354Z"
   },
   {
    "duration": 15,
    "start_time": "2025-08-27T17:45:28.442Z"
   },
   {
    "duration": 32,
    "start_time": "2025-08-27T17:45:28.459Z"
   },
   {
    "duration": 32,
    "start_time": "2025-08-27T17:45:28.493Z"
   },
   {
    "duration": 6,
    "start_time": "2025-08-27T17:45:28.527Z"
   },
   {
    "duration": 4,
    "start_time": "2025-08-27T17:45:28.534Z"
   },
   {
    "duration": 8,
    "start_time": "2025-08-27T17:45:28.540Z"
   },
   {
    "duration": 116,
    "start_time": "2025-08-27T17:48:04.500Z"
   },
   {
    "duration": 110,
    "start_time": "2025-08-27T17:48:10.473Z"
   },
   {
    "duration": 13,
    "start_time": "2025-08-27T17:48:19.625Z"
   },
   {
    "duration": 52,
    "start_time": "2025-08-27T17:48:39.136Z"
   },
   {
    "duration": 50,
    "start_time": "2025-08-27T17:48:47.829Z"
   }
  ],
  "colab": {
   "provenance": [],
   "toc_visible": true
  },
  "kernelspec": {
   "display_name": "Python 3 (ipykernel)",
   "language": "python",
   "name": "python3"
  },
  "language_info": {
   "codemirror_mode": {
    "name": "ipython",
    "version": 3
   },
   "file_extension": ".py",
   "mimetype": "text/x-python",
   "name": "python",
   "nbconvert_exporter": "python",
   "pygments_lexer": "ipython3",
   "version": "3.9.5"
  },
  "toc": {
   "base_numbering": 1,
   "nav_menu": {},
   "number_sections": true,
   "sideBar": true,
   "skip_h1_title": true,
   "title_cell": "Table of Contents",
   "title_sidebar": "Contents",
   "toc_cell": false,
   "toc_position": {
    "height": "calc(100% - 180px)",
    "left": "10px",
    "top": "150px",
    "width": "456.719px"
   },
   "toc_section_display": true,
   "toc_window_display": true
  }
 },
 "nbformat": 4,
 "nbformat_minor": 5
}
