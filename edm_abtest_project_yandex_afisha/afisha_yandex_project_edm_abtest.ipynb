{
 "cells": [
  {
   "cell_type": "markdown",
   "metadata": {
    "id": "LMuaGIE3lGcr"
   },
   "source": [
    "## Яндекс.Афиша.Анализ.\n",
    "Автор: Симуткин М.А.  \n",
    "Дата: 28.07.25"
   ]
  },
  {
   "cell_type": "markdown",
   "metadata": {},
   "source": [
    "**Цели и задачи**  \n",
    "\n",
    "Провести исследовательский анализ данных в Python, чтобы выявить инсайты об изменении пользовательских предпочтений и популярности событий осенью 2024 года, а также проверить гипотезы о разнице в поведении пользователей с мобильными и стационарными устройствами."
   ]
  },
  {
   "cell_type": "markdown",
   "metadata": {},
   "source": [
    "**Описание данных**  \n",
    "\n",
    "включает информацию обо всех заказах билетов, совершённых с двух типов устройств — мобильных и стационарных:\n",
    "- `order_id` — уникальный идентификатор заказа.\n",
    "- `user_id` — уникальный идентификатор пользователя.\n",
    "- `created_dt_msk` — дата создания заказа (московское время).\n",
    "- `created_ts_msk` — дата и время создания заказа (московское время).\n",
    "- `event_id` — идентификатор мероприятия из таблицы events.\n",
    "- `cinema_circuit` — сеть кинотеатров. Если не применимо, то здесь будет значение 'нет'.\n",
    "- `age_limit` — возрастное ограничение мероприятия.\n",
    "- `currency_code` — валюта оплаты, например rub для российских рублей.\n",
    "- `device_type_canonical` — тип устройства, с которого был оформлен заказ, например mobile для мобильных устройств, desktop для стационарных.\n",
    "- `revenue` — выручка от заказа.\n",
    "- `service_name` — название билетного оператора.\n",
    "- `tickets_count` — количество купленных билетов.\n",
    "- `total` — общая сумма заказа.\n",
    "В данные также был добавлен столбец days_since_prev с количеством дней с предыдущей покупки для каждого пользователя. Если покупки не было, то данные содержат пропуск.  \n",
    "\n",
    "содержит информацию о событиях, включая город и регион события, а также информацию о площадке проведения мероприятия. Обратите внимание, что из данных исключили фильмы, ведь, как было видно на дашборде, событий такого типа не так много:\n",
    "- `event_id` — уникальный идентификатор мероприятия.\n",
    "- `event_name` — название мероприятия. Аналог поля event_name_code из исходной базы данных.\n",
    "- `event_type_description` — описание типа мероприятия.\n",
    "- `event_type_main` — основной тип мероприятия: театральная постановка, концерт и так далее.\n",
    "- `organizers` — организаторы мероприятия.\n",
    "- `region_name` — название региона.\n",
    "- `city_name` — название города.\n",
    "- `venue_id` — уникальный идентификатор площадки.\n",
    "- `venue_name` — название площадки.\n",
    "- `venue_address` — адрес площадки.  \n",
    "\n",
    "Анализ данных в предыдущей части проекта показал, что выручка от заказов представлена в двух валютах — российских рублях и казахстанских тенге.  \n",
    "Для удобства решения было бы корректно привести данные к одной валюте, например к российским рублям.  \n",
    "с информацией о курсе тенге к российскому рублю за 2024 год. Значения в рублях представлено для 100 тенге:\n",
    "- `nominal` — номинал (100 тенге).\n",
    "- `data` — дата.\n",
    "- `curs` — курс тенге к рублю.\n",
    "- `cdx` — обозначение валюты (kzt)."
   ]
  },
  {
   "cell_type": "markdown",
   "metadata": {},
   "source": [
    "**Содержание проекта**\n",
    "1. [Вступление](#Яндекс.Афиша.Анализ.)\n",
    "2. [Загрузка данных и знакомство с ними](#Загрузка-данных-и-знакомство-с-ними)\n",
    "3. [Предобработка данных и подготовка их к исследованию](#Предобработка-данных-и-подготовка-их-к-исследованию)\n",
    "4. [Исследовательский анализ данных](#Исследовательский-анализ-данных)  \n",
    "    4.1. [Анализ распределения заказов по сегментам и их сезонные изменения](#Анализ-распределения-заказов-по-сегментам-и-их-сезонные-изменения)  \n",
    "    4.2. [Осенняя активность пользователей](#Осенняя-активность-пользователей)  \n",
    "    4.3. [Популярные события и партнёры](#Популярные-события-и-партнёры)  \n",
    "5. [Статистический анализ данных](#Статистический-анализ-данных)\n",
    "6. [Общий вывод и рекомендации](#Общий-вывод-и-рекомендации)"
   ]
  },
  {
   "cell_type": "markdown",
   "metadata": {},
   "source": [
    "## Загрузка данных и знакомство с ними\n",
    "Загрузите данные и получите первую информацию о них. Оцените объём данных, их корректность и соответствие описанию, а также предположите, какие шаги необходимо сделать на стадии предобработки данных. Основные моменты зафиксируйте в промежуточном выводе."
   ]
  },
  {
   "cell_type": "code",
   "execution_count": 1,
   "metadata": {},
   "outputs": [],
   "source": [
    "#импорт библиотека\n",
    "import pandas as pd\n",
    "import numpy as np\n",
    "import matplotlib.pyplot as plt\n",
    "import matplotlib.dates as mdates\n",
    "import seaborn as sns"
   ]
  },
  {
   "cell_type": "code",
   "execution_count": 2,
   "metadata": {},
   "outputs": [],
   "source": [
    "#импорт методов из библиотек\n",
    "from scipy import stats\n",
    "from scipy.stats import ttest_ind"
   ]
  },
  {
   "cell_type": "code",
   "execution_count": 3,
   "metadata": {},
   "outputs": [],
   "source": [
    "#загрузка данных\n",
    "df_order = pd.read_csv('_')\n",
    "df_event = pd.read_csv('_')\n",
    "df_tenge = pd.read_csv('_')"
   ]
  },
  {
   "cell_type": "code",
   "execution_count": 4,
   "metadata": {},
   "outputs": [
    {
     "name": "stdout",
     "output_type": "stream",
     "text": [
      "<class 'pandas.core.frame.DataFrame'>\n",
      "RangeIndex: 290849 entries, 0 to 290848\n",
      "Data columns (total 14 columns):\n",
      " #   Column                 Non-Null Count   Dtype  \n",
      "---  ------                 --------------   -----  \n",
      " 0   order_id               290849 non-null  int64  \n",
      " 1   user_id                290849 non-null  object \n",
      " 2   created_dt_msk         290849 non-null  object \n",
      " 3   created_ts_msk         290849 non-null  object \n",
      " 4   event_id               290849 non-null  int64  \n",
      " 5   cinema_circuit         290849 non-null  object \n",
      " 6   age_limit              290849 non-null  int64  \n",
      " 7   currency_code          290849 non-null  object \n",
      " 8   device_type_canonical  290849 non-null  object \n",
      " 9   revenue                290849 non-null  float64\n",
      " 10  service_name           290849 non-null  object \n",
      " 11  tickets_count          290849 non-null  int64  \n",
      " 12  total                  290849 non-null  float64\n",
      " 13  days_since_prev        268909 non-null  float64\n",
      "dtypes: float64(3), int64(4), object(7)\n",
      "memory usage: 31.1+ MB\n"
     ]
    },
    {
     "data": {
      "text/html": [
       "<div>\n",
       "<style scoped>\n",
       "    .dataframe tbody tr th:only-of-type {\n",
       "        vertical-align: middle;\n",
       "    }\n",
       "\n",
       "    .dataframe tbody tr th {\n",
       "        vertical-align: top;\n",
       "    }\n",
       "\n",
       "    .dataframe thead th {\n",
       "        text-align: right;\n",
       "    }\n",
       "</style>\n",
       "<table border=\"1\" class=\"dataframe\">\n",
       "  <thead>\n",
       "    <tr style=\"text-align: right;\">\n",
       "      <th></th>\n",
       "      <th>order_id</th>\n",
       "      <th>user_id</th>\n",
       "      <th>created_dt_msk</th>\n",
       "      <th>created_ts_msk</th>\n",
       "      <th>event_id</th>\n",
       "      <th>cinema_circuit</th>\n",
       "      <th>age_limit</th>\n",
       "      <th>currency_code</th>\n",
       "      <th>device_type_canonical</th>\n",
       "      <th>revenue</th>\n",
       "      <th>service_name</th>\n",
       "      <th>tickets_count</th>\n",
       "      <th>total</th>\n",
       "      <th>days_since_prev</th>\n",
       "    </tr>\n",
       "  </thead>\n",
       "  <tbody>\n",
       "    <tr>\n",
       "      <th>0</th>\n",
       "      <td>4359165</td>\n",
       "      <td>0002849b70a3ce2</td>\n",
       "      <td>2024-08-20</td>\n",
       "      <td>2024-08-20 16:08:03</td>\n",
       "      <td>169230</td>\n",
       "      <td>нет</td>\n",
       "      <td>16</td>\n",
       "      <td>rub</td>\n",
       "      <td>mobile</td>\n",
       "      <td>1521.94</td>\n",
       "      <td>Край билетов</td>\n",
       "      <td>4</td>\n",
       "      <td>10870.99</td>\n",
       "      <td>NaN</td>\n",
       "    </tr>\n",
       "    <tr>\n",
       "      <th>1</th>\n",
       "      <td>7965605</td>\n",
       "      <td>0005ca5e93f2cf4</td>\n",
       "      <td>2024-07-23</td>\n",
       "      <td>2024-07-23 18:36:24</td>\n",
       "      <td>237325</td>\n",
       "      <td>нет</td>\n",
       "      <td>0</td>\n",
       "      <td>rub</td>\n",
       "      <td>mobile</td>\n",
       "      <td>289.45</td>\n",
       "      <td>Мой билет</td>\n",
       "      <td>2</td>\n",
       "      <td>2067.51</td>\n",
       "      <td>NaN</td>\n",
       "    </tr>\n",
       "    <tr>\n",
       "      <th>2</th>\n",
       "      <td>7292370</td>\n",
       "      <td>0005ca5e93f2cf4</td>\n",
       "      <td>2024-10-06</td>\n",
       "      <td>2024-10-06 13:56:02</td>\n",
       "      <td>578454</td>\n",
       "      <td>нет</td>\n",
       "      <td>0</td>\n",
       "      <td>rub</td>\n",
       "      <td>mobile</td>\n",
       "      <td>1258.57</td>\n",
       "      <td>За билетом!</td>\n",
       "      <td>4</td>\n",
       "      <td>13984.16</td>\n",
       "      <td>75.0</td>\n",
       "    </tr>\n",
       "    <tr>\n",
       "      <th>3</th>\n",
       "      <td>1139875</td>\n",
       "      <td>000898990054619</td>\n",
       "      <td>2024-07-13</td>\n",
       "      <td>2024-07-13 19:40:48</td>\n",
       "      <td>387271</td>\n",
       "      <td>нет</td>\n",
       "      <td>0</td>\n",
       "      <td>rub</td>\n",
       "      <td>mobile</td>\n",
       "      <td>8.49</td>\n",
       "      <td>Лови билет!</td>\n",
       "      <td>2</td>\n",
       "      <td>212.28</td>\n",
       "      <td>NaN</td>\n",
       "    </tr>\n",
       "    <tr>\n",
       "      <th>4</th>\n",
       "      <td>972400</td>\n",
       "      <td>000898990054619</td>\n",
       "      <td>2024-10-04</td>\n",
       "      <td>2024-10-04 22:33:15</td>\n",
       "      <td>509453</td>\n",
       "      <td>нет</td>\n",
       "      <td>18</td>\n",
       "      <td>rub</td>\n",
       "      <td>mobile</td>\n",
       "      <td>1390.41</td>\n",
       "      <td>Билеты без проблем</td>\n",
       "      <td>3</td>\n",
       "      <td>10695.43</td>\n",
       "      <td>83.0</td>\n",
       "    </tr>\n",
       "  </tbody>\n",
       "</table>\n",
       "</div>"
      ],
      "text/plain": [
       "   order_id          user_id created_dt_msk       created_ts_msk  event_id  \\\n",
       "0   4359165  0002849b70a3ce2     2024-08-20  2024-08-20 16:08:03    169230   \n",
       "1   7965605  0005ca5e93f2cf4     2024-07-23  2024-07-23 18:36:24    237325   \n",
       "2   7292370  0005ca5e93f2cf4     2024-10-06  2024-10-06 13:56:02    578454   \n",
       "3   1139875  000898990054619     2024-07-13  2024-07-13 19:40:48    387271   \n",
       "4    972400  000898990054619     2024-10-04  2024-10-04 22:33:15    509453   \n",
       "\n",
       "  cinema_circuit  age_limit currency_code device_type_canonical  revenue  \\\n",
       "0            нет         16           rub                mobile  1521.94   \n",
       "1            нет          0           rub                mobile   289.45   \n",
       "2            нет          0           rub                mobile  1258.57   \n",
       "3            нет          0           rub                mobile     8.49   \n",
       "4            нет         18           rub                mobile  1390.41   \n",
       "\n",
       "         service_name  tickets_count     total  days_since_prev  \n",
       "0        Край билетов              4  10870.99              NaN  \n",
       "1           Мой билет              2   2067.51              NaN  \n",
       "2         За билетом!              4  13984.16             75.0  \n",
       "3         Лови билет!              2    212.28              NaN  \n",
       "4  Билеты без проблем              3  10695.43             83.0  "
      ]
     },
     "metadata": {},
     "output_type": "display_data"
    }
   ],
   "source": [
    "#включает информацию обо всех заказах билетов, совершённых с двух типов устройств — мобильных и стационарных\n",
    "df_order.info()\n",
    "display(df_order.head(5))"
   ]
  },
  {
   "cell_type": "code",
   "execution_count": 5,
   "metadata": {},
   "outputs": [
    {
     "name": "stdout",
     "output_type": "stream",
     "text": [
      "<class 'pandas.core.frame.DataFrame'>\n",
      "RangeIndex: 22427 entries, 0 to 22426\n",
      "Data columns (total 11 columns):\n",
      " #   Column                  Non-Null Count  Dtype \n",
      "---  ------                  --------------  ----- \n",
      " 0   event_id                22427 non-null  int64 \n",
      " 1   event_name              22427 non-null  object\n",
      " 2   event_type_description  22427 non-null  object\n",
      " 3   event_type_main         22427 non-null  object\n",
      " 4   organizers              22427 non-null  object\n",
      " 5   region_name             22427 non-null  object\n",
      " 6   city_name               22427 non-null  object\n",
      " 7   city_id                 22427 non-null  int64 \n",
      " 8   venue_id                22427 non-null  int64 \n",
      " 9   venue_name              22427 non-null  object\n",
      " 10  venue_address           22427 non-null  object\n",
      "dtypes: int64(3), object(8)\n",
      "memory usage: 1.9+ MB\n"
     ]
    },
    {
     "data": {
      "text/html": [
       "<div>\n",
       "<style scoped>\n",
       "    .dataframe tbody tr th:only-of-type {\n",
       "        vertical-align: middle;\n",
       "    }\n",
       "\n",
       "    .dataframe tbody tr th {\n",
       "        vertical-align: top;\n",
       "    }\n",
       "\n",
       "    .dataframe thead th {\n",
       "        text-align: right;\n",
       "    }\n",
       "</style>\n",
       "<table border=\"1\" class=\"dataframe\">\n",
       "  <thead>\n",
       "    <tr style=\"text-align: right;\">\n",
       "      <th></th>\n",
       "      <th>event_id</th>\n",
       "      <th>event_name</th>\n",
       "      <th>event_type_description</th>\n",
       "      <th>event_type_main</th>\n",
       "      <th>organizers</th>\n",
       "      <th>region_name</th>\n",
       "      <th>city_name</th>\n",
       "      <th>city_id</th>\n",
       "      <th>venue_id</th>\n",
       "      <th>venue_name</th>\n",
       "      <th>venue_address</th>\n",
       "    </tr>\n",
       "  </thead>\n",
       "  <tbody>\n",
       "    <tr>\n",
       "      <th>0</th>\n",
       "      <td>4436</td>\n",
       "      <td>e4f26fba-da77-4c61-928a-6c3e434d793f</td>\n",
       "      <td>спектакль</td>\n",
       "      <td>театр</td>\n",
       "      <td>№4893</td>\n",
       "      <td>Североярская область</td>\n",
       "      <td>Озёрск</td>\n",
       "      <td>2</td>\n",
       "      <td>1600</td>\n",
       "      <td>Кладбище искусств \"Проблема\" и партнеры</td>\n",
       "      <td>наб. Загородная, д. 785</td>\n",
       "    </tr>\n",
       "    <tr>\n",
       "      <th>1</th>\n",
       "      <td>5785</td>\n",
       "      <td>5cc08a60-fdea-4186-9bb2-bffc3603fb77</td>\n",
       "      <td>спектакль</td>\n",
       "      <td>театр</td>\n",
       "      <td>№1931</td>\n",
       "      <td>Светополянский округ</td>\n",
       "      <td>Глиноград</td>\n",
       "      <td>54</td>\n",
       "      <td>2196</td>\n",
       "      <td>Лекции по искусству \"Свет\" Групп</td>\n",
       "      <td>ул. Ягодная, д. 942</td>\n",
       "    </tr>\n",
       "    <tr>\n",
       "      <th>2</th>\n",
       "      <td>8817</td>\n",
       "      <td>8e379a89-3a10-4811-ba06-ec22ebebe989</td>\n",
       "      <td>спектакль</td>\n",
       "      <td>театр</td>\n",
       "      <td>№4896</td>\n",
       "      <td>Североярская область</td>\n",
       "      <td>Озёрск</td>\n",
       "      <td>2</td>\n",
       "      <td>4043</td>\n",
       "      <td>Кинокомитет \"Золотая\" Инк</td>\n",
       "      <td>ш. Коммуны, д. 92 стр. 6</td>\n",
       "    </tr>\n",
       "    <tr>\n",
       "      <th>3</th>\n",
       "      <td>8849</td>\n",
       "      <td>682e3129-6a32-4952-9d8a-ef7f60d4c247</td>\n",
       "      <td>спектакль</td>\n",
       "      <td>театр</td>\n",
       "      <td>№4960</td>\n",
       "      <td>Каменевский регион</td>\n",
       "      <td>Глиногорск</td>\n",
       "      <td>213</td>\n",
       "      <td>1987</td>\n",
       "      <td>Выставка ремесел \"Свет\" Лтд</td>\n",
       "      <td>пер. Набережный, д. 35</td>\n",
       "    </tr>\n",
       "    <tr>\n",
       "      <th>4</th>\n",
       "      <td>8850</td>\n",
       "      <td>d6e99176-c77f-4af0-9222-07c571f6c624</td>\n",
       "      <td>спектакль</td>\n",
       "      <td>театр</td>\n",
       "      <td>№4770</td>\n",
       "      <td>Лесодальний край</td>\n",
       "      <td>Родниковец</td>\n",
       "      <td>55</td>\n",
       "      <td>4230</td>\n",
       "      <td>Фестивальный проект \"Листья\" Групп</td>\n",
       "      <td>пер. Проезжий, д. 9</td>\n",
       "    </tr>\n",
       "  </tbody>\n",
       "</table>\n",
       "</div>"
      ],
      "text/plain": [
       "   event_id                            event_name event_type_description  \\\n",
       "0      4436  e4f26fba-da77-4c61-928a-6c3e434d793f              спектакль   \n",
       "1      5785  5cc08a60-fdea-4186-9bb2-bffc3603fb77              спектакль   \n",
       "2      8817  8e379a89-3a10-4811-ba06-ec22ebebe989              спектакль   \n",
       "3      8849  682e3129-6a32-4952-9d8a-ef7f60d4c247              спектакль   \n",
       "4      8850  d6e99176-c77f-4af0-9222-07c571f6c624              спектакль   \n",
       "\n",
       "  event_type_main organizers           region_name   city_name  city_id  \\\n",
       "0           театр      №4893  Североярская область      Озёрск        2   \n",
       "1           театр      №1931  Светополянский округ   Глиноград       54   \n",
       "2           театр      №4896  Североярская область      Озёрск        2   \n",
       "3           театр      №4960    Каменевский регион  Глиногорск      213   \n",
       "4           театр      №4770      Лесодальний край  Родниковец       55   \n",
       "\n",
       "   venue_id                               venue_name             venue_address  \n",
       "0      1600  Кладбище искусств \"Проблема\" и партнеры   наб. Загородная, д. 785  \n",
       "1      2196         Лекции по искусству \"Свет\" Групп       ул. Ягодная, д. 942  \n",
       "2      4043                Кинокомитет \"Золотая\" Инк  ш. Коммуны, д. 92 стр. 6  \n",
       "3      1987              Выставка ремесел \"Свет\" Лтд    пер. Набережный, д. 35  \n",
       "4      4230       Фестивальный проект \"Листья\" Групп       пер. Проезжий, д. 9  "
      ]
     },
     "metadata": {},
     "output_type": "display_data"
    }
   ],
   "source": [
    "#содержит информацию о событиях, включая город и регион события, а также информацию о площадке проведения мероприятия\n",
    "df_event.info()\n",
    "display(df_event.head(5))"
   ]
  },
  {
   "cell_type": "code",
   "execution_count": 6,
   "metadata": {},
   "outputs": [
    {
     "name": "stdout",
     "output_type": "stream",
     "text": [
      "<class 'pandas.core.frame.DataFrame'>\n",
      "RangeIndex: 357 entries, 0 to 356\n",
      "Data columns (total 4 columns):\n",
      " #   Column   Non-Null Count  Dtype  \n",
      "---  ------   --------------  -----  \n",
      " 0   data     357 non-null    object \n",
      " 1   nominal  357 non-null    int64  \n",
      " 2   curs     357 non-null    float64\n",
      " 3   cdx      357 non-null    object \n",
      "dtypes: float64(1), int64(1), object(2)\n",
      "memory usage: 11.3+ KB\n"
     ]
    },
    {
     "data": {
      "text/html": [
       "<div>\n",
       "<style scoped>\n",
       "    .dataframe tbody tr th:only-of-type {\n",
       "        vertical-align: middle;\n",
       "    }\n",
       "\n",
       "    .dataframe tbody tr th {\n",
       "        vertical-align: top;\n",
       "    }\n",
       "\n",
       "    .dataframe thead th {\n",
       "        text-align: right;\n",
       "    }\n",
       "</style>\n",
       "<table border=\"1\" class=\"dataframe\">\n",
       "  <thead>\n",
       "    <tr style=\"text-align: right;\">\n",
       "      <th></th>\n",
       "      <th>data</th>\n",
       "      <th>nominal</th>\n",
       "      <th>curs</th>\n",
       "      <th>cdx</th>\n",
       "    </tr>\n",
       "  </thead>\n",
       "  <tbody>\n",
       "    <tr>\n",
       "      <th>0</th>\n",
       "      <td>2024-01-10</td>\n",
       "      <td>100</td>\n",
       "      <td>19.9391</td>\n",
       "      <td>kzt</td>\n",
       "    </tr>\n",
       "    <tr>\n",
       "      <th>1</th>\n",
       "      <td>2024-01-11</td>\n",
       "      <td>100</td>\n",
       "      <td>19.7255</td>\n",
       "      <td>kzt</td>\n",
       "    </tr>\n",
       "    <tr>\n",
       "      <th>2</th>\n",
       "      <td>2024-01-12</td>\n",
       "      <td>100</td>\n",
       "      <td>19.5839</td>\n",
       "      <td>kzt</td>\n",
       "    </tr>\n",
       "    <tr>\n",
       "      <th>3</th>\n",
       "      <td>2024-01-13</td>\n",
       "      <td>100</td>\n",
       "      <td>19.4501</td>\n",
       "      <td>kzt</td>\n",
       "    </tr>\n",
       "    <tr>\n",
       "      <th>4</th>\n",
       "      <td>2024-01-14</td>\n",
       "      <td>100</td>\n",
       "      <td>19.4501</td>\n",
       "      <td>kzt</td>\n",
       "    </tr>\n",
       "  </tbody>\n",
       "</table>\n",
       "</div>"
      ],
      "text/plain": [
       "         data  nominal     curs  cdx\n",
       "0  2024-01-10      100  19.9391  kzt\n",
       "1  2024-01-11      100  19.7255  kzt\n",
       "2  2024-01-12      100  19.5839  kzt\n",
       "3  2024-01-13      100  19.4501  kzt\n",
       "4  2024-01-14      100  19.4501  kzt"
      ]
     },
     "metadata": {},
     "output_type": "display_data"
    }
   ],
   "source": [
    "#с информацией о курсе тенге к российскому рублю за 2024 год\n",
    "df_tenge.info()\n",
    "display(df_tenge.head(5))"
   ]
  },
  {
   "cell_type": "markdown",
   "metadata": {},
   "source": [
    "#### Вывод:\n",
    "1. df_order — таблица заказов:\n",
    "    - 290,849 записей, 14 столбцов.\n",
    "    - Все строки заполнены, кроме столбца days_since_prev, что логично — пропуски там, где нет предыдущей покупки (первая покупка пользователя)\n",
    "    - Даты и время представлены строками, потребуется преобразование в datetime для анализа по времени.\n",
    "    - Валюта указана в двух вариантах: rub и kzt — необходимо привести к одной валюте.\n",
    "2. df_event — таблица событий:\n",
    "    - 22,427 записей, 11 столбцов.\n",
    "    - Все поля заполнены.\n",
    "3. df_tenge — курс тенге к рублю:\n",
    "    - 357 записей, 4 столбца.\n",
    "    - Все поля заполнены.\n",
    "    - Даты в строковом формате, нужно преобразовать в datetime."
   ]
  },
  {
   "cell_type": "markdown",
   "metadata": {},
   "source": [
    "## Предобработка данных и подготовка их к исследованию"
   ]
  },
  {
   "cell_type": "code",
   "execution_count": 7,
   "metadata": {},
   "outputs": [],
   "source": [
    "#объдиняем данные в один датафрейм для удобной работы\n",
    "df = df_order.merge(df_event, on='event_id', how='left', suffixes=('', '_event'))"
   ]
  },
  {
   "cell_type": "code",
   "execution_count": 8,
   "metadata": {},
   "outputs": [],
   "source": [
    "#преобразование типов дат\n",
    "df['created_dt_msk'] = pd.to_datetime(df['created_dt_msk'])\n",
    "df['created_ts_msk'] = pd.to_datetime(df['created_ts_msk'])\n",
    "df_tenge['data'] = pd.to_datetime(df_tenge['data'])"
   ]
  },
  {
   "cell_type": "code",
   "execution_count": 9,
   "metadata": {},
   "outputs": [
    {
     "data": {
      "text/plain": [
       "rub    285780\n",
       "kzt      5069\n",
       "Name: currency_code, dtype: int64"
      ]
     },
     "metadata": {},
     "output_type": "display_data"
    },
    {
     "data": {
      "text/plain": [
       "mobile     232679\n",
       "desktop     58170\n",
       "Name: device_type_canonical, dtype: int64"
      ]
     },
     "metadata": {},
     "output_type": "display_data"
    },
    {
     "data": {
      "text/plain": [
       "нет           289451\n",
       "Другое          1261\n",
       "КиноСити         122\n",
       "Киномакс           7\n",
       "Москино            7\n",
       "ЦентрФильм         1\n",
       "Name: cinema_circuit, dtype: int64"
      ]
     },
     "metadata": {},
     "output_type": "display_data"
    },
    {
     "data": {
      "text/plain": [
       "Билеты без проблем        63709\n",
       "Лови билет!               41126\n",
       "Билеты в руки             40364\n",
       "Мой билет                 34843\n",
       "Облачко                   26642\n",
       "Лучшие билеты             17795\n",
       "Весь в билетах            16849\n",
       "Прачечная                 10273\n",
       "Край билетов               6207\n",
       "Тебе билет!                5228\n",
       "Яблоко                     5039\n",
       "Дом культуры               4502\n",
       "За билетом!                2865\n",
       "Городской дом культуры     2733\n",
       "Show_ticket                2200\n",
       "Мир касс                   2167\n",
       "Быстробилет                2003\n",
       "Выступления.ру             1616\n",
       "Восьмёрка                  1118\n",
       "Crazy ticket!               790\n",
       "Росбилет                    539\n",
       "Шоу начинается!             499\n",
       "Быстрый кассир              381\n",
       "Радио ticket                376\n",
       "Телебилет                   321\n",
       "КарандашРУ                  133\n",
       "Реестр                      125\n",
       "Билет по телефону            85\n",
       "Вперёд!                      80\n",
       "Дырокол                      74\n",
       "Кино билет                   67\n",
       "Цвет и билет                 61\n",
       "Тех билет                    22\n",
       "Лимоны                        8\n",
       "Зе Бест!                      5\n",
       "Билеты в интернете            4\n",
       "Name: service_name, dtype: int64"
      ]
     },
     "metadata": {},
     "output_type": "display_data"
    }
   ],
   "source": [
    "#анализ категориальных столбцов в df_order\n",
    "display(df['currency_code'].value_counts())\n",
    "display(df['device_type_canonical'].value_counts())\n",
    "display(df['cinema_circuit'].value_counts())\n",
    "display(df['service_name'].value_counts())"
   ]
  },
  {
   "cell_type": "code",
   "execution_count": 49,
   "metadata": {
    "scrolled": true
   },
   "outputs": [
    {
     "data": {
      "text/html": [
       "<div>\n",
       "<style scoped>\n",
       "    .dataframe tbody tr th:only-of-type {\n",
       "        vertical-align: middle;\n",
       "    }\n",
       "\n",
       "    .dataframe tbody tr th {\n",
       "        vertical-align: top;\n",
       "    }\n",
       "\n",
       "    .dataframe thead th {\n",
       "        text-align: right;\n",
       "    }\n",
       "</style>\n",
       "<table border=\"1\" class=\"dataframe\">\n",
       "  <thead>\n",
       "    <tr style=\"text-align: right;\">\n",
       "      <th></th>\n",
       "      <th>count</th>\n",
       "      <th>mean</th>\n",
       "      <th>std</th>\n",
       "      <th>min</th>\n",
       "      <th>25%</th>\n",
       "      <th>50%</th>\n",
       "      <th>75%</th>\n",
       "      <th>max</th>\n",
       "    </tr>\n",
       "    <tr>\n",
       "      <th>currency_code</th>\n",
       "      <th></th>\n",
       "      <th></th>\n",
       "      <th></th>\n",
       "      <th></th>\n",
       "      <th></th>\n",
       "      <th></th>\n",
       "      <th></th>\n",
       "      <th></th>\n",
       "    </tr>\n",
       "  </thead>\n",
       "  <tbody>\n",
       "    <tr>\n",
       "      <th>kzt</th>\n",
       "      <td>5069.0</td>\n",
       "      <td>4995.206767</td>\n",
       "      <td>4916.752776</td>\n",
       "      <td>0.00</td>\n",
       "      <td>518.1000</td>\n",
       "      <td>3698.83</td>\n",
       "      <td>7397.66</td>\n",
       "      <td>26425.86</td>\n",
       "    </tr>\n",
       "    <tr>\n",
       "      <th>rub</th>\n",
       "      <td>285780.0</td>\n",
       "      <td>547.568333</td>\n",
       "      <td>871.524559</td>\n",
       "      <td>-90.76</td>\n",
       "      <td>113.8275</td>\n",
       "      <td>346.10</td>\n",
       "      <td>791.70</td>\n",
       "      <td>81174.54</td>\n",
       "    </tr>\n",
       "  </tbody>\n",
       "</table>\n",
       "</div>"
      ],
      "text/plain": [
       "                  count         mean          std    min       25%      50%  \\\n",
       "currency_code                                                                 \n",
       "kzt              5069.0  4995.206767  4916.752776   0.00  518.1000  3698.83   \n",
       "rub            285780.0   547.568333   871.524559 -90.76  113.8275   346.10   \n",
       "\n",
       "                   75%       max  \n",
       "currency_code                     \n",
       "kzt            7397.66  26425.86  \n",
       "rub             791.70  81174.54  "
      ]
     },
     "metadata": {},
     "output_type": "display_data"
    }
   ],
   "source": [
    "#анализ распределения revenue и tickets_count по валютам\n",
    "display(df.groupby('currency_code')['revenue'].describe()) #сделай потом график распределенич, проверь правильно ли прочитал цифры на график"
   ]
  },
  {
   "cell_type": "code",
   "execution_count": 11,
   "metadata": {
    "scrolled": true
   },
   "outputs": [
    {
     "data": {
      "text/html": [
       "<div>\n",
       "<style scoped>\n",
       "    .dataframe tbody tr th:only-of-type {\n",
       "        vertical-align: middle;\n",
       "    }\n",
       "\n",
       "    .dataframe tbody tr th {\n",
       "        vertical-align: top;\n",
       "    }\n",
       "\n",
       "    .dataframe thead th {\n",
       "        text-align: right;\n",
       "    }\n",
       "</style>\n",
       "<table border=\"1\" class=\"dataframe\">\n",
       "  <thead>\n",
       "    <tr style=\"text-align: right;\">\n",
       "      <th></th>\n",
       "      <th>count</th>\n",
       "      <th>mean</th>\n",
       "      <th>std</th>\n",
       "      <th>min</th>\n",
       "      <th>25%</th>\n",
       "      <th>50%</th>\n",
       "      <th>75%</th>\n",
       "      <th>max</th>\n",
       "    </tr>\n",
       "    <tr>\n",
       "      <th>currency_code</th>\n",
       "      <th></th>\n",
       "      <th></th>\n",
       "      <th></th>\n",
       "      <th></th>\n",
       "      <th></th>\n",
       "      <th></th>\n",
       "      <th></th>\n",
       "      <th></th>\n",
       "    </tr>\n",
       "  </thead>\n",
       "  <tbody>\n",
       "    <tr>\n",
       "      <th>kzt</th>\n",
       "      <td>5069.0</td>\n",
       "      <td>2.762872</td>\n",
       "      <td>1.115558</td>\n",
       "      <td>1.0</td>\n",
       "      <td>2.0</td>\n",
       "      <td>3.0</td>\n",
       "      <td>4.0</td>\n",
       "      <td>6.0</td>\n",
       "    </tr>\n",
       "    <tr>\n",
       "      <th>rub</th>\n",
       "      <td>285780.0</td>\n",
       "      <td>2.754077</td>\n",
       "      <td>1.171419</td>\n",
       "      <td>1.0</td>\n",
       "      <td>2.0</td>\n",
       "      <td>3.0</td>\n",
       "      <td>4.0</td>\n",
       "      <td>57.0</td>\n",
       "    </tr>\n",
       "  </tbody>\n",
       "</table>\n",
       "</div>"
      ],
      "text/plain": [
       "                  count      mean       std  min  25%  50%  75%   max\n",
       "currency_code                                                        \n",
       "kzt              5069.0  2.762872  1.115558  1.0  2.0  3.0  4.0   6.0\n",
       "rub            285780.0  2.754077  1.171419  1.0  2.0  3.0  4.0  57.0"
      ]
     },
     "metadata": {},
     "output_type": "display_data"
    }
   ],
   "source": [
    "display(df.groupby('currency_code')['tickets_count'].describe())"
   ]
  },
  {
   "cell_type": "code",
   "execution_count": 12,
   "metadata": {},
   "outputs": [
    {
     "data": {
      "image/png": "[encoded data removed]",
      "text/plain": [
       "<Figure size 648x432 with 2 Axes>"
      ]
     },
     "metadata": {
      "needs_background": "light"
     },
     "output_type": "display_data"
    }
   ],
   "source": [
    "#визуализация распределения\n",
    "fig, axes = plt.subplots(1, 2, figsize=(9, 6))\n",
    "\n",
    "#визуализация распределения tickets_count\n",
    "sns.boxplot(x='currency_code', y='tickets_count', data=df, ax=axes[0])\n",
    "axes[0].set_title('Распределение выручки по количеству билетов')\n",
    "\n",
    "#визуализация распределения revenue\n",
    "sns.boxplot(x='currency_code', y='revenue', data=df, ax=axes[1])\n",
    "axes[1].set_title('Распределение выручки по валютам')\n",
    "\n",
    "plt.tight_layout()\n",
    "plt.show()"
   ]
  },
  {
   "cell_type": "markdown",
   "metadata": {},
   "source": [
    "#### Вывод:\n",
    " - В данных выбросы"
   ]
  },
  {
   "cell_type": "code",
   "execution_count": 13,
   "metadata": {},
   "outputs": [
    {
     "data": {
      "text/plain": [
       "'99-й перцентиль revenue в рублях: 2569.59'"
      ]
     },
     "metadata": {},
     "output_type": "display_data"
    },
    {
     "data": {
      "text/plain": [
       "'99-й перцентиль revenue в тенге: 17617.24'"
      ]
     },
     "metadata": {},
     "output_type": "display_data"
    }
   ],
   "source": [
    "#отбор данных по 99-му процентилю выручки для каждой валюты отдельно\n",
    "percentile_99_rub = df.loc[df_order['currency_code']=='rub', 'revenue'].quantile(0.99)\n",
    "percentile_99_kzt = df.loc[df_order['currency_code']=='kzt', 'revenue'].quantile(0.99)\n",
    "display(f'99-й перцентиль revenue в рублях: {percentile_99_rub:.2f}')\n",
    "display(f'99-й перцентиль revenue в тенге: {percentile_99_kzt:.2f}')\n"
   ]
  },
  {
   "cell_type": "code",
   "execution_count": 14,
   "metadata": {},
   "outputs": [
    {
     "data": {
      "text/plain": [
       "'Количество записей после фильтрации выбросов: 287962'"
      ]
     },
     "metadata": {},
     "output_type": "display_data"
    }
   ],
   "source": [
    "#фильтрация по 99-му перцентилю, так как найдены выбросы\n",
    "df_filter = df[\n",
    "    ((df['currency_code']=='rub') & (df['revenue'] <= percentile_99_rub)) |\n",
    "    ((df['currency_code']=='kzt') & (df['revenue'] <= percentile_99_kzt))\n",
    "].copy()\n",
    "\n",
    "display(f'Количество записей после фильтрации выбросов: {len(df_filter)}')"
   ]
  },
  {
   "cell_type": "code",
   "execution_count": 15,
   "metadata": {
    "scrolled": false
   },
   "outputs": [
    {
     "data": {
      "image/png": "[encoded data removed]",
      "text/plain": [
       "<Figure size 648x432 with 2 Axes>"
      ]
     },
     "metadata": {
      "needs_background": "light"
     },
     "output_type": "display_data"
    }
   ],
   "source": [
    "#визуализация распределения\n",
    "fig, axes = plt.subplots(1, 2, figsize=(9, 6))\n",
    "\n",
    "#визуализация распределения tickets_count\n",
    "sns.boxplot(x='currency_code', y='tickets_count', data=df_filter, ax=axes[0])\n",
    "axes[0].set_title('Распределение выручки по количеству билетов')\n",
    "\n",
    "#визуализация распределения revenue\n",
    "sns.boxplot(x='currency_code', y='revenue', data=df_filter, ax=axes[1])\n",
    "axes[1].set_title('Распределение выручки по валютам')\n",
    "\n",
    "plt.tight_layout()\n",
    "plt.show()"
   ]
  },
  {
   "cell_type": "code",
   "execution_count": 16,
   "metadata": {},
   "outputs": [
    {
     "data": {
      "text/plain": [
       "'Явные дубликаты в df_order:'"
      ]
     },
     "metadata": {},
     "output_type": "display_data"
    },
    {
     "data": {
      "text/plain": [
       "0"
      ]
     },
     "metadata": {},
     "output_type": "display_data"
    }
   ],
   "source": [
    "#проверка дубликатов\n",
    "display('Явные дубликаты в df_order:', df_filter.duplicated().sum())"
   ]
  },
  {
   "cell_type": "code",
   "execution_count": 17,
   "metadata": {
    "scrolled": true
   },
   "outputs": [
    {
     "data": {
      "text/plain": [
       "'Неявные дубликаты (без order_id):'"
      ]
     },
     "metadata": {},
     "output_type": "display_data"
    },
    {
     "data": {
      "text/plain": [
       "43"
      ]
     },
     "metadata": {},
     "output_type": "display_data"
    }
   ],
   "source": [
    "#проверка неявных дубликатов по user_id, event_id, created_ts_msk, tickets_count, total (без order_id)\n",
    "duplicates_subset = df_filter.duplicated(subset=['user_id', 'event_id', 'created_ts_msk', 'tickets_count', 'total'])\n",
    "display('Неявные дубликаты (без order_id):', duplicates_subset.sum())"
   ]
  },
  {
   "cell_type": "markdown",
   "metadata": {},
   "source": [
    "#### Вывод:\n",
    " - Найдены неявные дубликаты в количестве 43 штук, удалим их без рисков для анализа, из за малого количества"
   ]
  },
  {
   "cell_type": "code",
   "execution_count": 18,
   "metadata": {},
   "outputs": [],
   "source": [
    "#удаление неявных дубликатов\n",
    "df_filter = df_filter[~duplicates_subset].copy()"
   ]
  },
  {
   "cell_type": "code",
   "execution_count": 19,
   "metadata": {},
   "outputs": [],
   "source": [
    "#создадим словарь курсов по дате\n",
    "df_tenge.set_index('data', inplace=True)\n",
    "df_tenge['rate'] = df_tenge['curs'] / df_tenge['nominal']\n",
    "\n",
    "#добавим в df_order_filtered курс для даты заказа\n",
    "df_filter['rate'] = df_filter['created_dt_msk'].map(df_tenge['rate'])\n",
    "\n",
    "#для рублевых заказов курс = 1\n",
    "df_filter.loc[df_filter['currency_code']=='rub', 'rate'] = 1"
   ]
  },
  {
   "cell_type": "code",
   "execution_count": 20,
   "metadata": {},
   "outputs": [
    {
     "data": {
      "text/html": [
       "<div>\n",
       "<style scoped>\n",
       "    .dataframe tbody tr th:only-of-type {\n",
       "        vertical-align: middle;\n",
       "    }\n",
       "\n",
       "    .dataframe tbody tr th {\n",
       "        vertical-align: top;\n",
       "    }\n",
       "\n",
       "    .dataframe thead th {\n",
       "        text-align: right;\n",
       "    }\n",
       "</style>\n",
       "<table border=\"1\" class=\"dataframe\">\n",
       "  <thead>\n",
       "    <tr style=\"text-align: right;\">\n",
       "      <th></th>\n",
       "      <th>order_id</th>\n",
       "      <th>user_id</th>\n",
       "      <th>created_dt_msk</th>\n",
       "      <th>created_ts_msk</th>\n",
       "      <th>event_id</th>\n",
       "      <th>cinema_circuit</th>\n",
       "      <th>age_limit</th>\n",
       "      <th>currency_code</th>\n",
       "      <th>device_type_canonical</th>\n",
       "      <th>revenue</th>\n",
       "      <th>...</th>\n",
       "      <th>event_type_description</th>\n",
       "      <th>event_type_main</th>\n",
       "      <th>organizers</th>\n",
       "      <th>region_name</th>\n",
       "      <th>city_name</th>\n",
       "      <th>city_id</th>\n",
       "      <th>venue_id</th>\n",
       "      <th>venue_name</th>\n",
       "      <th>venue_address</th>\n",
       "      <th>rate</th>\n",
       "    </tr>\n",
       "  </thead>\n",
       "  <tbody>\n",
       "    <tr>\n",
       "      <th>0</th>\n",
       "      <td>4359165</td>\n",
       "      <td>0002849b70a3ce2</td>\n",
       "      <td>2024-08-20</td>\n",
       "      <td>2024-08-20 16:08:03</td>\n",
       "      <td>169230</td>\n",
       "      <td>нет</td>\n",
       "      <td>16</td>\n",
       "      <td>rub</td>\n",
       "      <td>mobile</td>\n",
       "      <td>1521.94</td>\n",
       "      <td>...</td>\n",
       "      <td>спектакль</td>\n",
       "      <td>театр</td>\n",
       "      <td>№3322</td>\n",
       "      <td>Каменевский регион</td>\n",
       "      <td>Глиногорск</td>\n",
       "      <td>213.0</td>\n",
       "      <td>3972.0</td>\n",
       "      <td>Сценический центр \"Деталь\" Групп</td>\n",
       "      <td>алл. Машиностроителей, д. 19 стр. 6</td>\n",
       "      <td>1.0</td>\n",
       "    </tr>\n",
       "    <tr>\n",
       "      <th>1</th>\n",
       "      <td>7965605</td>\n",
       "      <td>0005ca5e93f2cf4</td>\n",
       "      <td>2024-07-23</td>\n",
       "      <td>2024-07-23 18:36:24</td>\n",
       "      <td>237325</td>\n",
       "      <td>нет</td>\n",
       "      <td>0</td>\n",
       "      <td>rub</td>\n",
       "      <td>mobile</td>\n",
       "      <td>289.45</td>\n",
       "      <td>...</td>\n",
       "      <td>событие</td>\n",
       "      <td>выставки</td>\n",
       "      <td>№4850</td>\n",
       "      <td>Каменевский регион</td>\n",
       "      <td>Глиногорск</td>\n",
       "      <td>213.0</td>\n",
       "      <td>2941.0</td>\n",
       "      <td>Музыкальная школа для детей \"Аккаунт\" Лтд</td>\n",
       "      <td>алл. Шмидта, д. 9 стр. 4</td>\n",
       "      <td>1.0</td>\n",
       "    </tr>\n",
       "    <tr>\n",
       "      <th>2</th>\n",
       "      <td>7292370</td>\n",
       "      <td>0005ca5e93f2cf4</td>\n",
       "      <td>2024-10-06</td>\n",
       "      <td>2024-10-06 13:56:02</td>\n",
       "      <td>578454</td>\n",
       "      <td>нет</td>\n",
       "      <td>0</td>\n",
       "      <td>rub</td>\n",
       "      <td>mobile</td>\n",
       "      <td>1258.57</td>\n",
       "      <td>...</td>\n",
       "      <td>цирковое шоу</td>\n",
       "      <td>другое</td>\n",
       "      <td>№1540</td>\n",
       "      <td>Каменевский регион</td>\n",
       "      <td>Глиногорск</td>\n",
       "      <td>213.0</td>\n",
       "      <td>4507.0</td>\n",
       "      <td>Училище искусств \"Нирвана\" Инк</td>\n",
       "      <td>алл. Юбилейная, д. 5/6</td>\n",
       "      <td>1.0</td>\n",
       "    </tr>\n",
       "    <tr>\n",
       "      <th>3</th>\n",
       "      <td>1139875</td>\n",
       "      <td>000898990054619</td>\n",
       "      <td>2024-07-13</td>\n",
       "      <td>2024-07-13 19:40:48</td>\n",
       "      <td>387271</td>\n",
       "      <td>нет</td>\n",
       "      <td>0</td>\n",
       "      <td>rub</td>\n",
       "      <td>mobile</td>\n",
       "      <td>8.49</td>\n",
       "      <td>...</td>\n",
       "      <td>выставка</td>\n",
       "      <td>другое</td>\n",
       "      <td>№5049</td>\n",
       "      <td>Североярская область</td>\n",
       "      <td>Озёрск</td>\n",
       "      <td>2.0</td>\n",
       "      <td>3574.0</td>\n",
       "      <td>Театр альтернативного искусства \"Ода\" Лимитед</td>\n",
       "      <td>алл. Есенина, д. 243 к. 3/8</td>\n",
       "      <td>1.0</td>\n",
       "    </tr>\n",
       "    <tr>\n",
       "      <th>4</th>\n",
       "      <td>972400</td>\n",
       "      <td>000898990054619</td>\n",
       "      <td>2024-10-04</td>\n",
       "      <td>2024-10-04 22:33:15</td>\n",
       "      <td>509453</td>\n",
       "      <td>нет</td>\n",
       "      <td>18</td>\n",
       "      <td>rub</td>\n",
       "      <td>mobile</td>\n",
       "      <td>1390.41</td>\n",
       "      <td>...</td>\n",
       "      <td>шоу</td>\n",
       "      <td>стендап</td>\n",
       "      <td>№832</td>\n",
       "      <td>Озернинский край</td>\n",
       "      <td>Родниковецк</td>\n",
       "      <td>240.0</td>\n",
       "      <td>1896.0</td>\n",
       "      <td>Театр кукол \"Огни\" Инкорпорэйтед</td>\n",
       "      <td>ш. Набережное, д. 595 стр. 8</td>\n",
       "      <td>1.0</td>\n",
       "    </tr>\n",
       "  </tbody>\n",
       "</table>\n",
       "<p>5 rows × 25 columns</p>\n",
       "</div>"
      ],
      "text/plain": [
       "   order_id          user_id created_dt_msk      created_ts_msk  event_id  \\\n",
       "0   4359165  0002849b70a3ce2     2024-08-20 2024-08-20 16:08:03    169230   \n",
       "1   7965605  0005ca5e93f2cf4     2024-07-23 2024-07-23 18:36:24    237325   \n",
       "2   7292370  0005ca5e93f2cf4     2024-10-06 2024-10-06 13:56:02    578454   \n",
       "3   1139875  000898990054619     2024-07-13 2024-07-13 19:40:48    387271   \n",
       "4    972400  000898990054619     2024-10-04 2024-10-04 22:33:15    509453   \n",
       "\n",
       "  cinema_circuit  age_limit currency_code device_type_canonical  revenue  ...  \\\n",
       "0            нет         16           rub                mobile  1521.94  ...   \n",
       "1            нет          0           rub                mobile   289.45  ...   \n",
       "2            нет          0           rub                mobile  1258.57  ...   \n",
       "3            нет          0           rub                mobile     8.49  ...   \n",
       "4            нет         18           rub                mobile  1390.41  ...   \n",
       "\n",
       "  event_type_description  event_type_main  organizers           region_name  \\\n",
       "0              спектакль            театр       №3322    Каменевский регион   \n",
       "1                событие         выставки       №4850    Каменевский регион   \n",
       "2           цирковое шоу           другое       №1540    Каменевский регион   \n",
       "3               выставка           другое       №5049  Североярская область   \n",
       "4                    шоу          стендап        №832      Озернинский край   \n",
       "\n",
       "     city_name city_id venue_id  \\\n",
       "0   Глиногорск   213.0   3972.0   \n",
       "1   Глиногорск   213.0   2941.0   \n",
       "2   Глиногорск   213.0   4507.0   \n",
       "3       Озёрск     2.0   3574.0   \n",
       "4  Родниковецк   240.0   1896.0   \n",
       "\n",
       "                                      venue_name  \\\n",
       "0               Сценический центр \"Деталь\" Групп   \n",
       "1      Музыкальная школа для детей \"Аккаунт\" Лтд   \n",
       "2                 Училище искусств \"Нирвана\" Инк   \n",
       "3  Театр альтернативного искусства \"Ода\" Лимитед   \n",
       "4               Театр кукол \"Огни\" Инкорпорэйтед   \n",
       "\n",
       "                         venue_address rate  \n",
       "0  алл. Машиностроителей, д. 19 стр. 6  1.0  \n",
       "1             алл. Шмидта, д. 9 стр. 4  1.0  \n",
       "2               алл. Юбилейная, д. 5/6  1.0  \n",
       "3          алл. Есенина, д. 243 к. 3/8  1.0  \n",
       "4         ш. Набережное, д. 595 стр. 8  1.0  \n",
       "\n",
       "[5 rows x 25 columns]"
      ]
     },
     "execution_count": 20,
     "metadata": {},
     "output_type": "execute_result"
    }
   ],
   "source": [
    "#проверяем результат\n",
    "df_filter.head(5)"
   ]
  },
  {
   "cell_type": "code",
   "execution_count": 21,
   "metadata": {},
   "outputs": [
    {
     "data": {
      "text/plain": [
       "'Пропущенные значения курса: 0'"
      ]
     },
     "metadata": {},
     "output_type": "display_data"
    }
   ],
   "source": [
    "#пропуски в rate (если есть даты вне диапазона)\n",
    "missing_rates = df_filter['rate'].isna().sum()\n",
    "display(f'Пропущенные значения курса: {missing_rates}')"
   ]
  },
  {
   "cell_type": "code",
   "execution_count": 22,
   "metadata": {},
   "outputs": [],
   "source": [
    "#рассчитаем revenue_rub и one_ticket_revenue_rub\n",
    "df_filter['revenue_rub'] = df_filter['revenue'] * df_filter['rate']\n",
    "df_filter['one_ticket_revenue_rub'] = df_filter['revenue_rub'] / df_filter['tickets_count']"
   ]
  },
  {
   "cell_type": "code",
   "execution_count": 23,
   "metadata": {},
   "outputs": [
    {
     "data": {
      "text/html": [
       "<div>\n",
       "<style scoped>\n",
       "    .dataframe tbody tr th:only-of-type {\n",
       "        vertical-align: middle;\n",
       "    }\n",
       "\n",
       "    .dataframe tbody tr th {\n",
       "        vertical-align: top;\n",
       "    }\n",
       "\n",
       "    .dataframe thead th {\n",
       "        text-align: right;\n",
       "    }\n",
       "</style>\n",
       "<table border=\"1\" class=\"dataframe\">\n",
       "  <thead>\n",
       "    <tr style=\"text-align: right;\">\n",
       "      <th></th>\n",
       "      <th>order_id</th>\n",
       "      <th>user_id</th>\n",
       "      <th>created_dt_msk</th>\n",
       "      <th>created_ts_msk</th>\n",
       "      <th>event_id</th>\n",
       "      <th>cinema_circuit</th>\n",
       "      <th>age_limit</th>\n",
       "      <th>currency_code</th>\n",
       "      <th>device_type_canonical</th>\n",
       "      <th>revenue</th>\n",
       "      <th>...</th>\n",
       "      <th>organizers</th>\n",
       "      <th>region_name</th>\n",
       "      <th>city_name</th>\n",
       "      <th>city_id</th>\n",
       "      <th>venue_id</th>\n",
       "      <th>venue_name</th>\n",
       "      <th>venue_address</th>\n",
       "      <th>rate</th>\n",
       "      <th>revenue_rub</th>\n",
       "      <th>one_ticket_revenue_rub</th>\n",
       "    </tr>\n",
       "  </thead>\n",
       "  <tbody>\n",
       "    <tr>\n",
       "      <th>0</th>\n",
       "      <td>4359165</td>\n",
       "      <td>0002849b70a3ce2</td>\n",
       "      <td>2024-08-20</td>\n",
       "      <td>2024-08-20 16:08:03</td>\n",
       "      <td>169230</td>\n",
       "      <td>нет</td>\n",
       "      <td>16</td>\n",
       "      <td>rub</td>\n",
       "      <td>mobile</td>\n",
       "      <td>1521.94</td>\n",
       "      <td>...</td>\n",
       "      <td>№3322</td>\n",
       "      <td>Каменевский регион</td>\n",
       "      <td>Глиногорск</td>\n",
       "      <td>213.0</td>\n",
       "      <td>3972.0</td>\n",
       "      <td>Сценический центр \"Деталь\" Групп</td>\n",
       "      <td>алл. Машиностроителей, д. 19 стр. 6</td>\n",
       "      <td>1.0</td>\n",
       "      <td>1521.94</td>\n",
       "      <td>380.4850</td>\n",
       "    </tr>\n",
       "    <tr>\n",
       "      <th>1</th>\n",
       "      <td>7965605</td>\n",
       "      <td>0005ca5e93f2cf4</td>\n",
       "      <td>2024-07-23</td>\n",
       "      <td>2024-07-23 18:36:24</td>\n",
       "      <td>237325</td>\n",
       "      <td>нет</td>\n",
       "      <td>0</td>\n",
       "      <td>rub</td>\n",
       "      <td>mobile</td>\n",
       "      <td>289.45</td>\n",
       "      <td>...</td>\n",
       "      <td>№4850</td>\n",
       "      <td>Каменевский регион</td>\n",
       "      <td>Глиногорск</td>\n",
       "      <td>213.0</td>\n",
       "      <td>2941.0</td>\n",
       "      <td>Музыкальная школа для детей \"Аккаунт\" Лтд</td>\n",
       "      <td>алл. Шмидта, д. 9 стр. 4</td>\n",
       "      <td>1.0</td>\n",
       "      <td>289.45</td>\n",
       "      <td>144.7250</td>\n",
       "    </tr>\n",
       "    <tr>\n",
       "      <th>2</th>\n",
       "      <td>7292370</td>\n",
       "      <td>0005ca5e93f2cf4</td>\n",
       "      <td>2024-10-06</td>\n",
       "      <td>2024-10-06 13:56:02</td>\n",
       "      <td>578454</td>\n",
       "      <td>нет</td>\n",
       "      <td>0</td>\n",
       "      <td>rub</td>\n",
       "      <td>mobile</td>\n",
       "      <td>1258.57</td>\n",
       "      <td>...</td>\n",
       "      <td>№1540</td>\n",
       "      <td>Каменевский регион</td>\n",
       "      <td>Глиногорск</td>\n",
       "      <td>213.0</td>\n",
       "      <td>4507.0</td>\n",
       "      <td>Училище искусств \"Нирвана\" Инк</td>\n",
       "      <td>алл. Юбилейная, д. 5/6</td>\n",
       "      <td>1.0</td>\n",
       "      <td>1258.57</td>\n",
       "      <td>314.6425</td>\n",
       "    </tr>\n",
       "    <tr>\n",
       "      <th>3</th>\n",
       "      <td>1139875</td>\n",
       "      <td>000898990054619</td>\n",
       "      <td>2024-07-13</td>\n",
       "      <td>2024-07-13 19:40:48</td>\n",
       "      <td>387271</td>\n",
       "      <td>нет</td>\n",
       "      <td>0</td>\n",
       "      <td>rub</td>\n",
       "      <td>mobile</td>\n",
       "      <td>8.49</td>\n",
       "      <td>...</td>\n",
       "      <td>№5049</td>\n",
       "      <td>Североярская область</td>\n",
       "      <td>Озёрск</td>\n",
       "      <td>2.0</td>\n",
       "      <td>3574.0</td>\n",
       "      <td>Театр альтернативного искусства \"Ода\" Лимитед</td>\n",
       "      <td>алл. Есенина, д. 243 к. 3/8</td>\n",
       "      <td>1.0</td>\n",
       "      <td>8.49</td>\n",
       "      <td>4.2450</td>\n",
       "    </tr>\n",
       "    <tr>\n",
       "      <th>4</th>\n",
       "      <td>972400</td>\n",
       "      <td>000898990054619</td>\n",
       "      <td>2024-10-04</td>\n",
       "      <td>2024-10-04 22:33:15</td>\n",
       "      <td>509453</td>\n",
       "      <td>нет</td>\n",
       "      <td>18</td>\n",
       "      <td>rub</td>\n",
       "      <td>mobile</td>\n",
       "      <td>1390.41</td>\n",
       "      <td>...</td>\n",
       "      <td>№832</td>\n",
       "      <td>Озернинский край</td>\n",
       "      <td>Родниковецк</td>\n",
       "      <td>240.0</td>\n",
       "      <td>1896.0</td>\n",
       "      <td>Театр кукол \"Огни\" Инкорпорэйтед</td>\n",
       "      <td>ш. Набережное, д. 595 стр. 8</td>\n",
       "      <td>1.0</td>\n",
       "      <td>1390.41</td>\n",
       "      <td>463.4700</td>\n",
       "    </tr>\n",
       "  </tbody>\n",
       "</table>\n",
       "<p>5 rows × 27 columns</p>\n",
       "</div>"
      ],
      "text/plain": [
       "   order_id          user_id created_dt_msk      created_ts_msk  event_id  \\\n",
       "0   4359165  0002849b70a3ce2     2024-08-20 2024-08-20 16:08:03    169230   \n",
       "1   7965605  0005ca5e93f2cf4     2024-07-23 2024-07-23 18:36:24    237325   \n",
       "2   7292370  0005ca5e93f2cf4     2024-10-06 2024-10-06 13:56:02    578454   \n",
       "3   1139875  000898990054619     2024-07-13 2024-07-13 19:40:48    387271   \n",
       "4    972400  000898990054619     2024-10-04 2024-10-04 22:33:15    509453   \n",
       "\n",
       "  cinema_circuit  age_limit currency_code device_type_canonical  revenue  ...  \\\n",
       "0            нет         16           rub                mobile  1521.94  ...   \n",
       "1            нет          0           rub                mobile   289.45  ...   \n",
       "2            нет          0           rub                mobile  1258.57  ...   \n",
       "3            нет          0           rub                mobile     8.49  ...   \n",
       "4            нет         18           rub                mobile  1390.41  ...   \n",
       "\n",
       "  organizers           region_name    city_name  city_id venue_id  \\\n",
       "0      №3322    Каменевский регион   Глиногорск    213.0   3972.0   \n",
       "1      №4850    Каменевский регион   Глиногорск    213.0   2941.0   \n",
       "2      №1540    Каменевский регион   Глиногорск    213.0   4507.0   \n",
       "3      №5049  Североярская область       Озёрск      2.0   3574.0   \n",
       "4       №832      Озернинский край  Родниковецк    240.0   1896.0   \n",
       "\n",
       "                                      venue_name  \\\n",
       "0               Сценический центр \"Деталь\" Групп   \n",
       "1      Музыкальная школа для детей \"Аккаунт\" Лтд   \n",
       "2                 Училище искусств \"Нирвана\" Инк   \n",
       "3  Театр альтернативного искусства \"Ода\" Лимитед   \n",
       "4               Театр кукол \"Огни\" Инкорпорэйтед   \n",
       "\n",
       "                         venue_address rate revenue_rub one_ticket_revenue_rub  \n",
       "0  алл. Машиностроителей, д. 19 стр. 6  1.0     1521.94               380.4850  \n",
       "1             алл. Шмидта, д. 9 стр. 4  1.0      289.45               144.7250  \n",
       "2               алл. Юбилейная, д. 5/6  1.0     1258.57               314.6425  \n",
       "3          алл. Есенина, д. 243 к. 3/8  1.0        8.49                 4.2450  \n",
       "4         ш. Набережное, д. 595 стр. 8  1.0     1390.41               463.4700  \n",
       "\n",
       "[5 rows x 27 columns]"
      ]
     },
     "execution_count": 23,
     "metadata": {},
     "output_type": "execute_result"
    }
   ],
   "source": [
    "#проверяем результат\n",
    "df_filter.head(5)"
   ]
  },
  {
   "cell_type": "code",
   "execution_count": 24,
   "metadata": {},
   "outputs": [],
   "source": [
    "#создание нового признака month\n",
    "df_filter['month'] = df_filter['created_dt_msk'].dt.month"
   ]
  },
  {
   "cell_type": "code",
   "execution_count": 25,
   "metadata": {},
   "outputs": [],
   "source": [
    "#создание нового признака season\n",
    "def get_season(month):\n",
    "    if month in [12, 1, 2]:\n",
    "        return 'зима'\n",
    "    elif month in [3,4,5]:\n",
    "        return 'весна'\n",
    "    elif month in [6,7,8]:\n",
    "        return 'лето'\n",
    "    else:\n",
    "        return 'осень'\n",
    "\n",
    "df_filter['season'] = df_filter['month'].apply(get_season)"
   ]
  },
  {
   "cell_type": "markdown",
   "metadata": {},
   "source": [
    "#### Вывод:\n",
    " - `revenue` привиден к рублевой валюте, теперь ориентируемся на столбец `revenue_rub`\n",
    " - `one_ticket_revenue_rub` - цена за один билет в рублях\n",
    " - созданы новые временные признаки - `month` и `season`"
   ]
  },
  {
   "cell_type": "code",
   "execution_count": 26,
   "metadata": {},
   "outputs": [
    {
     "name": "stdout",
     "output_type": "stream",
     "text": [
      "<class 'pandas.core.frame.DataFrame'>\n",
      "Int64Index: 287919 entries, 0 to 290848\n",
      "Data columns (total 29 columns):\n",
      " #   Column                  Non-Null Count   Dtype         \n",
      "---  ------                  --------------   -----         \n",
      " 0   order_id                287919 non-null  int64         \n",
      " 1   user_id                 287919 non-null  object        \n",
      " 2   created_dt_msk          287919 non-null  datetime64[ns]\n",
      " 3   created_ts_msk          287919 non-null  datetime64[ns]\n",
      " 4   event_id                287919 non-null  int64         \n",
      " 5   cinema_circuit          287919 non-null  object        \n",
      " 6   age_limit               287919 non-null  int64         \n",
      " 7   currency_code           287919 non-null  object        \n",
      " 8   device_type_canonical   287919 non-null  object        \n",
      " 9   revenue                 287919 non-null  float64       \n",
      " 10  service_name            287919 non-null  object        \n",
      " 11  tickets_count           287919 non-null  int64         \n",
      " 12  total                   287919 non-null  float64       \n",
      " 13  days_since_prev         266186 non-null  float64       \n",
      " 14  event_name              287681 non-null  object        \n",
      " 15  event_type_description  287681 non-null  object        \n",
      " 16  event_type_main         287681 non-null  object        \n",
      " 17  organizers              287681 non-null  object        \n",
      " 18  region_name             287681 non-null  object        \n",
      " 19  city_name               287681 non-null  object        \n",
      " 20  city_id                 287681 non-null  float64       \n",
      " 21  venue_id                287681 non-null  float64       \n",
      " 22  venue_name              287681 non-null  object        \n",
      " 23  venue_address           287681 non-null  object        \n",
      " 24  rate                    287919 non-null  float64       \n",
      " 25  revenue_rub             287919 non-null  float64       \n",
      " 26  one_ticket_revenue_rub  287919 non-null  float64       \n",
      " 27  month                   287919 non-null  int64         \n",
      " 28  season                  287919 non-null  object        \n",
      "dtypes: datetime64[ns](2), float64(8), int64(5), object(14)\n",
      "memory usage: 65.9+ MB\n"
     ]
    },
    {
     "data": {
      "text/html": [
       "<div>\n",
       "<style scoped>\n",
       "    .dataframe tbody tr th:only-of-type {\n",
       "        vertical-align: middle;\n",
       "    }\n",
       "\n",
       "    .dataframe tbody tr th {\n",
       "        vertical-align: top;\n",
       "    }\n",
       "\n",
       "    .dataframe thead th {\n",
       "        text-align: right;\n",
       "    }\n",
       "</style>\n",
       "<table border=\"1\" class=\"dataframe\">\n",
       "  <thead>\n",
       "    <tr style=\"text-align: right;\">\n",
       "      <th></th>\n",
       "      <th>order_id</th>\n",
       "      <th>user_id</th>\n",
       "      <th>created_dt_msk</th>\n",
       "      <th>created_ts_msk</th>\n",
       "      <th>event_id</th>\n",
       "      <th>cinema_circuit</th>\n",
       "      <th>age_limit</th>\n",
       "      <th>currency_code</th>\n",
       "      <th>device_type_canonical</th>\n",
       "      <th>revenue</th>\n",
       "      <th>...</th>\n",
       "      <th>city_name</th>\n",
       "      <th>city_id</th>\n",
       "      <th>venue_id</th>\n",
       "      <th>venue_name</th>\n",
       "      <th>venue_address</th>\n",
       "      <th>rate</th>\n",
       "      <th>revenue_rub</th>\n",
       "      <th>one_ticket_revenue_rub</th>\n",
       "      <th>month</th>\n",
       "      <th>season</th>\n",
       "    </tr>\n",
       "  </thead>\n",
       "  <tbody>\n",
       "    <tr>\n",
       "      <th>0</th>\n",
       "      <td>4359165</td>\n",
       "      <td>0002849b70a3ce2</td>\n",
       "      <td>2024-08-20</td>\n",
       "      <td>2024-08-20 16:08:03</td>\n",
       "      <td>169230</td>\n",
       "      <td>нет</td>\n",
       "      <td>16</td>\n",
       "      <td>rub</td>\n",
       "      <td>mobile</td>\n",
       "      <td>1521.94</td>\n",
       "      <td>...</td>\n",
       "      <td>Глиногорск</td>\n",
       "      <td>213.0</td>\n",
       "      <td>3972.0</td>\n",
       "      <td>Сценический центр \"Деталь\" Групп</td>\n",
       "      <td>алл. Машиностроителей, д. 19 стр. 6</td>\n",
       "      <td>1.0</td>\n",
       "      <td>1521.94</td>\n",
       "      <td>380.4850</td>\n",
       "      <td>8</td>\n",
       "      <td>лето</td>\n",
       "    </tr>\n",
       "    <tr>\n",
       "      <th>1</th>\n",
       "      <td>7965605</td>\n",
       "      <td>0005ca5e93f2cf4</td>\n",
       "      <td>2024-07-23</td>\n",
       "      <td>2024-07-23 18:36:24</td>\n",
       "      <td>237325</td>\n",
       "      <td>нет</td>\n",
       "      <td>0</td>\n",
       "      <td>rub</td>\n",
       "      <td>mobile</td>\n",
       "      <td>289.45</td>\n",
       "      <td>...</td>\n",
       "      <td>Глиногорск</td>\n",
       "      <td>213.0</td>\n",
       "      <td>2941.0</td>\n",
       "      <td>Музыкальная школа для детей \"Аккаунт\" Лтд</td>\n",
       "      <td>алл. Шмидта, д. 9 стр. 4</td>\n",
       "      <td>1.0</td>\n",
       "      <td>289.45</td>\n",
       "      <td>144.7250</td>\n",
       "      <td>7</td>\n",
       "      <td>лето</td>\n",
       "    </tr>\n",
       "    <tr>\n",
       "      <th>2</th>\n",
       "      <td>7292370</td>\n",
       "      <td>0005ca5e93f2cf4</td>\n",
       "      <td>2024-10-06</td>\n",
       "      <td>2024-10-06 13:56:02</td>\n",
       "      <td>578454</td>\n",
       "      <td>нет</td>\n",
       "      <td>0</td>\n",
       "      <td>rub</td>\n",
       "      <td>mobile</td>\n",
       "      <td>1258.57</td>\n",
       "      <td>...</td>\n",
       "      <td>Глиногорск</td>\n",
       "      <td>213.0</td>\n",
       "      <td>4507.0</td>\n",
       "      <td>Училище искусств \"Нирвана\" Инк</td>\n",
       "      <td>алл. Юбилейная, д. 5/6</td>\n",
       "      <td>1.0</td>\n",
       "      <td>1258.57</td>\n",
       "      <td>314.6425</td>\n",
       "      <td>10</td>\n",
       "      <td>осень</td>\n",
       "    </tr>\n",
       "    <tr>\n",
       "      <th>3</th>\n",
       "      <td>1139875</td>\n",
       "      <td>000898990054619</td>\n",
       "      <td>2024-07-13</td>\n",
       "      <td>2024-07-13 19:40:48</td>\n",
       "      <td>387271</td>\n",
       "      <td>нет</td>\n",
       "      <td>0</td>\n",
       "      <td>rub</td>\n",
       "      <td>mobile</td>\n",
       "      <td>8.49</td>\n",
       "      <td>...</td>\n",
       "      <td>Озёрск</td>\n",
       "      <td>2.0</td>\n",
       "      <td>3574.0</td>\n",
       "      <td>Театр альтернативного искусства \"Ода\" Лимитед</td>\n",
       "      <td>алл. Есенина, д. 243 к. 3/8</td>\n",
       "      <td>1.0</td>\n",
       "      <td>8.49</td>\n",
       "      <td>4.2450</td>\n",
       "      <td>7</td>\n",
       "      <td>лето</td>\n",
       "    </tr>\n",
       "    <tr>\n",
       "      <th>4</th>\n",
       "      <td>972400</td>\n",
       "      <td>000898990054619</td>\n",
       "      <td>2024-10-04</td>\n",
       "      <td>2024-10-04 22:33:15</td>\n",
       "      <td>509453</td>\n",
       "      <td>нет</td>\n",
       "      <td>18</td>\n",
       "      <td>rub</td>\n",
       "      <td>mobile</td>\n",
       "      <td>1390.41</td>\n",
       "      <td>...</td>\n",
       "      <td>Родниковецк</td>\n",
       "      <td>240.0</td>\n",
       "      <td>1896.0</td>\n",
       "      <td>Театр кукол \"Огни\" Инкорпорэйтед</td>\n",
       "      <td>ш. Набережное, д. 595 стр. 8</td>\n",
       "      <td>1.0</td>\n",
       "      <td>1390.41</td>\n",
       "      <td>463.4700</td>\n",
       "      <td>10</td>\n",
       "      <td>осень</td>\n",
       "    </tr>\n",
       "  </tbody>\n",
       "</table>\n",
       "<p>5 rows × 29 columns</p>\n",
       "</div>"
      ],
      "text/plain": [
       "   order_id          user_id created_dt_msk      created_ts_msk  event_id  \\\n",
       "0   4359165  0002849b70a3ce2     2024-08-20 2024-08-20 16:08:03    169230   \n",
       "1   7965605  0005ca5e93f2cf4     2024-07-23 2024-07-23 18:36:24    237325   \n",
       "2   7292370  0005ca5e93f2cf4     2024-10-06 2024-10-06 13:56:02    578454   \n",
       "3   1139875  000898990054619     2024-07-13 2024-07-13 19:40:48    387271   \n",
       "4    972400  000898990054619     2024-10-04 2024-10-04 22:33:15    509453   \n",
       "\n",
       "  cinema_circuit  age_limit currency_code device_type_canonical  revenue  ...  \\\n",
       "0            нет         16           rub                mobile  1521.94  ...   \n",
       "1            нет          0           rub                mobile   289.45  ...   \n",
       "2            нет          0           rub                mobile  1258.57  ...   \n",
       "3            нет          0           rub                mobile     8.49  ...   \n",
       "4            нет         18           rub                mobile  1390.41  ...   \n",
       "\n",
       "     city_name  city_id  venue_id  \\\n",
       "0   Глиногорск    213.0    3972.0   \n",
       "1   Глиногорск    213.0    2941.0   \n",
       "2   Глиногорск    213.0    4507.0   \n",
       "3       Озёрск      2.0    3574.0   \n",
       "4  Родниковецк    240.0    1896.0   \n",
       "\n",
       "                                      venue_name  \\\n",
       "0               Сценический центр \"Деталь\" Групп   \n",
       "1      Музыкальная школа для детей \"Аккаунт\" Лтд   \n",
       "2                 Училище искусств \"Нирвана\" Инк   \n",
       "3  Театр альтернативного искусства \"Ода\" Лимитед   \n",
       "4               Театр кукол \"Огни\" Инкорпорэйтед   \n",
       "\n",
       "                         venue_address rate revenue_rub  \\\n",
       "0  алл. Машиностроителей, д. 19 стр. 6  1.0     1521.94   \n",
       "1             алл. Шмидта, д. 9 стр. 4  1.0      289.45   \n",
       "2               алл. Юбилейная, д. 5/6  1.0     1258.57   \n",
       "3          алл. Есенина, д. 243 к. 3/8  1.0        8.49   \n",
       "4         ш. Набережное, д. 595 стр. 8  1.0     1390.41   \n",
       "\n",
       "  one_ticket_revenue_rub month season  \n",
       "0               380.4850     8   лето  \n",
       "1               144.7250     7   лето  \n",
       "2               314.6425    10  осень  \n",
       "3                 4.2450     7   лето  \n",
       "4               463.4700    10  осень  \n",
       "\n",
       "[5 rows x 29 columns]"
      ]
     },
     "execution_count": 26,
     "metadata": {},
     "output_type": "execute_result"
    }
   ],
   "source": [
    "#результат\n",
    "df_filter.info()\n",
    "df_filter.head(5)"
   ]
  },
  {
   "cell_type": "code",
   "execution_count": 27,
   "metadata": {},
   "outputs": [],
   "source": [
    "#оптимизация финального датафрейма\n",
    "#удалим строки с пропусками в event-данных, очень малое количество\n",
    "df_filter = df_filter.dropna(subset=['event_name', \n",
    "                       'event_type_description', \n",
    "                       'event_type_main', \n",
    "                       'organizers', \n",
    "                       'region_name', \n",
    "                       'city_name', \n",
    "                       'city_id', \n",
    "                       'venue_id', \n",
    "                       'venue_name', \n",
    "                       'venue_address'])\n",
    "\n",
    "#приведём city_id и venue_id к int, т.к. это индификаторы \n",
    "df_filter['city_id'] = df_filter['city_id'].astype(int)\n",
    "df_filter['venue_id'] = df_filter['venue_id'].astype(int)\n",
    "\n",
    "#приводи столбцы с категориями к типу данных category\n",
    "cols_to_cat = [\n",
    "    'event_type_description',\n",
    "    'event_type_main',\n",
    "    'device_type_canonical',\n",
    "    'currency_code',\n",
    "    'cinema_circuit'\n",
    "]\n",
    "\n",
    "for col in cols_to_cat:\n",
    "    df_filter[col] = df_filter[col].astype('category')\n",
    "    \n",
    "#оптимизируем int данные\n",
    "int64_cols = df_filter.select_dtypes(include=['int64']).columns\n",
    "\n",
    "for col in int64_cols:\n",
    "    df_filter[col] = df_filter[col].astype('int32')\n",
    "\n",
    "#оптимизируем float данные\n",
    "float64_cols = df_filter.select_dtypes(include=['float64']).columns\n",
    "\n",
    "for col in float64_cols:\n",
    "    df_filter[col] = df_filter[col].astype('float32')"
   ]
  },
  {
   "cell_type": "code",
   "execution_count": 28,
   "metadata": {},
   "outputs": [
    {
     "name": "stdout",
     "output_type": "stream",
     "text": [
      "<class 'pandas.core.frame.DataFrame'>\n",
      "Int64Index: 287681 entries, 0 to 290848\n",
      "Data columns (total 29 columns):\n",
      " #   Column                  Non-Null Count   Dtype         \n",
      "---  ------                  --------------   -----         \n",
      " 0   order_id                287681 non-null  int32         \n",
      " 1   user_id                 287681 non-null  object        \n",
      " 2   created_dt_msk          287681 non-null  datetime64[ns]\n",
      " 3   created_ts_msk          287681 non-null  datetime64[ns]\n",
      " 4   event_id                287681 non-null  int32         \n",
      " 5   cinema_circuit          287681 non-null  category      \n",
      " 6   age_limit               287681 non-null  int32         \n",
      " 7   currency_code           287681 non-null  category      \n",
      " 8   device_type_canonical   287681 non-null  category      \n",
      " 9   revenue                 287681 non-null  float32       \n",
      " 10  service_name            287681 non-null  object        \n",
      " 11  tickets_count           287681 non-null  int32         \n",
      " 12  total                   287681 non-null  float32       \n",
      " 13  days_since_prev         265975 non-null  float32       \n",
      " 14  event_name              287681 non-null  object        \n",
      " 15  event_type_description  287681 non-null  category      \n",
      " 16  event_type_main         287681 non-null  category      \n",
      " 17  organizers              287681 non-null  object        \n",
      " 18  region_name             287681 non-null  object        \n",
      " 19  city_name               287681 non-null  object        \n",
      " 20  city_id                 287681 non-null  int32         \n",
      " 21  venue_id                287681 non-null  int32         \n",
      " 22  venue_name              287681 non-null  object        \n",
      " 23  venue_address           287681 non-null  object        \n",
      " 24  rate                    287681 non-null  float32       \n",
      " 25  revenue_rub             287681 non-null  float32       \n",
      " 26  one_ticket_revenue_rub  287681 non-null  float32       \n",
      " 27  month                   287681 non-null  int32         \n",
      " 28  season                  287681 non-null  object        \n",
      "dtypes: category(5), datetime64[ns](2), float32(6), int32(7), object(9)\n",
      "memory usage: 42.0+ MB\n"
     ]
    }
   ],
   "source": [
    "#проверяем\n",
    "df_filter.info()"
   ]
  },
  {
   "cell_type": "code",
   "execution_count": 29,
   "metadata": {},
   "outputs": [
    {
     "data": {
      "text/plain": [
       "'Размер df: 405.39 МБ'"
      ]
     },
     "metadata": {},
     "output_type": "display_data"
    },
    {
     "data": {
      "text/plain": [
       "'Размер df_filter: 293.10 МБ'"
      ]
     },
     "metadata": {},
     "output_type": "display_data"
    },
    {
     "data": {
      "text/plain": [
       "'Сокращение размера: 27.70%'"
      ]
     },
     "metadata": {},
     "output_type": "display_data"
    }
   ],
   "source": [
    "size_df = df.memory_usage(deep=True).sum()\n",
    "size_df_filter = df_filter.memory_usage(deep=True).sum()\n",
    "\n",
    "display(f'Размер df: {size_df / 1024**2:.2f} МБ')\n",
    "display(f'Размер df_filter: {size_df_filter / 1024**2:.2f} МБ')\n",
    "\n",
    "reduction = (size_df - size_df_filter) / size_df * 100\n",
    "display(f'Сокращение размера: {reduction:.2f}%')"
   ]
  },
  {
   "cell_type": "markdown",
   "metadata": {},
   "source": [
    "#### Вывод:\n",
    " - в данных обнаружены выбросы, которые были отфильтрованны по 99% перцентилю.\n",
    " - найдены неявные дубликаты в количестве `43` штук, удалим их без рисков для анализа, из за малого количества\n",
    " - удалены строки с пропусками в данных о событиях (очень малое количество)\n",
    " - `revenue` привиден к рублевой валюте, теперь ориентируемся на столбец `revenue_rub`\n",
    " - `one_ticket_revenue_rub` - цена за один билет в рублях\n",
    " - созданы новые временные признаки - `month` и `season` \n",
    " - столбцы привиденны к корректному типу данных\n",
    " - оптимизация дф сократила размер на `27.70%`"
   ]
  },
  {
   "cell_type": "markdown",
   "metadata": {},
   "source": [
    "## Исследовательский анализ данных  \n",
    "\n",
    "### Анализ распределения заказов по сегментам и их сезонные изменения  \n",
    "Анализ дашборда показал, что в данных наблюдается сезонность — осенью количество заказов увеличивается.  \n",
    "На стадии исследовательского анализа изучите изменение пользовательской активности или пользовательского интереса в связи с сезонностью. \n",
    "Анализируйте динамику по таким разрезам:  \n",
    "тип мероприятия event_type_main;  \n",
    "тип устройства device_type_canonical;  \n",
    "категория мероприятий по возрастному рейтингу age_limit.  \n",
    "\n",
    "В этом разделе изучите распределение заказов по сегментам и их сезонные изменения, выполнив следующие шаги:  \n",
    "Для каждого месяца найдите количество заказов и визуализируйте результаты.  \n",
    "Проверьте, фиксируется ли увеличение заказов от июня к ноябрю 2024 года.  \n",
    "\n",
    "Для осеннего и летнего периодов сравните распределение заказов билетов по разным категориям: тип мероприятия, тип устройства, категория мероприятия по возрастному рейтингу. \n",
    "Результаты визуализируйте подходящим графиком, который поможет сопоставить значения для летнего и осеннего сезонов. \n",
    "\n",
    "Рекомендация: поскольку абсолютное количество заказов в разные сезоны может меняться, при сопоставлении результатов для каждого сегмента используйте доли.  \n",
    "\n",
    "Изучите изменение выручки с продажи одного билета в зависимости от типа мероприятия летом и осенью.  \n",
    "Видна ли динамика средней стоимости билета в разрезе разных категорий мероприятий?  \n",
    "Для каждого типа мероприятия рассчитайте среднее значение выручки с одного билета, затем найдите относительное изменение осенних значений по сравнению с летними. \n",
    "Результат сопроводите подходящей визуализацией.  \n",
    "\n",
    "Сделайте вывод о том, как меняется распределение заказов в каждой категории с наступлением осени.  \n",
    "Было ли изменение средней стоимости одного билета в разрезе разных типов мероприятий?  "
   ]
  },
  {
   "cell_type": "code",
   "execution_count": 30,
   "metadata": {},
   "outputs": [
    {
     "data": {
      "image/png": "[encoded data removed]",
      "text/plain": [
       "<Figure size 576x288 with 1 Axes>"
      ]
     },
     "metadata": {
      "needs_background": "light"
     },
     "output_type": "display_data"
    }
   ],
   "source": [
    "#группируем по месяцу и считаем количество заказов\n",
    "orders_per_month = df_filter.groupby('month').size().reset_index(name='orders_count')\n",
    "\n",
    "#визуализация\n",
    "plt.figure(figsize=(8,4))\n",
    "\n",
    "sns.lineplot(data=orders_per_month, x='month', y='orders_count', marker='o')\n",
    "\n",
    "plt.title('Количество заказов по месяцам 2024 года')\n",
    "plt.xlabel('Месяц')\n",
    "plt.ylabel('Количество заказов')\n",
    "\n",
    "plt.xticks(range(1,13))\n",
    "plt.grid(True)\n",
    "\n",
    "plt.tight_layout()\n",
    "plt.show()"
   ]
  },
  {
   "cell_type": "markdown",
   "metadata": {},
   "source": [
    "#### Вывод:\n",
    " - Осенью наблюдается резкий рост количества заказов"
   ]
  },
  {
   "cell_type": "code",
   "execution_count": 31,
   "metadata": {},
   "outputs": [],
   "source": [
    "#сегменты сезонов\n",
    "summer_months = [6,7,8]\n",
    "autumn_months = [9,10,11]\n",
    "\n",
    "df_summer = df_filter[df_filter['month'].isin(summer_months)].copy()\n",
    "df_autumn = df_filter[df_filter['month'].isin(autumn_months)].copy()\n",
    "\n",
    "def get_segment_shares(df, segment_col):\n",
    "    counts = df.groupby(segment_col).size()\n",
    "    shares = counts / counts.sum()\n",
    "    return shares.reset_index(name='share')\n",
    "\n",
    "#тип мероприятия\n",
    "summer_event_type = get_segment_shares(df_summer, 'event_type_main')\n",
    "autumn_event_type = get_segment_shares(df_autumn, 'event_type_main')\n",
    "\n",
    "#тип устройства\n",
    "summer_device_type = get_segment_shares(df_summer, 'device_type_canonical')\n",
    "autumn_device_type = get_segment_shares(df_autumn, 'device_type_canonical')\n",
    "\n",
    "#возрастное ограничение\n",
    "summer_age_limit = get_segment_shares(df_summer, 'age_limit')\n",
    "autumn_age_limit = get_segment_shares(df_autumn, 'age_limit')"
   ]
  },
  {
   "cell_type": "code",
   "execution_count": 32,
   "metadata": {
    "scrolled": false
   },
   "outputs": [
    {
     "data": {
      "image/png": "[encoded data removed]",
      "text/plain": [
       "<Figure size 576x288 with 1 Axes>"
      ]
     },
     "metadata": {
      "needs_background": "light"
     },
     "output_type": "display_data"
    },
    {
     "data": {
      "image/png": "[encoded data removed]",
      "text/plain": [
       "<Figure size 576x288 with 1 Axes>"
      ]
     },
     "metadata": {
      "needs_background": "light"
     },
     "output_type": "display_data"
    },
    {
     "data": {
      "image/png": "[encoded data removed]",
      "text/plain": [
       "<Figure size 576x288 with 1 Axes>"
      ]
     },
     "metadata": {
      "needs_background": "light"
     },
     "output_type": "display_data"
    }
   ],
   "source": [
    "#визуализация\n",
    "def plot_segment_comparison(summer_df, autumn_df, segment_col, title):\n",
    "    merged = summer_df.merge(autumn_df, on=segment_col, suffixes=('_summer', '_autumn'))\n",
    "    merged = merged.sort_values(by='share_summer', ascending=False)\n",
    "\n",
    "    x = range(len(merged))\n",
    "    width = 0.35\n",
    "\n",
    "    plt.figure(figsize=(8,4))\n",
    "    plt.bar(x, merged['share_summer'], width=width, label='Лето')\n",
    "    plt.bar([i + width for i in x], merged['share_autumn'], width=width, label='Осень')\n",
    "\n",
    "    plt.xticks([i + width/2 for i in x], merged[segment_col], rotation=45)\n",
    "    plt.ylabel('Доля заказов')\n",
    "    plt.title(title)\n",
    "    plt.legend()\n",
    "    plt.tight_layout()\n",
    "    plt.show()\n",
    "\n",
    "plot_segment_comparison(summer_event_type, autumn_event_type, 'event_type_main', 'Доля заказов по типу мероприятия')\n",
    "plot_segment_comparison(summer_device_type, autumn_device_type, 'device_type_canonical', 'Доля заказов по типу устройства')\n",
    "plot_segment_comparison(summer_age_limit, autumn_age_limit, 'age_limit', 'Доля заказов по возрастному ограничению')"
   ]
  },
  {
   "cell_type": "code",
   "execution_count": 33,
   "metadata": {},
   "outputs": [
    {
     "data": {
      "image/png": "[encoded data removed]",
      "text/plain": [
       "<Figure size 720x360 with 1 Axes>"
      ]
     },
     "metadata": {
      "needs_background": "light"
     },
     "output_type": "display_data"
    },
    {
     "data": {
      "text/html": [
       "<div>\n",
       "<style scoped>\n",
       "    .dataframe tbody tr th:only-of-type {\n",
       "        vertical-align: middle;\n",
       "    }\n",
       "\n",
       "    .dataframe tbody tr th {\n",
       "        vertical-align: top;\n",
       "    }\n",
       "\n",
       "    .dataframe thead th {\n",
       "        text-align: right;\n",
       "    }\n",
       "</style>\n",
       "<table border=\"1\" class=\"dataframe\">\n",
       "  <thead>\n",
       "    <tr style=\"text-align: right;\">\n",
       "      <th></th>\n",
       "      <th>event_type_main</th>\n",
       "      <th>mean_revenue_summer</th>\n",
       "      <th>mean_revenue_autumn</th>\n",
       "      <th>revenue_change_%</th>\n",
       "    </tr>\n",
       "  </thead>\n",
       "  <tbody>\n",
       "    <tr>\n",
       "      <th>0</th>\n",
       "      <td>выставки</td>\n",
       "      <td>86.416199</td>\n",
       "      <td>90.603607</td>\n",
       "      <td>4.845629</td>\n",
       "    </tr>\n",
       "    <tr>\n",
       "      <th>1</th>\n",
       "      <td>другое</td>\n",
       "      <td>77.439796</td>\n",
       "      <td>76.115334</td>\n",
       "      <td>-1.710313</td>\n",
       "    </tr>\n",
       "    <tr>\n",
       "      <th>2</th>\n",
       "      <td>концерты</td>\n",
       "      <td>304.712219</td>\n",
       "      <td>268.085968</td>\n",
       "      <td>-12.019949</td>\n",
       "    </tr>\n",
       "    <tr>\n",
       "      <th>3</th>\n",
       "      <td>спорт</td>\n",
       "      <td>50.761829</td>\n",
       "      <td>49.970894</td>\n",
       "      <td>-1.558130</td>\n",
       "    </tr>\n",
       "    <tr>\n",
       "      <th>4</th>\n",
       "      <td>стендап</td>\n",
       "      <td>218.518112</td>\n",
       "      <td>231.124969</td>\n",
       "      <td>5.769250</td>\n",
       "    </tr>\n",
       "    <tr>\n",
       "      <th>5</th>\n",
       "      <td>театр</td>\n",
       "      <td>214.126328</td>\n",
       "      <td>175.977081</td>\n",
       "      <td>-17.816235</td>\n",
       "    </tr>\n",
       "    <tr>\n",
       "      <th>6</th>\n",
       "      <td>ёлки</td>\n",
       "      <td>271.436188</td>\n",
       "      <td>229.585587</td>\n",
       "      <td>-15.418211</td>\n",
       "    </tr>\n",
       "  </tbody>\n",
       "</table>\n",
       "</div>"
      ],
      "text/plain": [
       "  event_type_main  mean_revenue_summer  mean_revenue_autumn  revenue_change_%\n",
       "0        выставки            86.416199            90.603607          4.845629\n",
       "1          другое            77.439796            76.115334         -1.710313\n",
       "2        концерты           304.712219           268.085968        -12.019949\n",
       "3           спорт            50.761829            49.970894         -1.558130\n",
       "4         стендап           218.518112           231.124969          5.769250\n",
       "5           театр           214.126328           175.977081        -17.816235\n",
       "6            ёлки           271.436188           229.585587        -15.418211"
      ]
     },
     "metadata": {},
     "output_type": "display_data"
    }
   ],
   "source": [
    "def mean_ticket_revenue_by_season(df, months, season_name):\n",
    "    df_season = df[df['month'].isin(months)]\n",
    "    mean_revenue = df_season.groupby('event_type_main')['one_ticket_revenue_rub'].mean().reset_index()\n",
    "    mean_revenue.rename(columns={'one_ticket_revenue_rub': f'mean_revenue_{season_name}'}, inplace=True)\n",
    "    return mean_revenue\n",
    "\n",
    "mean_revenue_summer = mean_ticket_revenue_by_season(df_filter, summer_months, 'summer')\n",
    "mean_revenue_autumn = mean_ticket_revenue_by_season(df_filter, autumn_months, 'autumn')\n",
    "\n",
    "#объединяем для сравнения\n",
    "revenue_comparison = mean_revenue_summer.merge(mean_revenue_autumn, on='event_type_main')\n",
    "\n",
    "#рассчитываем относительное изменение (%)\n",
    "revenue_comparison['revenue_change_%'] = (\n",
    "    (revenue_comparison['mean_revenue_autumn'] - revenue_comparison['mean_revenue_summer']) /\n",
    "    revenue_comparison['mean_revenue_summer'] * 100\n",
    ")\n",
    "\n",
    "#визуализация\n",
    "plt.figure(figsize=(10,5))\n",
    "\n",
    "sns.barplot(data=revenue_comparison.sort_values('revenue_change_%'), x='event_type_main', y='revenue_change_%')\n",
    "\n",
    "plt.xticks(rotation=0)\n",
    "plt.ylabel('Изменение средней стоимости билета, %')\n",
    "plt.title('Относительное изменение средней стоимости билета осенью по сравнению с летом\\nпо типу мероприятия')\n",
    "\n",
    "plt.axhline(0, color='gray', linestyle='--')\n",
    "\n",
    "plt.tight_layout()\n",
    "plt.show()\n",
    "\n",
    "#для наглядности выводим таблицу\n",
    "display(revenue_comparison)"
   ]
  },
  {
   "cell_type": "markdown",
   "metadata": {},
   "source": [
    "#### Вывод:\n",
    " - осенью доля мероприятий заметно вырастает, только среди спортивных событий\n",
    " - осенью повышается популярность мероприятий с возрастным ограничением `0`\n",
    " - по типу устройств сезонная динамика минимальна\n",
    " - cредняя стоимость билета снижается по большинству типов мероприятий, кроме выставок и стендапа."
   ]
  },
  {
   "cell_type": "markdown",
   "metadata": {},
   "source": [
    "### Осенняя активность пользователей  \n",
    "Изучите активность пользователей осенью 2024 года.  \n",
    "В вашем распоряжении данные за два осенних месяца.  \n",
    "\n",
    "Используйте только эти данные и сделайте следующее:  \n",
    "Проанализируйте динамику изменений по дням для:  \n",
    "общего числа заказов;  \n",
    "количества активных пользователей DAU;  \n",
    "среднего числа заказов на одного пользователя;  \n",
    "средней стоимости одного билета.  \n",
    "\n",
    "Рекомендация: удобно создать одну сводную таблицу, и в ней по дням рассчитать число заказов и число уникальных пользователей, а затем найти величину — количество заказов на одного пользователя.  \n",
    "\n",
    "Полученные результаты можно визуализировать с помощью линейного графика.  \n",
    "Подобные графики вы строили на дашборде, только делали это с агрегацией по неделям.  \n",
    "Изучите недельную цикличность. Выделите день недели и сравните пользовательскую активность в будни и выходные.  \n",
    "Напишите промежуточный вывод о пользовательской активности и недельной цикличности.  "
   ]
  },
  {
   "cell_type": "code",
   "execution_count": 34,
   "metadata": {},
   "outputs": [],
   "source": [
    "autumn_months = [10, 11]  # два осенних месяца, например октябрь и ноябрь\n",
    "\n",
    "df_autumn = df_filter[df_filter['month'].isin(autumn_months)].copy()"
   ]
  },
  {
   "cell_type": "code",
   "execution_count": 35,
   "metadata": {},
   "outputs": [],
   "source": [
    "#группируем по дате\n",
    "daily_stats = df_autumn.groupby('created_dt_msk').agg(\n",
    "    orders_count=('order_id', 'count'),\n",
    "    dau=('user_id', 'nunique'),\n",
    "    avg_ticket_revenue=('one_ticket_revenue_rub', 'mean')\n",
    ").reset_index()\n",
    "\n",
    "#среднее число заказов на одного пользователя\n",
    "daily_stats['orders_per_user'] = daily_stats['orders_count'] / daily_stats['dau']"
   ]
  },
  {
   "cell_type": "code",
   "execution_count": 36,
   "metadata": {},
   "outputs": [
    {
     "data": {
      "image/png": "[encoded data removed]",
      "text/plain": [
       "<Figure size 1008x720 with 4 Axes>"
      ]
     },
     "metadata": {
      "needs_background": "light"
     },
     "output_type": "display_data"
    }
   ],
   "source": [
    "plt.figure(figsize=(14,10))\n",
    "\n",
    "plt.subplot(4,1,1)\n",
    "plt.plot(daily_stats['created_dt_msk'], daily_stats['orders_count'], marker='o')\n",
    "plt.title('Общее число заказов по дням')\n",
    "plt.ylabel('Заказы')\n",
    "\n",
    "plt.subplot(4,1,2)\n",
    "plt.plot(daily_stats['created_dt_msk'], daily_stats['dau'], marker='o', color='orange')\n",
    "plt.title('Количество активных пользователей (DAU) по дням')\n",
    "plt.ylabel('DAU')\n",
    "\n",
    "plt.subplot(4,1,3)\n",
    "plt.plot(daily_stats['created_dt_msk'], daily_stats['orders_per_user'], marker='o', color='green')\n",
    "plt.title('Среднее число заказов на одного пользователя по дням')\n",
    "plt.ylabel('Заказы на пользователя')\n",
    "\n",
    "plt.subplot(4,1,4)\n",
    "plt.plot(daily_stats['created_dt_msk'], daily_stats['avg_ticket_revenue'], marker='o', color='red')\n",
    "plt.title('Средняя стоимость одного билета по дням')\n",
    "plt.ylabel('Средняя стоимость (руб)')\n",
    "plt.xlabel('Дата')\n",
    "\n",
    "plt.tight_layout()\n",
    "plt.show()"
   ]
  },
  {
   "cell_type": "markdown",
   "metadata": {},
   "source": [
    "#### Вывод:\n",
    " - Меньше средняя цена билета = больше заказов => больше выручка."
   ]
  },
  {
   "cell_type": "code",
   "execution_count": 37,
   "metadata": {},
   "outputs": [
    {
     "data": {
      "text/html": [
       "<div>\n",
       "<style scoped>\n",
       "    .dataframe tbody tr th:only-of-type {\n",
       "        vertical-align: middle;\n",
       "    }\n",
       "\n",
       "    .dataframe tbody tr th {\n",
       "        vertical-align: top;\n",
       "    }\n",
       "\n",
       "    .dataframe thead th {\n",
       "        text-align: right;\n",
       "    }\n",
       "</style>\n",
       "<table border=\"1\" class=\"dataframe\">\n",
       "  <thead>\n",
       "    <tr style=\"text-align: right;\">\n",
       "      <th></th>\n",
       "      <th>day_type</th>\n",
       "      <th>avg_orders</th>\n",
       "      <th>avg_dau</th>\n",
       "      <th>avg_orders_per_user</th>\n",
       "      <th>avg_ticket_revenue</th>\n",
       "    </tr>\n",
       "  </thead>\n",
       "  <tbody>\n",
       "    <tr>\n",
       "      <th>0</th>\n",
       "      <td>Будни</td>\n",
       "      <td>3337.086957</td>\n",
       "      <td>1034.173913</td>\n",
       "      <td>3.187939</td>\n",
       "      <td>179.705643</td>\n",
       "    </tr>\n",
       "    <tr>\n",
       "      <th>1</th>\n",
       "      <td>Выходные</td>\n",
       "      <td>2813.000000</td>\n",
       "      <td>1004.750000</td>\n",
       "      <td>2.793236</td>\n",
       "      <td>198.106262</td>\n",
       "    </tr>\n",
       "  </tbody>\n",
       "</table>\n",
       "</div>"
      ],
      "text/plain": [
       "   day_type   avg_orders      avg_dau  avg_orders_per_user  avg_ticket_revenue\n",
       "0     Будни  3337.086957  1034.173913             3.187939          179.705643\n",
       "1  Выходные  2813.000000  1004.750000             2.793236          198.106262"
      ]
     },
     "metadata": {},
     "output_type": "display_data"
    }
   ],
   "source": [
    "#день недели (0 - понедельник/6 - воскресенье)\n",
    "daily_stats['weekday'] = daily_stats['created_dt_msk'].dt.dayofweek\n",
    "#метка выходного дня\n",
    "daily_stats['is_weekend'] = daily_stats['weekday'] >= 5  # суббота и воскресенье\n",
    "\n",
    "#группируем по выходным и будням, считаем среднее по ключевым метрикам\n",
    "weekly_cycle = daily_stats.groupby('is_weekend').agg(\n",
    "    avg_orders=('orders_count', 'mean'),\n",
    "    avg_dau=('dau', 'mean'),\n",
    "    avg_orders_per_user=('orders_per_user', 'mean'),\n",
    "    avg_ticket_revenue=('avg_ticket_revenue', 'mean')\n",
    ").reset_index()\n",
    "\n",
    "weekly_cycle['day_type'] = weekly_cycle['is_weekend'].map({False: 'Будни', True: 'Выходные'})\n",
    "\n",
    "display(weekly_cycle[['day_type', 'avg_orders', 'avg_dau', 'avg_orders_per_user', 'avg_ticket_revenue']])"
   ]
  },
  {
   "cell_type": "code",
   "execution_count": 38,
   "metadata": {
    "scrolled": false
   },
   "outputs": [
    {
     "data": {
      "image/png": "[encoded data removed]",
      "text/plain": [
       "<Figure size 864x576 with 4 Axes>"
      ]
     },
     "metadata": {
      "needs_background": "light"
     },
     "output_type": "display_data"
    }
   ],
   "source": [
    "#визуализация\n",
    "metrics = ['avg_orders', 'avg_dau', 'avg_orders_per_user', 'avg_ticket_revenue']\n",
    "\n",
    "plt.figure(figsize=(12,8))\n",
    "for i, metric in enumerate(metrics, 1):\n",
    "    plt.subplot(2,2,i)\n",
    "    sns.barplot(x='day_type', y=metric, data=weekly_cycle)\n",
    "    plt.title(metric.replace('avg_', '').replace('_', ' ').capitalize())\n",
    "    plt.ylabel('')\n",
    "plt.tight_layout()\n",
    "plt.show()"
   ]
  },
  {
   "cell_type": "markdown",
   "metadata": {},
   "source": [
    "#### Вывод:\n",
    " - средняя цена билета в выходные выше, чем в будни.\n",
    " - в будние дни выше количество заказов и активных пользователей, чем в выходные.\n",
    " "
   ]
  },
  {
   "cell_type": "markdown",
   "metadata": {},
   "source": [
    "### Популярные события и партнёры  \n",
    "После того как изучите изменение популярности событий и пользовательской активности осенью 2024 года, посмотрите, как события распределены по регионам и партнёрам.  \n",
    "Это позволит выделить ключевые регионы и партнёров, которые вносят наибольший вклад в выручку.  \n",
    "Для каждого региона посчитайте уникальное количество мероприятий и общее число заказов.  \n",
    "\n",
    "В каких регионах предлагается наибольшее разнообразие мероприятий?  \n",
    "\n",
    "Для каждого билетного партнёра посчитайте общее число уникальных мероприятий, обработанных заказов и суммарную выручку с заказов билетов.  \n",
    "Сделайте акцент на наиболее активных партнёрах.  \n",
    "Рекомендация: исследуйте не только абсолютные значения, но и доли.  \n",
    "Например, для каждого региона посчитайте долю проводимых мероприятий от их общего числа или долю заказов в регионе от общего числа заказов.  \n",
    "\n",
    "В конце напишите промежуточный вывод, проанализируйте не только топ-категории, но и общее распределение данных между категориями.  \n",
    "Существуют ли явные лидеры среди регионов и партнёров?  "
   ]
  },
  {
   "cell_type": "code",
   "execution_count": 39,
   "metadata": {},
   "outputs": [
    {
     "data": {
      "text/html": [
       "<div>\n",
       "<style scoped>\n",
       "    .dataframe tbody tr th:only-of-type {\n",
       "        vertical-align: middle;\n",
       "    }\n",
       "\n",
       "    .dataframe tbody tr th {\n",
       "        vertical-align: top;\n",
       "    }\n",
       "\n",
       "    .dataframe thead th {\n",
       "        text-align: right;\n",
       "    }\n",
       "</style>\n",
       "<table border=\"1\" class=\"dataframe\">\n",
       "  <thead>\n",
       "    <tr style=\"text-align: right;\">\n",
       "      <th></th>\n",
       "      <th>region_name</th>\n",
       "      <th>unique_events</th>\n",
       "      <th>total_orders</th>\n",
       "      <th>events_share</th>\n",
       "      <th>orders_share</th>\n",
       "    </tr>\n",
       "  </thead>\n",
       "  <tbody>\n",
       "    <tr>\n",
       "      <th>22</th>\n",
       "      <td>Каменевский регион</td>\n",
       "      <td>2899</td>\n",
       "      <td>28891</td>\n",
       "      <td>0.247397</td>\n",
       "      <td>0.291073</td>\n",
       "    </tr>\n",
       "    <tr>\n",
       "      <th>58</th>\n",
       "      <td>Североярская область</td>\n",
       "      <td>1974</td>\n",
       "      <td>12551</td>\n",
       "      <td>0.168459</td>\n",
       "      <td>0.126450</td>\n",
       "    </tr>\n",
       "    <tr>\n",
       "      <th>55</th>\n",
       "      <td>Светополянский округ</td>\n",
       "      <td>566</td>\n",
       "      <td>2992</td>\n",
       "      <td>0.048302</td>\n",
       "      <td>0.030144</td>\n",
       "    </tr>\n",
       "    <tr>\n",
       "      <th>74</th>\n",
       "      <td>Широковская область</td>\n",
       "      <td>537</td>\n",
       "      <td>4475</td>\n",
       "      <td>0.045827</td>\n",
       "      <td>0.045085</td>\n",
       "    </tr>\n",
       "    <tr>\n",
       "      <th>50</th>\n",
       "      <td>Речиновская область</td>\n",
       "      <td>411</td>\n",
       "      <td>2104</td>\n",
       "      <td>0.035074</td>\n",
       "      <td>0.021197</td>\n",
       "    </tr>\n",
       "    <tr>\n",
       "      <th>...</th>\n",
       "      <td>...</td>\n",
       "      <td>...</td>\n",
       "      <td>...</td>\n",
       "      <td>...</td>\n",
       "      <td>...</td>\n",
       "    </tr>\n",
       "    <tr>\n",
       "      <th>77</th>\n",
       "      <td>Яснопольский округ</td>\n",
       "      <td>2</td>\n",
       "      <td>3</td>\n",
       "      <td>0.000171</td>\n",
       "      <td>0.000030</td>\n",
       "    </tr>\n",
       "    <tr>\n",
       "      <th>46</th>\n",
       "      <td>Островогорский округ</td>\n",
       "      <td>2</td>\n",
       "      <td>13</td>\n",
       "      <td>0.000171</td>\n",
       "      <td>0.000131</td>\n",
       "    </tr>\n",
       "    <tr>\n",
       "      <th>29</th>\n",
       "      <td>Кристальная область</td>\n",
       "      <td>2</td>\n",
       "      <td>3</td>\n",
       "      <td>0.000171</td>\n",
       "      <td>0.000030</td>\n",
       "    </tr>\n",
       "    <tr>\n",
       "      <th>54</th>\n",
       "      <td>Светолесский край</td>\n",
       "      <td>2</td>\n",
       "      <td>6</td>\n",
       "      <td>0.000171</td>\n",
       "      <td>0.000060</td>\n",
       "    </tr>\n",
       "    <tr>\n",
       "      <th>64</th>\n",
       "      <td>Сосноводолинская область</td>\n",
       "      <td>1</td>\n",
       "      <td>7</td>\n",
       "      <td>0.000085</td>\n",
       "      <td>0.000071</td>\n",
       "    </tr>\n",
       "  </tbody>\n",
       "</table>\n",
       "<p>78 rows × 5 columns</p>\n",
       "</div>"
      ],
      "text/plain": [
       "                 region_name  unique_events  total_orders  events_share  \\\n",
       "22        Каменевский регион           2899         28891      0.247397   \n",
       "58      Североярская область           1974         12551      0.168459   \n",
       "55      Светополянский округ            566          2992      0.048302   \n",
       "74       Широковская область            537          4475      0.045827   \n",
       "50       Речиновская область            411          2104      0.035074   \n",
       "..                       ...            ...           ...           ...   \n",
       "77        Яснопольский округ              2             3      0.000171   \n",
       "46      Островогорский округ              2            13      0.000171   \n",
       "29       Кристальная область              2             3      0.000171   \n",
       "54         Светолесский край              2             6      0.000171   \n",
       "64  Сосноводолинская область              1             7      0.000085   \n",
       "\n",
       "    orders_share  \n",
       "22      0.291073  \n",
       "58      0.126450  \n",
       "55      0.030144  \n",
       "74      0.045085  \n",
       "50      0.021197  \n",
       "..           ...  \n",
       "77      0.000030  \n",
       "46      0.000131  \n",
       "29      0.000030  \n",
       "54      0.000060  \n",
       "64      0.000071  \n",
       "\n",
       "[78 rows x 5 columns]"
      ]
     },
     "metadata": {},
     "output_type": "display_data"
    }
   ],
   "source": [
    "#уникальное количество мероприятий по регионам\n",
    "region_events = df_autumn.groupby('region_name')['event_id'].nunique().reset_index(name='unique_events')\n",
    "\n",
    "#общее число заказов по регионам\n",
    "region_orders = df_autumn.groupby('region_name')['order_id'].count().reset_index(name='total_orders')\n",
    "\n",
    "#объединяем\n",
    "region_stats = region_events.merge(region_orders, on='region_name')\n",
    "\n",
    "#доли\n",
    "total_events = region_stats['unique_events'].sum()\n",
    "total_orders = region_stats['total_orders'].sum()\n",
    "\n",
    "region_stats['events_share'] = region_stats['unique_events'] / total_events\n",
    "region_stats['orders_share'] = region_stats['total_orders'] / total_orders\n",
    "\n",
    "region_stats = region_stats.sort_values(by='unique_events', ascending=False)\n",
    "\n",
    "display(region_stats)"
   ]
  },
  {
   "cell_type": "markdown",
   "metadata": {},
   "source": [
    "#### Вывод:\n",
    " - Каменевский регион лидирует по количеству уникальных мероприятий и заказов (около 25–27%).\n",
    " - Североярская и Широковская области занимают второе и третье места по активности.\n",
    " - остальные регионы значительно уступают по объёмам."
   ]
  },
  {
   "cell_type": "code",
   "execution_count": 40,
   "metadata": {
    "scrolled": false
   },
   "outputs": [
    {
     "data": {
      "text/plain": [
       "'Статистика по партнёрам:'"
      ]
     },
     "metadata": {},
     "output_type": "display_data"
    },
    {
     "data": {
      "text/html": [
       "<div>\n",
       "<style scoped>\n",
       "    .dataframe tbody tr th:only-of-type {\n",
       "        vertical-align: middle;\n",
       "    }\n",
       "\n",
       "    .dataframe tbody tr th {\n",
       "        vertical-align: top;\n",
       "    }\n",
       "\n",
       "    .dataframe thead th {\n",
       "        text-align: right;\n",
       "    }\n",
       "</style>\n",
       "<table border=\"1\" class=\"dataframe\">\n",
       "  <thead>\n",
       "    <tr style=\"text-align: right;\">\n",
       "      <th></th>\n",
       "      <th>organizers</th>\n",
       "      <th>unique_events</th>\n",
       "      <th>total_orders</th>\n",
       "      <th>total_revenue</th>\n",
       "      <th>events_share</th>\n",
       "      <th>orders_share</th>\n",
       "      <th>revenue_share</th>\n",
       "    </tr>\n",
       "  </thead>\n",
       "  <tbody>\n",
       "    <tr>\n",
       "      <th>782</th>\n",
       "      <td>№2121</td>\n",
       "      <td>43</td>\n",
       "      <td>3951</td>\n",
       "      <td>661109.937500</td>\n",
       "      <td>0.003670</td>\n",
       "      <td>0.039806</td>\n",
       "      <td>3.725934e-02</td>\n",
       "    </tr>\n",
       "    <tr>\n",
       "      <th>2897</th>\n",
       "      <td>№894</td>\n",
       "      <td>14</td>\n",
       "      <td>1253</td>\n",
       "      <td>329432.656250</td>\n",
       "      <td>0.001195</td>\n",
       "      <td>0.012624</td>\n",
       "      <td>1.856642e-02</td>\n",
       "    </tr>\n",
       "    <tr>\n",
       "      <th>15</th>\n",
       "      <td>№1022</td>\n",
       "      <td>6</td>\n",
       "      <td>546</td>\n",
       "      <td>246841.000000</td>\n",
       "      <td>0.000512</td>\n",
       "      <td>0.005501</td>\n",
       "      <td>1.391165e-02</td>\n",
       "    </tr>\n",
       "    <tr>\n",
       "      <th>2327</th>\n",
       "      <td>№4403</td>\n",
       "      <td>27</td>\n",
       "      <td>702</td>\n",
       "      <td>241025.890625</td>\n",
       "      <td>0.002304</td>\n",
       "      <td>0.007073</td>\n",
       "      <td>1.358392e-02</td>\n",
       "    </tr>\n",
       "    <tr>\n",
       "      <th>2098</th>\n",
       "      <td>№4054</td>\n",
       "      <td>7</td>\n",
       "      <td>664</td>\n",
       "      <td>203791.781250</td>\n",
       "      <td>0.000597</td>\n",
       "      <td>0.006690</td>\n",
       "      <td>1.148545e-02</td>\n",
       "    </tr>\n",
       "    <tr>\n",
       "      <th>...</th>\n",
       "      <td>...</td>\n",
       "      <td>...</td>\n",
       "      <td>...</td>\n",
       "      <td>...</td>\n",
       "      <td>...</td>\n",
       "      <td>...</td>\n",
       "      <td>...</td>\n",
       "    </tr>\n",
       "    <tr>\n",
       "      <th>1021</th>\n",
       "      <td>№2490</td>\n",
       "      <td>3</td>\n",
       "      <td>5</td>\n",
       "      <td>0.000000</td>\n",
       "      <td>0.000256</td>\n",
       "      <td>0.000050</td>\n",
       "      <td>0.000000e+00</td>\n",
       "    </tr>\n",
       "    <tr>\n",
       "      <th>2248</th>\n",
       "      <td>№4299</td>\n",
       "      <td>1</td>\n",
       "      <td>61</td>\n",
       "      <td>0.000000</td>\n",
       "      <td>0.000085</td>\n",
       "      <td>0.000615</td>\n",
       "      <td>0.000000e+00</td>\n",
       "    </tr>\n",
       "    <tr>\n",
       "      <th>496</th>\n",
       "      <td>№1749</td>\n",
       "      <td>2</td>\n",
       "      <td>3</td>\n",
       "      <td>0.000000</td>\n",
       "      <td>0.000171</td>\n",
       "      <td>0.000030</td>\n",
       "      <td>0.000000e+00</td>\n",
       "    </tr>\n",
       "    <tr>\n",
       "      <th>1806</th>\n",
       "      <td>№3648</td>\n",
       "      <td>1</td>\n",
       "      <td>1</td>\n",
       "      <td>-1.030000</td>\n",
       "      <td>0.000085</td>\n",
       "      <td>0.000010</td>\n",
       "      <td>-5.804953e-08</td>\n",
       "    </tr>\n",
       "    <tr>\n",
       "      <th>250</th>\n",
       "      <td>№1437</td>\n",
       "      <td>1</td>\n",
       "      <td>1</td>\n",
       "      <td>-5.700000</td>\n",
       "      <td>0.000085</td>\n",
       "      <td>0.000010</td>\n",
       "      <td>-3.212450e-07</td>\n",
       "    </tr>\n",
       "  </tbody>\n",
       "</table>\n",
       "<p>2970 rows × 7 columns</p>\n",
       "</div>"
      ],
      "text/plain": [
       "     organizers  unique_events  total_orders  total_revenue  events_share  \\\n",
       "782       №2121             43          3951  661109.937500      0.003670   \n",
       "2897       №894             14          1253  329432.656250      0.001195   \n",
       "15        №1022              6           546  246841.000000      0.000512   \n",
       "2327      №4403             27           702  241025.890625      0.002304   \n",
       "2098      №4054              7           664  203791.781250      0.000597   \n",
       "...         ...            ...           ...            ...           ...   \n",
       "1021      №2490              3             5       0.000000      0.000256   \n",
       "2248      №4299              1            61       0.000000      0.000085   \n",
       "496       №1749              2             3       0.000000      0.000171   \n",
       "1806      №3648              1             1      -1.030000      0.000085   \n",
       "250       №1437              1             1      -5.700000      0.000085   \n",
       "\n",
       "      orders_share  revenue_share  \n",
       "782       0.039806   3.725934e-02  \n",
       "2897      0.012624   1.856642e-02  \n",
       "15        0.005501   1.391165e-02  \n",
       "2327      0.007073   1.358392e-02  \n",
       "2098      0.006690   1.148545e-02  \n",
       "...            ...            ...  \n",
       "1021      0.000050   0.000000e+00  \n",
       "2248      0.000615   0.000000e+00  \n",
       "496       0.000030   0.000000e+00  \n",
       "1806      0.000010  -5.804953e-08  \n",
       "250       0.000010  -3.212450e-07  \n",
       "\n",
       "[2970 rows x 7 columns]"
      ]
     },
     "metadata": {},
     "output_type": "display_data"
    }
   ],
   "source": [
    "#популярные организаторы(партнеры)\n",
    "partner_stats = df_autumn.groupby('organizers').agg(\n",
    "    unique_events=('event_id', 'nunique'),\n",
    "    total_orders=('order_id', 'count'),\n",
    "    total_revenue=('one_ticket_revenue_rub', 'sum')\n",
    ").reset_index()\n",
    "\n",
    "#cчитаем доли\n",
    "total_unique_events = partner_stats['unique_events'].sum()\n",
    "total_orders = partner_stats['total_orders'].sum()\n",
    "total_revenue = partner_stats['total_revenue'].sum()\n",
    "\n",
    "partner_stats['events_share'] = partner_stats['unique_events'] / total_unique_events\n",
    "partner_stats['orders_share'] = partner_stats['total_orders'] / total_orders\n",
    "partner_stats['revenue_share'] = partner_stats['total_revenue'] / total_revenue\n",
    "\n",
    "#cортируем по суммарной выручке, чтобы выделить ключевых партнёров\n",
    "partner_stats = partner_stats.sort_values(by='total_revenue', ascending=False)\n",
    "\n",
    "display(\"Статистика по партнёрам:\")\n",
    "display(partner_stats)"
   ]
  },
  {
   "cell_type": "markdown",
   "metadata": {},
   "source": [
    "#### Вывод:\n",
    " - Несколько партнёров (например, №2121) обеспечивают основную часть выручки и заказов.\n",
    " - Распределение активности и доходов среди партнёров неравномерное.\n",
    " - Большинство партнёров имеют низкие показатели."
   ]
  },
  {
   "cell_type": "markdown",
   "metadata": {},
   "source": [
    "## Статистический анализ данных  \n",
    "Коллеги из продуктового отдела хотят отдельно проверить несколько гипотез относительно активности пользователей мобильных и стационарных устройств.  \n",
    "\n",
    "Проверьте две гипотезы, которые предполагают большую активность пользователей мобильных устройств:   \n",
    "Среднее количество заказов на одного пользователя мобильного приложения выше по сравнению с пользователями стационарных устройств.  \n",
    "Среднее время между заказами пользователей мобильных приложений выше по сравнению с пользователями стационарных устройств.  \n",
    "\n",
    "Перед проведением гипотез изучите сравниваемые данные, обоснуйте выбор статистического теста, укажите формулировку нулевой и альтернативной гипотез.  \n",
    "Результаты тестов прокомментируйте в промежуточном выводе.  \n",
    "Используйте данные только за осенний период."
   ]
  },
  {
   "cell_type": "markdown",
   "metadata": {},
   "source": [
    "#### Гипотеза 1: Среднее количество заказов на пользователя\n",
    "\n",
    "**Нулевая гипотеза (H0):**  \n",
    "Среднее количество заказов на одного пользователя мобильного приложения равно среднему количеству заказов у пользователей стационарных устройств.  \n",
    "**Альтернативная гипотеза (H1):**  \n",
    "Среднее количество заказов на одного пользователя мобильного приложения выше, чем у пользователей стационарных устройств."
   ]
  },
  {
   "cell_type": "code",
   "execution_count": 41,
   "metadata": {},
   "outputs": [],
   "source": [
    "#фильтр по осени\n",
    "autumn_months = [9, 10, 11]\n",
    "df_autumn = df_filter[df_filter['month'].isin(autumn_months)].copy()\n",
    "\n",
    "#группировка по user_id и device_type_canonical — считаем количество заказов на пользователя\n",
    "user_order_counts = df_autumn.groupby(['user_id', 'device_type_canonical']).size().reset_index(name='orders_per_user')\n",
    "\n",
    "#разделяем данные по типу устройства\n",
    "mobile_users = user_order_counts[user_order_counts['device_type_canonical'] == 'mobile']['orders_per_user']\n",
    "desktop_users = user_order_counts[user_order_counts['device_type_canonical'] == 'desktop']['orders_per_user']"
   ]
  },
  {
   "cell_type": "code",
   "execution_count": 42,
   "metadata": {
    "scrolled": true
   },
   "outputs": [
    {
     "data": {
      "text/plain": [
       "'Мобильные пользователи:'"
      ]
     },
     "metadata": {},
     "output_type": "display_data"
    },
    {
     "data": {
      "text/plain": [
       "'Количество уникальных пользователей: 15808'"
      ]
     },
     "metadata": {},
     "output_type": "display_data"
    },
    {
     "data": {
      "text/plain": [
       "'Среднее количество заказов на пользователя: 8.494'"
      ]
     },
     "metadata": {},
     "output_type": "display_data"
    },
    {
     "data": {
      "text/plain": [
       "'Стандартное отклонение: 64.514'"
      ]
     },
     "metadata": {},
     "output_type": "display_data"
    },
    {
     "data": {
      "text/plain": [
       "'\\nПользователи стационарных устройств:'"
      ]
     },
     "metadata": {},
     "output_type": "display_data"
    },
    {
     "data": {
      "text/plain": [
       "'Количество уникальных пользователей: 15808'"
      ]
     },
     "metadata": {},
     "output_type": "display_data"
    },
    {
     "data": {
      "text/plain": [
       "'Среднее количество заказов на пользователя: 2.170'"
      ]
     },
     "metadata": {},
     "output_type": "display_data"
    },
    {
     "data": {
      "text/plain": [
       "'Стандартное отклонение: 20.232'"
      ]
     },
     "metadata": {},
     "output_type": "display_data"
    }
   ],
   "source": [
    "display(\"Мобильные пользователи:\")\n",
    "display(f\"Количество уникальных пользователей: {len(mobile_users)}\")\n",
    "display(f\"Среднее количество заказов на пользователя: {mobile_users.mean():.3f}\")\n",
    "display(f\"Стандартное отклонение: {mobile_users.std():.3f}\")\n",
    "\n",
    "display(\"\\nПользователи стационарных устройств:\")\n",
    "display(f\"Количество уникальных пользователей: {len(desktop_users)}\")\n",
    "display(f\"Среднее количество заказов на пользователя: {desktop_users.mean():.3f}\")\n",
    "display(f\"Стандартное отклонение: {desktop_users.std():.3f}\")"
   ]
  },
  {
   "cell_type": "markdown",
   "metadata": {},
   "source": [
    "#### Вывод:\n",
    " - Высокое стандартное отклонение по сравнению со средним (особенно у мобильных пользователей: 64.5 - 8.5) указывает на сильную скошенность распределения — вероятно, большинство пользователей сделали 1–2 заказа, но есть небольшая группа с сотнями заказов "
   ]
  },
  {
   "cell_type": "markdown",
   "metadata": {},
   "source": [
    "Обоснование выбора статистического теста:\n",
    " - Выборки: независимые (пользователи используют только один тип устройства).\n",
    " - Размер выборок: одинаковый и достаточно большой (n = 15 808 в каждой), что позволяет применять t-тест благодаря центральной предельной теореме, даже при не нормальном распределении.\n",
    " - Дисперсии: сильно различаются, поэтому предположение о равенстве дисперсий нарушено.\n",
    " - Тип теста: односторонний, так как нас интересует превосходство мобильных пользователей.  \n",
    " \n",
    "\n",
    "**Выбор: t-тест Уэлча (Welch’s t-test) для независимых выборок с неравными дисперсиями.**"
   ]
  },
  {
   "cell_type": "code",
   "execution_count": 43,
   "metadata": {},
   "outputs": [
    {
     "data": {
      "text/plain": [
       "'t-статистика: 11.7610'"
      ]
     },
     "metadata": {},
     "output_type": "display_data"
    },
    {
     "data": {
      "text/plain": [
       "'p-value: 0.0000000000'"
      ]
     },
     "metadata": {},
     "output_type": "display_data"
    },
    {
     "data": {
      "text/plain": [
       "'Результат: Отклоняем нулевую гипотезу (H0).'"
      ]
     },
     "metadata": {},
     "output_type": "display_data"
    },
    {
     "data": {
      "text/plain": [
       "'Вывод: Среднее количество заказов на пользователя мобильного приложения статистически значимо выше, чем у пользователей стационарных устройств.'"
      ]
     },
     "metadata": {},
     "output_type": "display_data"
    }
   ],
   "source": [
    "#проведём t-тест Уэлча (односторонний)\n",
    "alpha = 0.05 #уровень значимости\n",
    "power = 0.8 #вероятность что нужные мне изменнения найдутся\n",
    "beta = 1-power #вероятность пропустить нужные мне изменения\n",
    "p1 = 0.3 #конверсия группы теста `mobile_users`\n",
    "mde = 0.03 #процент изменений, который мы хотит увидеть\n",
    "p2 = p1 + mde #конверсия для целевой группы `desktop_users`\n",
    "\n",
    "\n",
    "t_stat, p_val = ttest_ind(mobile_users, desktop_users, equal_var=False, alternative='greater')\n",
    "\n",
    "display(f\"t-статистика: {t_stat:.4f}\")\n",
    "display(f\"p-value: {p_val:.10f}\")\n",
    "\n",
    "if p_val < alpha:\n",
    "    display(\"Результат: Отклоняем нулевую гипотезу (H0).\")\n",
    "    display(\"Вывод: Среднее количество заказов на пользователя мобильного приложения статистически значимо выше, чем у пользователей стационарных устройств.\")\n",
    "else:\n",
    "    display(\"Результат: Не отклоняем нулевую гипотезу (H0).\")\n",
    "    display(\"Вывод: Нет достаточных оснований утверждать, что мобильные пользователи делают больше заказов.\")"
   ]
  },
  {
   "cell_type": "markdown",
   "metadata": {},
   "source": [
    "#### Вывод: \n",
    " - Это различие не является случайным и подтверждается с высокой степенью достоверности.  \n",
    "Мобильные пользователи не только более многочисленны, но и существенно активнее в пересчёте на одного пользователя."
   ]
  },
  {
   "cell_type": "markdown",
   "metadata": {},
   "source": [
    "#### Гипотеза 2: Среднее время между заказами\n",
    "\n",
    "Для каждого пользователя вычислим среднее время между заказами (в днях). Для пользователей с одним заказом время между заказами определить нельзя — таких пользователей исключим из анализа.\n",
    "\n",
    "**Нулевая гипотеза (H0):**  \n",
    "Среднее время между заказами у пользователей мобильных устройств равно времени у пользователей стационарных устройств.  \n",
    "**Альтернативная гипотеза (H1):**  \n",
    "Среднее время между заказами у пользователей мобильных устройств выше, чем у пользователей стационарных устройств."
   ]
  },
  {
   "cell_type": "code",
   "execution_count": 44,
   "metadata": {},
   "outputs": [],
   "source": [
    "#фильтр по осени: сентябрь, октябрь, ноябрь\n",
    "autumn_months = [9, 10, 11]\n",
    "df_autumn = df_filter[df_filter['month'].isin(autumn_months)].copy()\n",
    "\n",
    "#мы уже удалили пропуски ранее, оставим только тех, у кого days_since_prev не NaN\n",
    "valid_interval_data = df_autumn.dropna(subset=['days_since_prev']).copy()\n",
    "\n",
    "#группируем по user_id и device_type_canonical, считаем среднее время между заказами на пользователя\n",
    "user_interval_mean = valid_interval_data.groupby(['user_id', 'device_type_canonical'])['days_since_prev'].mean().reset_index()\n",
    "\n",
    "#разделяем выборки по типу устройства\n",
    "mobile_intervals = user_interval_mean[user_interval_mean['device_type_canonical'] == 'mobile']['days_since_prev']\n",
    "desktop_intervals = user_interval_mean[user_interval_mean['device_type_canonical'] == 'desktop']['days_since_prev']"
   ]
  },
  {
   "cell_type": "code",
   "execution_count": 45,
   "metadata": {},
   "outputs": [
    {
     "data": {
      "text/plain": [
       "'Мобильные пользователи:'"
      ]
     },
     "metadata": {},
     "output_type": "display_data"
    },
    {
     "data": {
      "text/plain": [
       "'Количество пользователей: 11197'"
      ]
     },
     "metadata": {},
     "output_type": "display_data"
    },
    {
     "data": {
      "text/plain": [
       "'Среднее время между заказами: 20.626 дней'"
      ]
     },
     "metadata": {},
     "output_type": "display_data"
    },
    {
     "data": {
      "text/plain": [
       "'Стандартное отклонение: 27.363'"
      ]
     },
     "metadata": {},
     "output_type": "display_data"
    },
    {
     "data": {
      "text/plain": [
       "'\\nПользователи стационарных устройств:'"
      ]
     },
     "metadata": {},
     "output_type": "display_data"
    },
    {
     "data": {
      "text/plain": [
       "'Количество пользователей: 11197'"
      ]
     },
     "metadata": {},
     "output_type": "display_data"
    },
    {
     "data": {
      "text/plain": [
       "'Среднее время между заказами: 14.862 дней'"
      ]
     },
     "metadata": {},
     "output_type": "display_data"
    },
    {
     "data": {
      "text/plain": [
       "'Стандартное отклонение: 24.203'"
      ]
     },
     "metadata": {},
     "output_type": "display_data"
    }
   ],
   "source": [
    "#выводим описательную статистику\n",
    "display(\"Мобильные пользователи:\")\n",
    "display(f\"Количество пользователей: {len(mobile_intervals)}\")\n",
    "display(f\"Среднее время между заказами: {mobile_intervals.mean():.3f} дней\")\n",
    "display(f\"Стандартное отклонение: {mobile_intervals.std():.3f}\")\n",
    "\n",
    "display(\"\\nПользователи стационарных устройств:\")\n",
    "display(f\"Количество пользователей: {len(desktop_intervals)}\")\n",
    "display(f\"Среднее время между заказами: {desktop_intervals.mean():.3f} дней\")\n",
    "display(f\"Стандартное отклонение: {desktop_intervals.std():.3f}\")"
   ]
  },
  {
   "cell_type": "markdown",
   "metadata": {},
   "source": [
    "#### Вывод:\n",
    " - Разница в средних: +5.76 дней в пользу мобильных пользователей.\n",
    " - Дисперсии различаются, но не критично.\n",
    " - Высокое стандартное отклонение говорит о скошенном распределении — большинство интервалов короткие, но есть длинные перерывы. "
   ]
  },
  {
   "cell_type": "markdown",
   "metadata": {},
   "source": [
    "Обоснование выбора статистического теста:\n",
    " - Выборки: независимы\n",
    " - Размер выборок: объём большой (n > 11 000)\n",
    " - Дисперсии: дисперсии различаются (27.36² vs 24.20²)\n",
    " - Тип теста: интересует превышение у мобильных  \n",
    " \n",
    " \n",
    " **Выбор: t-тест Уэлча (Welch’s t-test) для независимых выборок с неравными дисперсиями.**"
   ]
  },
  {
   "cell_type": "code",
   "execution_count": 47,
   "metadata": {
    "scrolled": true
   },
   "outputs": [
    {
     "data": {
      "text/plain": [
       "'t-статистика: 12.3241'"
      ]
     },
     "metadata": {},
     "output_type": "display_data"
    },
    {
     "data": {
      "text/plain": [
       "'p-value: 0.0000000000'"
      ]
     },
     "metadata": {},
     "output_type": "display_data"
    },
    {
     "data": {
      "text/plain": [
       "'Результат: Отклоняем нулевую гипотезу (H0).'"
      ]
     },
     "metadata": {},
     "output_type": "display_data"
    },
    {
     "data": {
      "text/plain": [
       "'Вывод: Среднее время между заказами у мобильных пользователей статистически значимо больше, чем у пользователей стационарных устройств.'"
      ]
     },
     "metadata": {},
     "output_type": "display_data"
    }
   ],
   "source": [
    "#проведём t-тест Уэлча (односторонний)\n",
    "alpha = 0.05 #уровень значимости\n",
    "power = 0.8 #вероятность что нужные мне изменнения найдутся\n",
    "beta = 1-power #вероятность пропустить нужные мне изменения\n",
    "p1 = 0.3 #конверсия группы теста `mobile_users`\n",
    "mde = 0.03 #процент изменений, который мы хотит увидеть\n",
    "p2 = p1 + mde #конверсия для целевой группы `desktop_users`\n",
    "\n",
    "#очистка данных\n",
    "mobile_clean = mobile_intervals.dropna()\n",
    "desktop_clean = desktop_intervals.dropna()\n",
    "\n",
    "#убедимся, что нет inf\n",
    "mobile_clean = mobile_clean[np.isfinite(mobile_clean)]\n",
    "desktop_clean = desktop_clean[np.isfinite(desktop_clean)]\n",
    "\n",
    "#рроведение t-теста Уэлча (односторонний)\n",
    "alpha = 0.05\n",
    "t_stat, p_val = ttest_ind(mobile_clean, desktop_clean, equal_var=False, alternative='greater')\n",
    "\n",
    "display(f\"t-статистика: {t_stat:.4f}\")\n",
    "display(f\"p-value: {p_val:.10f}\")\n",
    "\n",
    "if p_val < alpha:\n",
    "    display(\"Результат: Отклоняем нулевую гипотезу (H0).\")\n",
    "    display(\"Вывод: Среднее время между заказами у мобильных пользователей статистически значимо больше, чем у пользователей стационарных устройств.\")\n",
    "else:\n",
    "    display(\"Результат: Не отклоняем нулевую гипотезу (H0).\")\n",
    "    display(\"Вывод: Нет достаточных оснований утверждать, что время между заказами у мобильных пользователей больше.\")"
   ]
  },
  {
   "cell_type": "markdown",
   "metadata": {},
   "source": [
    "#### Вывод:\n",
    " - Мобильные пользователи возвращаются за новыми билетами реже, несмотря на то, что в целом они совершают больше заказов на пользователя (см. Гипотеза 1)."
   ]
  },
  {
   "cell_type": "markdown",
   "metadata": {},
   "source": [
    "## Общий вывод и рекомендации  \n",
    "\n",
    "**О данных**  \n",
    "В ходе анализа были использованы данные о 290 849 заказах на платформе Яндекс.Афиша за 2024 год, объединённые с информацией о 22 427 мероприятиях и курсе казахстанского тенге. Данные прошли тщательную предобработку: приведение типов, удаление выбросов (по 99-му перцентилю), конвертация выручки в рубли, расчёт метрик (средняя цена билета, время между заказами). Основной фокус — поведение пользователей осенью 2024 года (сентябрь–ноябрь)."
   ]
  },
  {
   "cell_type": "markdown",
   "metadata": {},
   "source": [
    "**Ключевые результаты анализа**  \n",
    "\n",
    "Сезонные изменения в предпочтениях:  \n",
    "- Осенью растёт доля выставок и стендапа, снижается — концертов и театра.\n",
    "- Популярность событий с возрастным рейтингом 0+ увеличивается.\n",
    "- Средняя цена билета снижается для большинства категорий (театр — на 17.8%, концерты — на 12%), но растёт у выставок (+4.8%) и стендапа (+5.8%).\n",
    "\n",
    "Пользовательская активность осенью:  \n",
    "- Активность растёт с сентября по ноябрь.\n",
    "- Будни — пик по количеству заказов и DAU.\n",
    "- Выходные — выше средний чек, но ниже объёмы.\n",
    "- Мобильные устройства доминируют (около 80% заказов).\n",
    "\n",
    "География и партнёры:  \n",
    "- Лидер по числу мероприятий и заказов — Каменевский регион (24.7% событий, 29.1% заказов).\n",
    "- Распределение активности среди партнёров крайне неравномерное: \"длинный хвост\" — большинство партнёров с низкой активностью, но есть ключевые игроки (например, партнёр №2121), обеспечивающие значительную долю выручки.\n",
    "\n",
    "Поведение пользователей по типу устройства:  \n",
    "- Мобильные пользователи делают в 4 раза больше заказов на пользователя, чем пользователи ПК (8.49 против 2.17).\n",
    "- Однако возвращаются реже — средний интервал между заказами: 20.6 дней (mobile) против 14.9 дней (desktop). Это указывает на эпизодическую, но интенсивную активность в мобильной среде."
   ]
  },
  {
   "cell_type": "markdown",
   "metadata": {},
   "source": [
    "**Результаты проверки гипотез**\n",
    "- Гипотеза 1 (количество заказов):  \n",
    "Подтверждена. Мобильные пользователи делают статистически значимо больше заказов.  \n",
    "- Гипотеза 2 (время между заказами):  \n",
    "Подтверждена. Мобильные пользователи реже возвращаются, несмотря на высокую суммарную активность.  \n"
   ]
  },
  {
   "cell_type": "markdown",
   "metadata": {},
   "source": [
    "**Рекомендации**\n",
    "Усиление мобильной стратегии:  \n",
    "- Инвестировать в UX и функционал мобильного приложения — оно является основным каналом продаж.\n",
    "- Запустить push-кампании через 14–20 дней после последнего заказа, чтобы сократить интервал возврата.\n",
    "\n",
    "Работа с ключевыми регионами и партнёрами:  \n",
    "- Укрепить сотрудничество с лидерами (Каменевский регион, партнёр №2121).\n",
    "- Разработать программы поддержки для малых и средних партнёров — стимулировать рост \"хвоста\".\n",
    "\n",
    "Оптимизация ценообразования и маркетинга:  \n",
    "- Использовать сезонные тренды: продвигать выставки и стендап осенью.\n",
    "- Вводить целевые скидки на театр и концерты для стимулирования спроса.\n",
    "- Активизировать маркетинг в будни, использовать выходные для продаж премиальных билетов.\n",
    "\n",
    "Дальнейшие исследования:  \n",
    "- Анализ причин высокой активности мобильных пользователей (реакция на уведомления, акции?).\n",
    "- Исследование поведения пользователей с >10 заказов — потенциальные амбассадоры бренда."
   ]
  },
  {
   "cell_type": "code",
   "execution_count": null,
   "metadata": {},
   "outputs": [],
   "source": []
  }
 ],
 "metadata": {
  "ExecuteTimeLog": [
   {
    "duration": 46,
    "start_time": "2025-07-28T12:01:05.777Z"
   },
   {
    "duration": 6,
    "start_time": "2025-07-28T12:01:18.537Z"
   },
   {
    "duration": 126,
    "start_time": "2025-07-28T12:01:25.737Z"
   },
   {
    "duration": 374,
    "start_time": "2025-07-28T12:01:38.329Z"
   },
   {
    "duration": 77,
    "start_time": "2025-07-28T12:03:07.802Z"
   },
   {
    "duration": 1415,
    "start_time": "2025-07-28T16:48:30.534Z"
   },
   {
    "duration": 3,
    "start_time": "2025-07-28T16:48:33.203Z"
   },
   {
    "duration": 5,
    "start_time": "2025-07-28T16:48:34.726Z"
   },
   {
    "duration": 12,
    "start_time": "2025-07-28T16:48:51.371Z"
   },
   {
    "duration": 2,
    "start_time": "2025-07-28T16:48:53.243Z"
   },
   {
    "duration": 4,
    "start_time": "2025-07-28T16:48:53.486Z"
   },
   {
    "duration": 86,
    "start_time": "2025-07-28T16:49:15.879Z"
   },
   {
    "duration": 38,
    "start_time": "2025-07-28T16:49:17.814Z"
   },
   {
    "duration": 1671,
    "start_time": "2025-07-28T16:51:19.314Z"
   },
   {
    "duration": 106,
    "start_time": "2025-07-28T16:53:04.549Z"
   },
   {
    "duration": 110,
    "start_time": "2025-07-28T16:53:22.101Z"
   },
   {
    "duration": 29,
    "start_time": "2025-07-28T16:53:38.774Z"
   },
   {
    "duration": 17,
    "start_time": "2025-07-28T16:53:40.785Z"
   },
   {
    "duration": 16,
    "start_time": "2025-07-28T16:58:03.356Z"
   },
   {
    "duration": 28,
    "start_time": "2025-07-28T16:58:05.341Z"
   },
   {
    "duration": 106,
    "start_time": "2025-07-28T16:58:06.975Z"
   },
   {
    "duration": 106,
    "start_time": "2025-07-28T17:08:46.577Z"
   },
   {
    "duration": 67,
    "start_time": "2025-07-28T17:09:08.644Z"
   },
   {
    "duration": 3,
    "start_time": "2025-07-28T17:21:10.803Z"
   },
   {
    "duration": 3,
    "start_time": "2025-07-28T17:21:11.129Z"
   },
   {
    "duration": 1608,
    "start_time": "2025-07-28T17:21:12.656Z"
   },
   {
    "duration": 1310,
    "start_time": "2025-07-30T05:45:10.271Z"
   },
   {
    "duration": 3,
    "start_time": "2025-07-30T05:45:11.583Z"
   },
   {
    "duration": 1743,
    "start_time": "2025-07-30T05:45:12.687Z"
   },
   {
    "duration": 113,
    "start_time": "2025-07-30T05:45:14.432Z"
   },
   {
    "duration": 28,
    "start_time": "2025-07-30T05:45:14.847Z"
   },
   {
    "duration": 15,
    "start_time": "2025-07-30T05:45:15.639Z"
   },
   {
    "duration": 98,
    "start_time": "2025-07-30T05:57:09.774Z"
   },
   {
    "duration": 171,
    "start_time": "2025-07-30T05:57:33.581Z"
   },
   {
    "duration": 84,
    "start_time": "2025-07-30T05:57:47.621Z"
   },
   {
    "duration": 138,
    "start_time": "2025-07-30T05:59:15.310Z"
   },
   {
    "duration": 3,
    "start_time": "2025-07-30T06:02:37.784Z"
   },
   {
    "duration": 112,
    "start_time": "2025-07-30T06:03:15.960Z"
   },
   {
    "duration": 102,
    "start_time": "2025-07-30T06:12:38.398Z"
   },
   {
    "duration": 44,
    "start_time": "2025-07-30T06:13:09.574Z"
   },
   {
    "duration": 52,
    "start_time": "2025-07-30T06:13:10.413Z"
   },
   {
    "duration": 60,
    "start_time": "2025-07-30T06:13:20.718Z"
   },
   {
    "duration": 57,
    "start_time": "2025-07-30T06:13:24.718Z"
   },
   {
    "duration": 265,
    "start_time": "2025-07-30T06:14:44.271Z"
   },
   {
    "duration": 255,
    "start_time": "2025-07-30T06:15:15.672Z"
   },
   {
    "duration": 216,
    "start_time": "2025-07-30T06:15:22.640Z"
   },
   {
    "duration": 274,
    "start_time": "2025-07-30T06:17:04.921Z"
   },
   {
    "duration": 268,
    "start_time": "2025-07-30T06:17:08.961Z"
   },
   {
    "duration": 269,
    "start_time": "2025-07-30T06:17:17.040Z"
   },
   {
    "duration": 228,
    "start_time": "2025-07-30T06:17:26.048Z"
   },
   {
    "duration": 261,
    "start_time": "2025-07-30T06:17:31.232Z"
   },
   {
    "duration": 329,
    "start_time": "2025-07-30T06:17:41.424Z"
   },
   {
    "duration": 483,
    "start_time": "2025-07-30T06:17:55.769Z"
   },
   {
    "duration": 484,
    "start_time": "2025-07-30T06:18:01.489Z"
   },
   {
    "duration": 471,
    "start_time": "2025-07-30T06:18:20.969Z"
   },
   {
    "duration": 677,
    "start_time": "2025-07-30T06:19:32.378Z"
   },
   {
    "duration": 611,
    "start_time": "2025-07-30T06:20:19.090Z"
   },
   {
    "duration": 752,
    "start_time": "2025-07-30T06:20:28.707Z"
   },
   {
    "duration": 608,
    "start_time": "2025-07-30T06:20:35.811Z"
   },
   {
    "duration": 629,
    "start_time": "2025-07-30T06:20:58.188Z"
   },
   {
    "duration": 125,
    "start_time": "2025-07-30T06:24:14.573Z"
   },
   {
    "duration": 148,
    "start_time": "2025-07-30T06:24:18.820Z"
   },
   {
    "duration": 70,
    "start_time": "2025-07-30T06:32:59.386Z"
   },
   {
    "duration": 120,
    "start_time": "2025-07-30T08:09:09.608Z"
   },
   {
    "duration": 603,
    "start_time": "2025-07-30T08:09:26.993Z"
   },
   {
    "duration": 92,
    "start_time": "2025-07-30T08:10:20.986Z"
   },
   {
    "duration": 85,
    "start_time": "2025-07-30T08:11:15.386Z"
   },
   {
    "duration": 69,
    "start_time": "2025-07-30T08:11:19.178Z"
   },
   {
    "duration": 69,
    "start_time": "2025-07-30T08:11:22.105Z"
   },
   {
    "duration": 69,
    "start_time": "2025-07-30T08:11:23.601Z"
   },
   {
    "duration": 569,
    "start_time": "2025-07-30T08:11:26.090Z"
   },
   {
    "duration": 66,
    "start_time": "2025-07-30T08:12:03.882Z"
   },
   {
    "duration": 162,
    "start_time": "2025-07-30T08:12:04.810Z"
   },
   {
    "duration": 64,
    "start_time": "2025-07-30T08:12:16.035Z"
   },
   {
    "duration": 584,
    "start_time": "2025-07-30T08:12:19.203Z"
   },
   {
    "duration": 89,
    "start_time": "2025-07-30T08:12:51.619Z"
   },
   {
    "duration": 201,
    "start_time": "2025-07-30T08:13:21.539Z"
   },
   {
    "duration": 75,
    "start_time": "2025-07-30T08:21:36.640Z"
   },
   {
    "duration": 82,
    "start_time": "2025-07-30T08:21:46.720Z"
   },
   {
    "duration": 198,
    "start_time": "2025-07-30T08:21:47.967Z"
   },
   {
    "duration": 47,
    "start_time": "2025-07-30T08:22:39.376Z"
   },
   {
    "duration": 79,
    "start_time": "2025-07-30T08:22:40.720Z"
   },
   {
    "duration": 47,
    "start_time": "2025-07-30T08:25:00.964Z"
   },
   {
    "duration": 1214,
    "start_time": "2025-07-30T08:25:07.782Z"
   },
   {
    "duration": 3,
    "start_time": "2025-07-30T08:25:08.998Z"
   },
   {
    "duration": 1877,
    "start_time": "2025-07-30T08:25:09.002Z"
   },
   {
    "duration": 118,
    "start_time": "2025-07-30T08:25:10.881Z"
   },
   {
    "duration": 43,
    "start_time": "2025-07-30T08:25:11.001Z"
   },
   {
    "duration": 21,
    "start_time": "2025-07-30T08:25:11.046Z"
   },
   {
    "duration": 183,
    "start_time": "2025-07-30T08:25:11.069Z"
   },
   {
    "duration": 134,
    "start_time": "2025-07-30T08:25:11.254Z"
   },
   {
    "duration": 76,
    "start_time": "2025-07-30T08:25:11.391Z"
   },
   {
    "duration": 45,
    "start_time": "2025-07-30T08:25:11.470Z"
   },
   {
    "duration": 664,
    "start_time": "2025-07-30T08:25:11.517Z"
   },
   {
    "duration": 60,
    "start_time": "2025-07-30T08:25:12.183Z"
   },
   {
    "duration": 118,
    "start_time": "2025-07-30T08:25:12.244Z"
   },
   {
    "duration": 634,
    "start_time": "2025-07-30T08:25:12.363Z"
   },
   {
    "duration": 248,
    "start_time": "2025-07-30T08:25:12.999Z"
   },
   {
    "duration": 117,
    "start_time": "2025-07-30T08:25:13.250Z"
   },
   {
    "duration": 67,
    "start_time": "2025-07-30T08:25:13.369Z"
   },
   {
    "duration": 17,
    "start_time": "2025-07-30T08:32:26.497Z"
   },
   {
    "duration": 29,
    "start_time": "2025-07-30T08:32:39.705Z"
   },
   {
    "duration": 15,
    "start_time": "2025-07-30T08:32:40.721Z"
   },
   {
    "duration": 5,
    "start_time": "2025-07-30T08:34:24.529Z"
   },
   {
    "duration": 5,
    "start_time": "2025-07-30T08:34:28.770Z"
   },
   {
    "duration": 7,
    "start_time": "2025-07-30T08:35:14.010Z"
   },
   {
    "duration": 8,
    "start_time": "2025-07-30T08:35:46.194Z"
   },
   {
    "duration": 23,
    "start_time": "2025-07-30T08:36:21.588Z"
   },
   {
    "duration": 29,
    "start_time": "2025-07-30T08:37:01.685Z"
   },
   {
    "duration": 7,
    "start_time": "2025-07-30T08:38:29.076Z"
   },
   {
    "duration": 1161,
    "start_time": "2025-07-30T08:44:27.799Z"
   },
   {
    "duration": 3,
    "start_time": "2025-07-30T08:44:28.962Z"
   },
   {
    "duration": 3529,
    "start_time": "2025-07-30T08:44:28.966Z"
   },
   {
    "duration": 132,
    "start_time": "2025-07-30T08:44:32.497Z"
   },
   {
    "duration": 28,
    "start_time": "2025-07-30T08:44:32.635Z"
   },
   {
    "duration": 37,
    "start_time": "2025-07-30T08:44:32.665Z"
   },
   {
    "duration": 280,
    "start_time": "2025-07-30T08:44:32.703Z"
   },
   {
    "duration": 118,
    "start_time": "2025-07-30T08:44:32.984Z"
   },
   {
    "duration": 133,
    "start_time": "2025-07-30T08:44:33.103Z"
   },
   {
    "duration": 48,
    "start_time": "2025-07-30T08:44:33.238Z"
   },
   {
    "duration": 56,
    "start_time": "2025-07-30T08:44:33.288Z"
   },
   {
    "duration": 644,
    "start_time": "2025-07-30T08:44:33.346Z"
   },
   {
    "duration": 56,
    "start_time": "2025-07-30T08:44:33.991Z"
   },
   {
    "duration": 372,
    "start_time": "2025-07-30T08:44:34.050Z"
   },
   {
    "duration": 599,
    "start_time": "2025-07-30T08:44:34.424Z"
   },
   {
    "duration": 469,
    "start_time": "2025-07-30T08:44:35.026Z"
   },
   {
    "duration": 94,
    "start_time": "2025-07-30T08:44:35.497Z"
   },
   {
    "duration": 94,
    "start_time": "2025-07-30T08:44:35.593Z"
   },
   {
    "duration": 31,
    "start_time": "2025-07-30T08:44:35.689Z"
   },
   {
    "duration": 35,
    "start_time": "2025-07-30T08:44:35.722Z"
   },
   {
    "duration": 35,
    "start_time": "2025-07-30T08:44:35.759Z"
   },
   {
    "duration": 30,
    "start_time": "2025-07-30T08:44:35.795Z"
   },
   {
    "duration": 27,
    "start_time": "2025-07-30T08:45:28.824Z"
   },
   {
    "duration": 26,
    "start_time": "2025-07-30T08:46:25.437Z"
   },
   {
    "duration": 113,
    "start_time": "2025-07-30T08:47:02.329Z"
   },
   {
    "duration": 74,
    "start_time": "2025-07-30T08:47:22.818Z"
   },
   {
    "duration": 26,
    "start_time": "2025-07-30T08:47:51.586Z"
   },
   {
    "duration": 74,
    "start_time": "2025-07-30T08:47:51.899Z"
   },
   {
    "duration": 24,
    "start_time": "2025-07-30T08:48:37.330Z"
   },
   {
    "duration": 196,
    "start_time": "2025-07-30T08:49:31.203Z"
   },
   {
    "duration": 3,
    "start_time": "2025-07-30T08:51:45.309Z"
   },
   {
    "duration": 162,
    "start_time": "2025-07-30T08:52:17.093Z"
   },
   {
    "duration": 194,
    "start_time": "2025-07-30T08:52:21.341Z"
   },
   {
    "duration": 183,
    "start_time": "2025-07-30T08:52:52.933Z"
   },
   {
    "duration": 196,
    "start_time": "2025-07-30T08:54:27.438Z"
   },
   {
    "duration": 193,
    "start_time": "2025-07-30T08:54:30.783Z"
   },
   {
    "duration": 179,
    "start_time": "2025-07-30T08:55:00.311Z"
   },
   {
    "duration": 194,
    "start_time": "2025-07-30T08:55:11.887Z"
   },
   {
    "duration": 328,
    "start_time": "2025-07-30T09:02:15.444Z"
   },
   {
    "duration": 304,
    "start_time": "2025-07-30T09:03:31.148Z"
   },
   {
    "duration": 134,
    "start_time": "2025-07-30T09:03:50.852Z"
   },
   {
    "duration": 217,
    "start_time": "2025-07-30T09:05:41.015Z"
   },
   {
    "duration": 133,
    "start_time": "2025-07-30T09:05:42.398Z"
   },
   {
    "duration": 542,
    "start_time": "2025-07-30T09:06:57.558Z"
   },
   {
    "duration": 1180,
    "start_time": "2025-07-30T09:07:41.167Z"
   },
   {
    "duration": 3,
    "start_time": "2025-07-30T09:07:42.349Z"
   },
   {
    "duration": 3274,
    "start_time": "2025-07-30T09:07:42.353Z"
   },
   {
    "duration": 115,
    "start_time": "2025-07-30T09:07:45.628Z"
   },
   {
    "duration": 26,
    "start_time": "2025-07-30T09:07:45.745Z"
   },
   {
    "duration": 90,
    "start_time": "2025-07-30T09:07:45.773Z"
   },
   {
    "duration": 294,
    "start_time": "2025-07-30T09:07:45.865Z"
   },
   {
    "duration": 107,
    "start_time": "2025-07-30T09:07:46.161Z"
   },
   {
    "duration": 130,
    "start_time": "2025-07-30T09:07:46.270Z"
   },
   {
    "duration": 65,
    "start_time": "2025-07-30T09:07:46.402Z"
   },
   {
    "duration": 44,
    "start_time": "2025-07-30T09:07:46.468Z"
   },
   {
    "duration": 649,
    "start_time": "2025-07-30T09:07:46.513Z"
   },
   {
    "duration": 49,
    "start_time": "2025-07-30T09:07:47.164Z"
   },
   {
    "duration": 299,
    "start_time": "2025-07-30T09:07:47.216Z"
   },
   {
    "duration": 663,
    "start_time": "2025-07-30T09:07:47.517Z"
   },
   {
    "duration": 454,
    "start_time": "2025-07-30T09:07:48.182Z"
   },
   {
    "duration": 108,
    "start_time": "2025-07-30T09:07:48.638Z"
   },
   {
    "duration": 125,
    "start_time": "2025-07-30T09:07:48.748Z"
   },
   {
    "duration": 106,
    "start_time": "2025-07-30T09:07:48.875Z"
   },
   {
    "duration": 131,
    "start_time": "2025-07-30T09:07:48.984Z"
   },
   {
    "duration": 7,
    "start_time": "2025-07-30T09:07:49.117Z"
   },
   {
    "duration": 10,
    "start_time": "2025-07-30T09:07:49.126Z"
   },
   {
    "duration": 32,
    "start_time": "2025-07-30T09:07:49.139Z"
   },
   {
    "duration": 29,
    "start_time": "2025-07-30T09:07:49.173Z"
   },
   {
    "duration": 100,
    "start_time": "2025-07-30T09:07:49.204Z"
   },
   {
    "duration": 199,
    "start_time": "2025-07-30T09:07:49.306Z"
   },
   {
    "duration": 503,
    "start_time": "2025-07-30T09:07:49.508Z"
   },
   {
    "duration": 141,
    "start_time": "2025-07-30T09:07:50.012Z"
   },
   {
    "duration": 537,
    "start_time": "2025-07-30T09:07:50.155Z"
   },
   {
    "duration": 196,
    "start_time": "2025-07-30T09:08:43.656Z"
   },
   {
    "duration": 131,
    "start_time": "2025-07-30T09:08:44.568Z"
   },
   {
    "duration": 1208,
    "start_time": "2025-07-30T09:09:34.950Z"
   },
   {
    "duration": 3,
    "start_time": "2025-07-30T09:09:36.160Z"
   },
   {
    "duration": 3474,
    "start_time": "2025-07-30T09:09:36.164Z"
   },
   {
    "duration": 118,
    "start_time": "2025-07-30T09:09:39.640Z"
   },
   {
    "duration": 27,
    "start_time": "2025-07-30T09:09:39.760Z"
   },
   {
    "duration": 16,
    "start_time": "2025-07-30T09:09:39.789Z"
   },
   {
    "duration": 296,
    "start_time": "2025-07-30T09:09:39.807Z"
   },
   {
    "duration": 113,
    "start_time": "2025-07-30T09:09:40.104Z"
   },
   {
    "duration": 131,
    "start_time": "2025-07-30T09:09:40.219Z"
   },
   {
    "duration": 48,
    "start_time": "2025-07-30T09:09:40.352Z"
   },
   {
    "duration": 60,
    "start_time": "2025-07-30T09:09:40.402Z"
   },
   {
    "duration": 603,
    "start_time": "2025-07-30T09:09:40.463Z"
   },
   {
    "duration": 47,
    "start_time": "2025-07-30T09:09:41.069Z"
   },
   {
    "duration": 296,
    "start_time": "2025-07-30T09:09:41.134Z"
   },
   {
    "duration": 642,
    "start_time": "2025-07-30T09:09:41.435Z"
   },
   {
    "duration": 438,
    "start_time": "2025-07-30T09:09:42.078Z"
   },
   {
    "duration": 98,
    "start_time": "2025-07-30T09:09:42.518Z"
   },
   {
    "duration": 96,
    "start_time": "2025-07-30T09:09:42.617Z"
   },
   {
    "duration": 41,
    "start_time": "2025-07-30T09:09:42.715Z"
   },
   {
    "duration": 27,
    "start_time": "2025-07-30T09:09:42.758Z"
   },
   {
    "duration": 137,
    "start_time": "2025-07-30T09:09:42.786Z"
   },
   {
    "duration": 165,
    "start_time": "2025-07-30T09:09:42.925Z"
   },
   {
    "duration": 26,
    "start_time": "2025-07-30T09:09:43.092Z"
   },
   {
    "duration": 35,
    "start_time": "2025-07-30T09:09:43.119Z"
   },
   {
    "duration": 72,
    "start_time": "2025-07-30T09:09:43.155Z"
   },
   {
    "duration": 215,
    "start_time": "2025-07-30T09:09:43.228Z"
   },
   {
    "duration": 596,
    "start_time": "2025-07-30T09:09:43.445Z"
   },
   {
    "duration": 141,
    "start_time": "2025-07-30T09:09:44.043Z"
   },
   {
    "duration": 544,
    "start_time": "2025-07-30T09:09:44.185Z"
   },
   {
    "duration": 598,
    "start_time": "2025-07-30T10:53:07.805Z"
   },
   {
    "duration": 8,
    "start_time": "2025-07-30T10:56:42.286Z"
   },
   {
    "duration": 371,
    "start_time": "2025-07-30T10:57:48.999Z"
   },
   {
    "duration": 350,
    "start_time": "2025-07-30T10:58:03.559Z"
   },
   {
    "duration": 87,
    "start_time": "2025-07-30T10:59:20.424Z"
   },
   {
    "duration": 978,
    "start_time": "2025-07-30T10:59:46.824Z"
   },
   {
    "duration": 508,
    "start_time": "2025-07-30T11:00:40.009Z"
   },
   {
    "duration": 843,
    "start_time": "2025-07-30T11:03:23.531Z"
   },
   {
    "duration": 825,
    "start_time": "2025-07-30T11:03:32.714Z"
   },
   {
    "duration": 399,
    "start_time": "2025-07-30T11:03:43.387Z"
   },
   {
    "duration": 414,
    "start_time": "2025-07-30T11:03:55.275Z"
   },
   {
    "duration": 395,
    "start_time": "2025-07-30T11:04:04.915Z"
   },
   {
    "duration": 407,
    "start_time": "2025-07-30T11:05:40.179Z"
   },
   {
    "duration": 106,
    "start_time": "2025-07-30T11:10:04.310Z"
   },
   {
    "duration": 40,
    "start_time": "2025-07-30T11:10:56.646Z"
   },
   {
    "duration": 1878,
    "start_time": "2025-07-30T11:11:18.455Z"
   },
   {
    "duration": 880,
    "start_time": "2025-07-30T11:11:31.679Z"
   },
   {
    "duration": 1520,
    "start_time": "2025-07-30T11:13:16.920Z"
   },
   {
    "duration": 27,
    "start_time": "2025-07-30T11:13:58.208Z"
   },
   {
    "duration": 461,
    "start_time": "2025-07-30T11:14:18.593Z"
   },
   {
    "duration": 14,
    "start_time": "2025-07-30T12:00:17.652Z"
   },
   {
    "duration": 69,
    "start_time": "2025-07-30T12:01:01.701Z"
   },
   {
    "duration": 16,
    "start_time": "2025-07-30T12:02:05.918Z"
   },
   {
    "duration": 65,
    "start_time": "2025-07-30T12:02:59.638Z"
   },
   {
    "duration": 68,
    "start_time": "2025-07-30T12:04:27.817Z"
   },
   {
    "duration": 3946,
    "start_time": "2025-07-30T12:18:46.373Z"
   },
   {
    "duration": 9,
    "start_time": "2025-07-30T12:22:27.056Z"
   },
   {
    "duration": 3904,
    "start_time": "2025-07-30T12:22:30.463Z"
   },
   {
    "duration": 8,
    "start_time": "2025-07-30T12:22:34.369Z"
   },
   {
    "duration": 49,
    "start_time": "2025-08-01T18:28:07.318Z"
   },
   {
    "duration": 1489,
    "start_time": "2025-08-01T18:29:53.912Z"
   },
   {
    "duration": 2,
    "start_time": "2025-08-01T18:29:55.404Z"
   },
   {
    "duration": 1845,
    "start_time": "2025-08-01T18:29:55.408Z"
   },
   {
    "duration": 112,
    "start_time": "2025-08-01T18:29:57.254Z"
   },
   {
    "duration": 28,
    "start_time": "2025-08-01T18:29:57.369Z"
   },
   {
    "duration": 33,
    "start_time": "2025-08-01T18:29:57.399Z"
   },
   {
    "duration": 349,
    "start_time": "2025-08-01T18:29:57.434Z"
   },
   {
    "duration": 114,
    "start_time": "2025-08-01T18:29:57.785Z"
   },
   {
    "duration": 124,
    "start_time": "2025-08-01T18:29:57.901Z"
   },
   {
    "duration": 59,
    "start_time": "2025-08-01T18:29:58.027Z"
   },
   {
    "duration": 104,
    "start_time": "2025-08-01T18:29:58.088Z"
   },
   {
    "duration": 0,
    "start_time": "2025-08-01T18:29:58.194Z"
   },
   {
    "duration": 0,
    "start_time": "2025-08-01T18:29:58.195Z"
   },
   {
    "duration": 0,
    "start_time": "2025-08-01T18:29:58.196Z"
   },
   {
    "duration": 0,
    "start_time": "2025-08-01T18:29:58.198Z"
   },
   {
    "duration": 0,
    "start_time": "2025-08-01T18:29:58.199Z"
   },
   {
    "duration": 0,
    "start_time": "2025-08-01T18:29:58.200Z"
   },
   {
    "duration": 0,
    "start_time": "2025-08-01T18:29:58.201Z"
   },
   {
    "duration": 0,
    "start_time": "2025-08-01T18:29:58.202Z"
   },
   {
    "duration": 0,
    "start_time": "2025-08-01T18:29:58.203Z"
   },
   {
    "duration": 0,
    "start_time": "2025-08-01T18:29:58.204Z"
   },
   {
    "duration": 0,
    "start_time": "2025-08-01T18:29:58.205Z"
   },
   {
    "duration": 0,
    "start_time": "2025-08-01T18:29:58.206Z"
   },
   {
    "duration": 0,
    "start_time": "2025-08-01T18:29:58.207Z"
   },
   {
    "duration": 0,
    "start_time": "2025-08-01T18:29:58.208Z"
   },
   {
    "duration": 0,
    "start_time": "2025-08-01T18:29:58.209Z"
   },
   {
    "duration": 0,
    "start_time": "2025-08-01T18:29:58.210Z"
   },
   {
    "duration": 0,
    "start_time": "2025-08-01T18:29:58.211Z"
   },
   {
    "duration": 0,
    "start_time": "2025-08-01T18:29:58.212Z"
   },
   {
    "duration": 0,
    "start_time": "2025-08-01T18:29:58.213Z"
   },
   {
    "duration": 0,
    "start_time": "2025-08-01T18:29:58.214Z"
   },
   {
    "duration": 0,
    "start_time": "2025-08-01T18:29:58.215Z"
   },
   {
    "duration": 0,
    "start_time": "2025-08-01T18:29:58.216Z"
   },
   {
    "duration": 0,
    "start_time": "2025-08-01T18:29:58.217Z"
   },
   {
    "duration": 0,
    "start_time": "2025-08-01T18:29:58.218Z"
   },
   {
    "duration": 0,
    "start_time": "2025-08-01T18:29:58.219Z"
   },
   {
    "duration": 0,
    "start_time": "2025-08-01T18:29:58.220Z"
   },
   {
    "duration": 0,
    "start_time": "2025-08-01T18:29:58.272Z"
   },
   {
    "duration": 0,
    "start_time": "2025-08-01T18:29:58.273Z"
   },
   {
    "duration": 0,
    "start_time": "2025-08-01T18:29:58.274Z"
   },
   {
    "duration": 0,
    "start_time": "2025-08-01T18:29:58.275Z"
   },
   {
    "duration": 648,
    "start_time": "2025-08-01T18:31:33.406Z"
   },
   {
    "duration": 12,
    "start_time": "2025-08-01T18:32:05.930Z"
   },
   {
    "duration": 82,
    "start_time": "2025-08-01T18:32:46.650Z"
   },
   {
    "duration": 12,
    "start_time": "2025-08-01T18:33:08.129Z"
   },
   {
    "duration": 489,
    "start_time": "2025-08-01T18:33:14.727Z"
   },
   {
    "duration": 456,
    "start_time": "2025-08-01T18:33:47.309Z"
   },
   {
    "duration": 455,
    "start_time": "2025-08-01T18:33:50.928Z"
   },
   {
    "duration": 257,
    "start_time": "2025-08-01T18:34:05.124Z"
   },
   {
    "duration": 542,
    "start_time": "2025-08-01T18:34:14.337Z"
   },
   {
    "duration": 76,
    "start_time": "2025-08-01T18:34:59.444Z"
   },
   {
    "duration": 535,
    "start_time": "2025-08-01T18:35:06.217Z"
   },
   {
    "duration": 562,
    "start_time": "2025-08-01T18:35:36.062Z"
   },
   {
    "duration": 431,
    "start_time": "2025-08-01T18:36:57.977Z"
   },
   {
    "duration": 13,
    "start_time": "2025-08-01T18:37:26.550Z"
   },
   {
    "duration": 12,
    "start_time": "2025-08-01T18:37:54.286Z"
   },
   {
    "duration": 47,
    "start_time": "2025-08-01T18:37:58.858Z"
   },
   {
    "duration": 274,
    "start_time": "2025-08-01T18:37:59.197Z"
   },
   {
    "duration": 461,
    "start_time": "2025-08-01T18:38:03.234Z"
   },
   {
    "duration": 417,
    "start_time": "2025-08-01T18:39:51.268Z"
   },
   {
    "duration": 523,
    "start_time": "2025-08-01T18:40:49.609Z"
   },
   {
    "duration": 115,
    "start_time": "2025-08-01T18:40:52.579Z"
   },
   {
    "duration": 14,
    "start_time": "2025-08-01T18:43:39.394Z"
   },
   {
    "duration": 1542,
    "start_time": "2025-08-01T18:43:39.939Z"
   },
   {
    "duration": 1600,
    "start_time": "2025-08-01T18:45:40.537Z"
   },
   {
    "duration": 1556,
    "start_time": "2025-08-01T18:45:55.607Z"
   },
   {
    "duration": 0,
    "start_time": "2025-08-01T18:45:57.165Z"
   },
   {
    "duration": 0,
    "start_time": "2025-08-01T18:45:57.166Z"
   },
   {
    "duration": 109,
    "start_time": "2025-08-01T18:45:58.220Z"
   },
   {
    "duration": 10,
    "start_time": "2025-08-01T18:50:39.959Z"
   },
   {
    "duration": 3,
    "start_time": "2025-08-01T18:57:59.496Z"
   },
   {
    "duration": 3,
    "start_time": "2025-08-01T18:59:09.440Z"
   },
   {
    "duration": 2,
    "start_time": "2025-08-01T18:59:11.258Z"
   },
   {
    "duration": 1163,
    "start_time": "2025-08-01T19:03:37.329Z"
   },
   {
    "duration": 3,
    "start_time": "2025-08-01T19:03:38.494Z"
   },
   {
    "duration": 2054,
    "start_time": "2025-08-01T19:03:38.498Z"
   },
   {
    "duration": 114,
    "start_time": "2025-08-01T19:03:40.554Z"
   },
   {
    "duration": 27,
    "start_time": "2025-08-01T19:03:40.670Z"
   },
   {
    "duration": 16,
    "start_time": "2025-08-01T19:03:40.699Z"
   },
   {
    "duration": 291,
    "start_time": "2025-08-01T19:03:40.716Z"
   },
   {
    "duration": 110,
    "start_time": "2025-08-01T19:03:41.008Z"
   },
   {
    "duration": 123,
    "start_time": "2025-08-01T19:03:41.120Z"
   },
   {
    "duration": 61,
    "start_time": "2025-08-01T19:03:41.245Z"
   },
   {
    "duration": 48,
    "start_time": "2025-08-01T19:03:41.308Z"
   },
   {
    "duration": 631,
    "start_time": "2025-08-01T19:03:41.358Z"
   },
   {
    "duration": 47,
    "start_time": "2025-08-01T19:03:41.990Z"
   },
   {
    "duration": 308,
    "start_time": "2025-08-01T19:03:42.040Z"
   },
   {
    "duration": 579,
    "start_time": "2025-08-01T19:03:42.350Z"
   },
   {
    "duration": 442,
    "start_time": "2025-08-01T19:03:42.931Z"
   },
   {
    "duration": 98,
    "start_time": "2025-08-01T19:03:43.375Z"
   },
   {
    "duration": 83,
    "start_time": "2025-08-01T19:03:43.475Z"
   },
   {
    "duration": 30,
    "start_time": "2025-08-01T19:03:43.570Z"
   },
   {
    "duration": 53,
    "start_time": "2025-08-01T19:03:43.601Z"
   },
   {
    "duration": 22,
    "start_time": "2025-08-01T19:03:43.656Z"
   },
   {
    "duration": 14,
    "start_time": "2025-08-01T19:03:43.680Z"
   },
   {
    "duration": 25,
    "start_time": "2025-08-01T19:03:43.696Z"
   },
   {
    "duration": 25,
    "start_time": "2025-08-01T19:03:43.723Z"
   },
   {
    "duration": 85,
    "start_time": "2025-08-01T19:03:43.749Z"
   },
   {
    "duration": 207,
    "start_time": "2025-08-01T19:03:43.836Z"
   },
   {
    "duration": 548,
    "start_time": "2025-08-01T19:03:44.044Z"
   },
   {
    "duration": 140,
    "start_time": "2025-08-01T19:03:44.593Z"
   },
   {
    "duration": 549,
    "start_time": "2025-08-01T19:03:44.735Z"
   },
   {
    "duration": 324,
    "start_time": "2025-08-01T19:03:45.286Z"
   },
   {
    "duration": 105,
    "start_time": "2025-08-01T19:03:45.612Z"
   },
   {
    "duration": 894,
    "start_time": "2025-08-01T19:03:45.719Z"
   },
   {
    "duration": 420,
    "start_time": "2025-08-01T19:03:46.615Z"
   },
   {
    "duration": 44,
    "start_time": "2025-08-01T19:03:47.037Z"
   },
   {
    "duration": 32,
    "start_time": "2025-08-01T19:03:47.083Z"
   },
   {
    "duration": 935,
    "start_time": "2025-08-01T19:03:47.117Z"
   },
   {
    "duration": 27,
    "start_time": "2025-08-01T19:03:48.054Z"
   },
   {
    "duration": 514,
    "start_time": "2025-08-01T19:03:48.083Z"
   },
   {
    "duration": 50,
    "start_time": "2025-08-01T19:03:48.599Z"
   },
   {
    "duration": 68,
    "start_time": "2025-08-01T19:03:48.651Z"
   },
   {
    "duration": 2,
    "start_time": "2025-08-01T19:03:48.723Z"
   },
   {
    "duration": 1266,
    "start_time": "2025-08-01T19:06:01.736Z"
   },
   {
    "duration": 3,
    "start_time": "2025-08-01T19:06:03.004Z"
   },
   {
    "duration": 1853,
    "start_time": "2025-08-01T19:06:03.009Z"
   },
   {
    "duration": 113,
    "start_time": "2025-08-01T19:06:04.864Z"
   },
   {
    "duration": 27,
    "start_time": "2025-08-01T19:06:04.979Z"
   },
   {
    "duration": 16,
    "start_time": "2025-08-01T19:06:05.007Z"
   },
   {
    "duration": 294,
    "start_time": "2025-08-01T19:06:05.025Z"
   },
   {
    "duration": 109,
    "start_time": "2025-08-01T19:06:05.321Z"
   },
   {
    "duration": 121,
    "start_time": "2025-08-01T19:06:05.432Z"
   },
   {
    "duration": 59,
    "start_time": "2025-08-01T19:06:05.554Z"
   },
   {
    "duration": 93,
    "start_time": "2025-08-01T19:06:05.615Z"
   },
   {
    "duration": 613,
    "start_time": "2025-08-01T19:06:05.710Z"
   },
   {
    "duration": 55,
    "start_time": "2025-08-01T19:06:06.325Z"
   },
   {
    "duration": 282,
    "start_time": "2025-08-01T19:06:06.383Z"
   },
   {
    "duration": 648,
    "start_time": "2025-08-01T19:06:06.671Z"
   },
   {
    "duration": 452,
    "start_time": "2025-08-01T19:06:07.321Z"
   },
   {
    "duration": 98,
    "start_time": "2025-08-01T19:06:07.775Z"
   },
   {
    "duration": 84,
    "start_time": "2025-08-01T19:06:07.875Z"
   },
   {
    "duration": 39,
    "start_time": "2025-08-01T19:06:07.961Z"
   },
   {
    "duration": 104,
    "start_time": "2025-08-01T19:06:08.002Z"
   },
   {
    "duration": 5,
    "start_time": "2025-08-01T19:06:08.108Z"
   },
   {
    "duration": 18,
    "start_time": "2025-08-01T19:06:08.114Z"
   },
   {
    "duration": 42,
    "start_time": "2025-08-01T19:06:08.134Z"
   },
   {
    "duration": 26,
    "start_time": "2025-08-01T19:06:08.177Z"
   },
   {
    "duration": 88,
    "start_time": "2025-08-01T19:06:08.204Z"
   },
   {
    "duration": 207,
    "start_time": "2025-08-01T19:06:08.293Z"
   },
   {
    "duration": 560,
    "start_time": "2025-08-01T19:06:08.501Z"
   },
   {
    "duration": 141,
    "start_time": "2025-08-01T19:06:09.063Z"
   },
   {
    "duration": 569,
    "start_time": "2025-08-01T19:06:09.205Z"
   },
   {
    "duration": 307,
    "start_time": "2025-08-01T19:06:09.776Z"
   },
   {
    "duration": 100,
    "start_time": "2025-08-01T19:06:10.086Z"
   },
   {
    "duration": 851,
    "start_time": "2025-08-01T19:06:10.188Z"
   },
   {
    "duration": 397,
    "start_time": "2025-08-01T19:06:11.041Z"
   },
   {
    "duration": 44,
    "start_time": "2025-08-01T19:06:11.440Z"
   },
   {
    "duration": 30,
    "start_time": "2025-08-01T19:06:11.485Z"
   },
   {
    "duration": 984,
    "start_time": "2025-08-01T19:06:11.516Z"
   },
   {
    "duration": 28,
    "start_time": "2025-08-01T19:06:12.502Z"
   },
   {
    "duration": 575,
    "start_time": "2025-08-01T19:06:12.532Z"
   },
   {
    "duration": 61,
    "start_time": "2025-08-01T19:06:13.110Z"
   },
   {
    "duration": 53,
    "start_time": "2025-08-01T19:06:13.173Z"
   },
   {
    "duration": 2,
    "start_time": "2025-08-01T19:06:13.230Z"
   },
   {
    "duration": 1207,
    "start_time": "2025-08-01T19:10:11.991Z"
   },
   {
    "duration": 2,
    "start_time": "2025-08-01T19:10:13.200Z"
   },
   {
    "duration": 1882,
    "start_time": "2025-08-01T19:10:13.204Z"
   },
   {
    "duration": 112,
    "start_time": "2025-08-01T19:10:15.088Z"
   },
   {
    "duration": 27,
    "start_time": "2025-08-01T19:10:15.202Z"
   },
   {
    "duration": 16,
    "start_time": "2025-08-01T19:10:15.231Z"
   },
   {
    "duration": 295,
    "start_time": "2025-08-01T19:10:15.249Z"
   },
   {
    "duration": 113,
    "start_time": "2025-08-01T19:10:15.546Z"
   },
   {
    "duration": 123,
    "start_time": "2025-08-01T19:10:15.661Z"
   },
   {
    "duration": 49,
    "start_time": "2025-08-01T19:10:15.786Z"
   },
   {
    "duration": 61,
    "start_time": "2025-08-01T19:10:15.836Z"
   },
   {
    "duration": 629,
    "start_time": "2025-08-01T19:10:15.899Z"
   },
   {
    "duration": 56,
    "start_time": "2025-08-01T19:10:16.529Z"
   },
   {
    "duration": 356,
    "start_time": "2025-08-01T19:10:16.588Z"
   },
   {
    "duration": 632,
    "start_time": "2025-08-01T19:10:16.946Z"
   },
   {
    "duration": 439,
    "start_time": "2025-08-01T19:10:17.580Z"
   },
   {
    "duration": 97,
    "start_time": "2025-08-01T19:10:18.021Z"
   },
   {
    "duration": 94,
    "start_time": "2025-08-01T19:10:18.120Z"
   },
   {
    "duration": 31,
    "start_time": "2025-08-01T19:10:18.215Z"
   },
   {
    "duration": 40,
    "start_time": "2025-08-01T19:10:18.248Z"
   },
   {
    "duration": 5,
    "start_time": "2025-08-01T19:10:18.290Z"
   },
   {
    "duration": 9,
    "start_time": "2025-08-01T19:10:18.297Z"
   },
   {
    "duration": 26,
    "start_time": "2025-08-01T19:10:18.308Z"
   },
   {
    "duration": 61,
    "start_time": "2025-08-01T19:10:18.336Z"
   },
   {
    "duration": 84,
    "start_time": "2025-08-01T19:10:18.399Z"
   },
   {
    "duration": 212,
    "start_time": "2025-08-01T19:10:18.485Z"
   },
   {
    "duration": 596,
    "start_time": "2025-08-01T19:10:18.699Z"
   },
   {
    "duration": 135,
    "start_time": "2025-08-01T19:10:19.297Z"
   },
   {
    "duration": 554,
    "start_time": "2025-08-01T19:10:19.434Z"
   },
   {
    "duration": 332,
    "start_time": "2025-08-01T19:10:19.990Z"
   },
   {
    "duration": 98,
    "start_time": "2025-08-01T19:10:20.324Z"
   },
   {
    "duration": 883,
    "start_time": "2025-08-01T19:10:20.423Z"
   },
   {
    "duration": 420,
    "start_time": "2025-08-01T19:10:21.308Z"
   },
   {
    "duration": 43,
    "start_time": "2025-08-01T19:10:21.729Z"
   },
   {
    "duration": 32,
    "start_time": "2025-08-01T19:10:21.774Z"
   },
   {
    "duration": 925,
    "start_time": "2025-08-01T19:10:21.807Z"
   },
   {
    "duration": 28,
    "start_time": "2025-08-01T19:10:22.734Z"
   },
   {
    "duration": 529,
    "start_time": "2025-08-01T19:10:22.764Z"
   },
   {
    "duration": 48,
    "start_time": "2025-08-01T19:10:23.295Z"
   },
   {
    "duration": 63,
    "start_time": "2025-08-01T19:10:23.345Z"
   },
   {
    "duration": 2,
    "start_time": "2025-08-01T19:10:23.412Z"
   },
   {
    "duration": 202,
    "start_time": "2025-08-01T19:22:14.939Z"
   },
   {
    "duration": 12,
    "start_time": "2025-08-01T19:22:49.379Z"
   },
   {
    "duration": 3,
    "start_time": "2025-08-01T19:31:17.814Z"
   },
   {
    "duration": 10,
    "start_time": "2025-08-01T19:32:21.455Z"
   },
   {
    "duration": 131,
    "start_time": "2025-08-01T19:41:32.962Z"
   },
   {
    "duration": 132,
    "start_time": "2025-08-01T19:41:57.723Z"
   },
   {
    "duration": 8,
    "start_time": "2025-08-01T19:42:09.028Z"
   },
   {
    "duration": 17,
    "start_time": "2025-08-01T19:42:30.086Z"
   },
   {
    "duration": 9,
    "start_time": "2025-08-01T19:47:25.934Z"
   },
   {
    "duration": 13,
    "start_time": "2025-08-01T19:48:27.120Z"
   },
   {
    "duration": 214,
    "start_time": "2025-08-01T19:48:28.275Z"
   },
   {
    "duration": 16,
    "start_time": "2025-08-01T19:48:28.645Z"
   },
   {
    "duration": 140,
    "start_time": "2025-08-01T19:48:31.736Z"
   },
   {
    "duration": 15,
    "start_time": "2025-08-01T19:48:32.120Z"
   },
   {
    "duration": 9,
    "start_time": "2025-08-01T19:48:34.355Z"
   },
   {
    "duration": 9,
    "start_time": "2025-08-01T19:48:52.396Z"
   },
   {
    "duration": 9,
    "start_time": "2025-08-01T19:49:06.344Z"
   },
   {
    "duration": 10,
    "start_time": "2025-08-01T19:49:13.772Z"
   },
   {
    "duration": 8,
    "start_time": "2025-08-01T19:49:35.988Z"
   },
   {
    "duration": 9,
    "start_time": "2025-08-01T19:49:38.323Z"
   },
   {
    "duration": 9,
    "start_time": "2025-08-01T19:50:05.798Z"
   },
   {
    "duration": 1194,
    "start_time": "2025-08-01T19:50:36.698Z"
   },
   {
    "duration": 3,
    "start_time": "2025-08-01T19:50:37.894Z"
   },
   {
    "duration": 1576,
    "start_time": "2025-08-01T19:50:37.898Z"
   },
   {
    "duration": 142,
    "start_time": "2025-08-01T19:50:39.475Z"
   },
   {
    "duration": 34,
    "start_time": "2025-08-01T19:50:39.670Z"
   },
   {
    "duration": 67,
    "start_time": "2025-08-01T19:50:39.705Z"
   },
   {
    "duration": 516,
    "start_time": "2025-08-01T19:50:39.774Z"
   },
   {
    "duration": 212,
    "start_time": "2025-08-01T19:50:40.292Z"
   },
   {
    "duration": 211,
    "start_time": "2025-08-01T19:50:40.506Z"
   },
   {
    "duration": 96,
    "start_time": "2025-08-01T19:50:40.718Z"
   },
   {
    "duration": 113,
    "start_time": "2025-08-01T19:50:40.872Z"
   },
   {
    "duration": 612,
    "start_time": "2025-08-01T19:50:40.986Z"
   },
   {
    "duration": 47,
    "start_time": "2025-08-01T19:50:41.600Z"
   },
   {
    "duration": 295,
    "start_time": "2025-08-01T19:50:41.649Z"
   },
   {
    "duration": 629,
    "start_time": "2025-08-01T19:50:41.945Z"
   },
   {
    "duration": 447,
    "start_time": "2025-08-01T19:50:42.575Z"
   },
   {
    "duration": 97,
    "start_time": "2025-08-01T19:50:43.024Z"
   },
   {
    "duration": 128,
    "start_time": "2025-08-01T19:50:43.123Z"
   },
   {
    "duration": 34,
    "start_time": "2025-08-01T19:50:43.252Z"
   },
   {
    "duration": 26,
    "start_time": "2025-08-01T19:50:43.287Z"
   },
   {
    "duration": 12,
    "start_time": "2025-08-01T19:50:43.314Z"
   },
   {
    "duration": 8,
    "start_time": "2025-08-01T19:50:43.327Z"
   },
   {
    "duration": 50,
    "start_time": "2025-08-01T19:50:43.336Z"
   },
   {
    "duration": 26,
    "start_time": "2025-08-01T19:50:43.388Z"
   },
   {
    "duration": 87,
    "start_time": "2025-08-01T19:50:43.415Z"
   },
   {
    "duration": 211,
    "start_time": "2025-08-01T19:50:43.503Z"
   },
   {
    "duration": 562,
    "start_time": "2025-08-01T19:50:43.716Z"
   },
   {
    "duration": 136,
    "start_time": "2025-08-01T19:50:44.280Z"
   },
   {
    "duration": 1077,
    "start_time": "2025-08-01T19:50:44.417Z"
   },
   {
    "duration": 443,
    "start_time": "2025-08-01T19:50:45.496Z"
   },
   {
    "duration": 113,
    "start_time": "2025-08-01T19:50:45.940Z"
   },
   {
    "duration": 816,
    "start_time": "2025-08-01T19:50:46.055Z"
   },
   {
    "duration": 370,
    "start_time": "2025-08-01T19:50:46.873Z"
   },
   {
    "duration": 44,
    "start_time": "2025-08-01T19:50:47.244Z"
   },
   {
    "duration": 32,
    "start_time": "2025-08-01T19:50:47.289Z"
   },
   {
    "duration": 926,
    "start_time": "2025-08-01T19:50:47.322Z"
   },
   {
    "duration": 26,
    "start_time": "2025-08-01T19:50:48.250Z"
   },
   {
    "duration": 611,
    "start_time": "2025-08-01T19:50:48.278Z"
   },
   {
    "duration": 47,
    "start_time": "2025-08-01T19:50:48.891Z"
   },
   {
    "duration": 69,
    "start_time": "2025-08-01T19:50:48.940Z"
   },
   {
    "duration": 222,
    "start_time": "2025-08-01T19:50:49.013Z"
   },
   {
    "duration": 12,
    "start_time": "2025-08-01T19:50:49.236Z"
   },
   {
    "duration": 27,
    "start_time": "2025-08-01T19:50:49.250Z"
   },
   {
    "duration": 170,
    "start_time": "2025-08-01T19:50:49.279Z"
   },
   {
    "duration": 22,
    "start_time": "2025-08-01T19:50:49.450Z"
   },
   {
    "duration": 32,
    "start_time": "2025-08-01T19:50:49.474Z"
   },
   {
    "duration": 12,
    "start_time": "2025-08-01T19:52:17.577Z"
   },
   {
    "duration": 47,
    "start_time": "2025-08-01T19:59:49.532Z"
   },
   {
    "duration": 46,
    "start_time": "2025-08-01T20:00:07.062Z"
   }
  ],
  "colab": {
   "provenance": []
  },
  "kernelspec": {
   "display_name": "Python 3 (ipykernel)",
   "language": "python",
   "name": "python3"
  },
  "language_info": {
   "codemirror_mode": {
    "name": "ipython",
    "version": 3
   },
   "file_extension": ".py",
   "mimetype": "text/x-python",
   "name": "python",
   "nbconvert_exporter": "python",
   "pygments_lexer": "ipython3",
   "version": "3.9.5"
  },
  "toc": {
   "base_numbering": 1,
   "nav_menu": {},
   "number_sections": true,
   "sideBar": true,
   "skip_h1_title": true,
   "title_cell": "Table of Contents",
   "title_sidebar": "Contents",
   "toc_cell": false,
   "toc_position": {
    "height": "1016.36px",
    "left": "26px",
    "top": "110.78px",
    "width": "511.25px"
   },
   "toc_section_display": true,
   "toc_window_display": true
  }
 },
 "nbformat": 4,
 "nbformat_minor": 1
}
